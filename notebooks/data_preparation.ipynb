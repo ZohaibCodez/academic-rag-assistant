{
  "cells": [
    {
      "cell_type": "markdown",
      "metadata": {
        "id": "EwsJatn6AgoE"
      },
      "source": [
        "# **Data Preparation Pipeline**"
      ]
    },
    {
      "cell_type": "code",
      "source": [
        "from google.colab import userdata\n",
        "import os\n",
        "\n",
        "os.environ['GOOGLE_API_KEY'] = userdata.get(\"GOOGLE_API_KEY\")\n",
        "os.environ['HUGGINGFACEHUB_ACCESS_TOKEN'] = userdata.get(\"HUGGINGFACEHUB_ACCESS_TOKEN\")\n",
        "os.environ['OPENAI_API_KEY'] = userdata.get(\"OPENAI_API_KEY\")\n",
        "os.environ[\"PINECONE_API_KEY\"] = userdata.get(\"PINECONE_API_KEY\")"
      ],
      "metadata": {
        "id": "Ia2HDua_AgoP"
      },
      "execution_count": 1,
      "outputs": []
    },
    {
      "cell_type": "code",
      "source": [
        "import nest_asyncio\n",
        "nest_asyncio.apply()"
      ],
      "metadata": {
        "id": "Foq6F_oWLIow"
      },
      "execution_count": 2,
      "outputs": []
    },
    {
      "cell_type": "code",
      "source": [
        "!pip -q install langchain langchain-pinecone langchain-google-genai openai-agents langchain-community tiktoken python-dotenv pypdf langchain-huggingface sentence-transformers pinecone unstructured"
      ],
      "metadata": {
        "colab": {
          "base_uri": "https://localhost:8080/"
        },
        "id": "8sFc3y3_CM5y",
        "outputId": "79f01cd0-e8ba-40dd-8942-8fb7763592cf"
      },
      "execution_count": 3,
      "outputs": [
        {
          "output_type": "stream",
          "name": "stdout",
          "text": [
            "\u001b[?25l     \u001b[90m━━━━━━━━━━━━━━━━━━━━━━━━━━━━━━━━━━━━━━━━\u001b[0m \u001b[32m0.0/981.5 kB\u001b[0m \u001b[31m?\u001b[0m eta \u001b[36m-:--:--\u001b[0m\r\u001b[2K     \u001b[90m━━━━━━━━━━━━━━━━━━━━━━━━━━━━━━━━━━━━━━\u001b[0m \u001b[32m981.5/981.5 kB\u001b[0m \u001b[31m34.1 MB/s\u001b[0m eta \u001b[36m0:00:00\u001b[0m\n",
            "\u001b[?25h  Preparing metadata (setup.py) ... \u001b[?25l\u001b[?25hdone\n",
            "\u001b[2K   \u001b[90m━━━━━━━━━━━━━━━━━━━━━━━━━━━━━━━━━━━━━━━━\u001b[0m \u001b[32m50.7/50.7 kB\u001b[0m \u001b[31m3.5 MB/s\u001b[0m eta \u001b[36m0:00:00\u001b[0m\n",
            "\u001b[2K   \u001b[90m━━━━━━━━━━━━━━━━━━━━━━━━━━━━━━━━━━━━━━━━\u001b[0m \u001b[32m193.9/193.9 kB\u001b[0m \u001b[31m14.6 MB/s\u001b[0m eta \u001b[36m0:00:00\u001b[0m\n",
            "\u001b[2K   \u001b[90m━━━━━━━━━━━━━━━━━━━━━━━━━━━━━━━━━━━━━━━━\u001b[0m \u001b[32m2.5/2.5 MB\u001b[0m \u001b[31m49.0 MB/s\u001b[0m eta \u001b[36m0:00:00\u001b[0m\n",
            "\u001b[2K   \u001b[90m━━━━━━━━━━━━━━━━━━━━━━━━━━━━━━━━━━━━━━━━\u001b[0m \u001b[32m310.5/310.5 kB\u001b[0m \u001b[31m21.2 MB/s\u001b[0m eta \u001b[36m0:00:00\u001b[0m\n",
            "\u001b[2K   \u001b[90m━━━━━━━━━━━━━━━━━━━━━━━━━━━━━━━━━━━━━━━━\u001b[0m \u001b[32m587.6/587.6 kB\u001b[0m \u001b[31m36.6 MB/s\u001b[0m eta \u001b[36m0:00:00\u001b[0m\n",
            "\u001b[2K   \u001b[90m━━━━━━━━━━━━━━━━━━━━━━━━━━━━━━━━━━━━━━━━\u001b[0m \u001b[32m1.8/1.8 MB\u001b[0m \u001b[31m28.4 MB/s\u001b[0m eta \u001b[36m0:00:00\u001b[0m\n",
            "\u001b[2K   \u001b[90m━━━━━━━━━━━━━━━━━━━━━━━━━━━━━━━━━━━━━━━━\u001b[0m \u001b[32m1.4/1.4 MB\u001b[0m \u001b[31m61.6 MB/s\u001b[0m eta \u001b[36m0:00:00\u001b[0m\n",
            "\u001b[2K   \u001b[90m━━━━━━━━━━━━━━━━━━━━━━━━━━━━━━━━━━━━━━━━\u001b[0m \u001b[32m144.4/144.4 kB\u001b[0m \u001b[31m10.4 MB/s\u001b[0m eta \u001b[36m0:00:00\u001b[0m\n",
            "\u001b[2K   \u001b[90m━━━━━━━━━━━━━━━━━━━━━━━━━━━━━━━━━━━━━━━━\u001b[0m \u001b[32m75.0/75.0 kB\u001b[0m \u001b[31m5.5 MB/s\u001b[0m eta \u001b[36m0:00:00\u001b[0m\n",
            "\u001b[2K   \u001b[90m━━━━━━━━━━━━━━━━━━━━━━━━━━━━━━━━━━━━━━━━\u001b[0m \u001b[32m447.5/447.5 kB\u001b[0m \u001b[31m25.1 MB/s\u001b[0m eta \u001b[36m0:00:00\u001b[0m\n",
            "\u001b[2K   \u001b[90m━━━━━━━━━━━━━━━━━━━━━━━━━━━━━━━━━━━━━━━━\u001b[0m \u001b[32m948.1/948.1 kB\u001b[0m \u001b[31m36.9 MB/s\u001b[0m eta \u001b[36m0:00:00\u001b[0m\n",
            "\u001b[2K   \u001b[90m━━━━━━━━━━━━━━━━━━━━━━━━━━━━━━━━━━━━━━━━\u001b[0m \u001b[32m259.3/259.3 kB\u001b[0m \u001b[31m19.2 MB/s\u001b[0m eta \u001b[36m0:00:00\u001b[0m\n",
            "\u001b[2K   \u001b[90m━━━━━━━━━━━━━━━━━━━━━━━━━━━━━━━━━━━━━━━━\u001b[0m \u001b[32m64.7/64.7 kB\u001b[0m \u001b[31m4.9 MB/s\u001b[0m eta \u001b[36m0:00:00\u001b[0m\n",
            "\u001b[2K   \u001b[90m━━━━━━━━━━━━━━━━━━━━━━━━━━━━━━━━━━━━━━━━\u001b[0m \u001b[32m590.6/590.6 kB\u001b[0m \u001b[31m15.3 MB/s\u001b[0m eta \u001b[36m0:00:00\u001b[0m\n",
            "\u001b[2K   \u001b[90m━━━━━━━━━━━━━━━━━━━━━━━━━━━━━━━━━━━━━━━━\u001b[0m \u001b[32m167.6/167.6 kB\u001b[0m \u001b[31m13.1 MB/s\u001b[0m eta \u001b[36m0:00:00\u001b[0m\n",
            "\u001b[2K   \u001b[90m━━━━━━━━━━━━━━━━━━━━━━━━━━━━━━━━━━━━━━━━\u001b[0m \u001b[32m3.2/3.2 MB\u001b[0m \u001b[31m71.2 MB/s\u001b[0m eta \u001b[36m0:00:00\u001b[0m\n",
            "\u001b[2K   \u001b[90m━━━━━━━━━━━━━━━━━━━━━━━━━━━━━━━━━━━━━━━━\u001b[0m \u001b[32m207.8/207.8 kB\u001b[0m \u001b[31m13.3 MB/s\u001b[0m eta \u001b[36m0:00:00\u001b[0m\n",
            "\u001b[2K   \u001b[90m━━━━━━━━━━━━━━━━━━━━━━━━━━━━━━━━━━━━━━━━\u001b[0m \u001b[32m50.9/50.9 kB\u001b[0m \u001b[31m3.6 MB/s\u001b[0m eta \u001b[36m0:00:00\u001b[0m\n",
            "\u001b[2K   \u001b[90m━━━━━━━━━━━━━━━━━━━━━━━━━━━━━━━━━━━━━━━━\u001b[0m \u001b[32m65.5/65.5 kB\u001b[0m \u001b[31m4.9 MB/s\u001b[0m eta \u001b[36m0:00:00\u001b[0m\n",
            "\u001b[2K   \u001b[90m━━━━━━━━━━━━━━━━━━━━━━━━━━━━━━━━━━━━━━━━\u001b[0m \u001b[32m114.6/114.6 kB\u001b[0m \u001b[31m7.8 MB/s\u001b[0m eta \u001b[36m0:00:00\u001b[0m\n",
            "\u001b[?25h  Building wheel for langdetect (setup.py) ... \u001b[?25l\u001b[?25hdone\n",
            "\u001b[31mERROR: pip's dependency resolver does not currently take into account all the packages that are installed. This behaviour is the source of the following dependency conflicts.\n",
            "google-colab 1.0.0 requires requests==2.32.4, but you have requests 2.32.5 which is incompatible.\n",
            "google-generativeai 0.8.5 requires google-ai-generativelanguage==0.6.15, but you have google-ai-generativelanguage 0.7.0 which is incompatible.\u001b[0m\u001b[31m\n",
            "\u001b[0m"
          ]
        }
      ]
    },
    {
      "cell_type": "markdown",
      "source": [
        "# **Imports & API setup**"
      ],
      "metadata": {
        "id": "2Wd-yRXXI23j"
      }
    },
    {
      "cell_type": "code",
      "source": [
        "from langchain.text_splitter import RecursiveCharacterTextSplitter\n",
        "from langchain_google_genai import GoogleGenerativeAIEmbeddings,ChatGoogleGenerativeAI,GoogleGenerativeAI\n",
        "from langchain_community.vectorstores import FAISS\n",
        "from langchain_core.prompts import PromptTemplate\n",
        "from langchain_community.document_loaders import PyPDFLoader\n",
        "from langchain_huggingface import HuggingFaceEmbeddings\n",
        "from sentence_transformers import SentenceTransformer\n",
        "from pinecone import Pinecone, ServerlessSpec\n",
        "from langchain_pinecone import PineconeVectorStore\n",
        "import os"
      ],
      "metadata": {
        "id": "eRg5j-E_I8LB",
        "colab": {
          "base_uri": "https://localhost:8080/"
        },
        "outputId": "0f434c08-f681-44ab-9313-6ac9aea38c5c"
      },
      "execution_count": 4,
      "outputs": [
        {
          "output_type": "stream",
          "name": "stderr",
          "text": [
            "/usr/local/lib/python3.12/dist-packages/langchain_pinecone/__init__.py:3: LangChainDeprecationWarning: As of langchain-core 0.3.0, LangChain uses pydantic v2 internally. The langchain_core.pydantic_v1 module was a compatibility shim for pydantic v1, and should no longer be used. Please update the code to import from Pydantic directly.\n",
            "\n",
            "For example, replace imports like: `from langchain_core.pydantic_v1 import BaseModel`\n",
            "with: `from pydantic import BaseModel`\n",
            "or the v1 compatibility namespace if you are working in a code base that has not been fully upgraded to pydantic 2 yet. \tfrom pydantic.v1 import BaseModel\n",
            "\n",
            "  from langchain_pinecone.vectorstores import Pinecone, PineconeVectorStore\n"
          ]
        }
      ]
    },
    {
      "cell_type": "code",
      "source": [
        "pc = Pinecone(api_key=os.environ[\"PINECONE_API_KEY\"])\n",
        "embeddings = HuggingFaceEmbeddings(model_name=\"sentence-transformers/all-MiniLM-L6-v2\")"
      ],
      "metadata": {
        "id": "HCu7KxmOKUGa",
        "colab": {
          "base_uri": "https://localhost:8080/",
          "height": 493,
          "referenced_widgets": [
            "0ca0ea7792d74502913df6efdd1b2f54",
            "c2b0cb29ef2d4124966589f7266fb4c5",
            "25c873ded0944f089ee5982b5f32de0a",
            "6b33d1471c884a359f56fb9d136e5594",
            "4a8900e62cd94e649ed2db5879d5490e",
            "4d986992d5f140b585e5277804abda46",
            "28fb5a004aab41d0ba9a99b3411455d1",
            "4571d07f31c64a03935eb9f46d511315",
            "452a077d62ad4087b3bfff69d17141dc",
            "44e486c10ad749aca19472f6dd45c63e",
            "60e69f87d30a4ea19d3c4a2b19751ab8",
            "eff298f9588d46bdb4e91353d8ee1021",
            "77292895ac9e4f02bc5fbcb000f65a86",
            "f537a5868a4c4748b6a9afcbdf51fa60",
            "7515a5a4c3984d6dae7d9f653b340c92",
            "2b8c02bbdfe84bcc9cb8d629e4aa55f3",
            "9cd1b39771af495892a600297926719d",
            "14a805bc5d88459c81b6a747f26b2ea5",
            "3255ca55158c4fda8be14eb4a64c15df",
            "a001d228c4ab485c8b0c87e81ae1f643",
            "4ba198f11aa64e359563feb2256c4040",
            "40f44f5bd6eb4873943dd491c76a903e",
            "2a4b45d1b07b40e7867b33ef36fe98d3",
            "b4afdb3b18e14f9884da4c9712ad83bd",
            "686b71bfa9db43948b92f2a1acffc7e7",
            "5156ef1b66e64072b56050855b1ead61",
            "d34b1a7214124b828f3451f0088189e2",
            "90335b70300c4dda9b1ce461c4b0c1d4",
            "67120932bc91414993be87c1772c0d0e",
            "45dd7618b8ca4b48b6bd71578e9bf036",
            "ccf68d71426648b3b6a8cbe6ceba6078",
            "5aa3d02ad747438190867b5ef54cd98f",
            "845324928a634550ad08af62b3007f6b",
            "14157962a9de4ac89e44c9a2db779817",
            "bde6e380d6e94c079b18db0cfe2dd806",
            "03561191fa9d4815bc30e6b9d125e6f8",
            "99c1ac1cadc7435790409273248d5239",
            "9031ffb5bf3c47d380ffa94dcb7c7b2d",
            "96b4ab9268714bad9356d124b6e66dfd",
            "bca92ffefa794e41bc6eb18bfe451d71",
            "510935c192bb42798cf7f666ba471ee6",
            "390f3d1d2e5e45f0b976144bb84f8e62",
            "46c969bece164022b2a7ba1a61d9fdcd",
            "92e5ab8bce47430abbb69d39c0cf8def",
            "e7787db67d4f465495c97df595d1d016",
            "039719354af7492291dac2d27aa91a30",
            "a024ffbb97594e69926d90827553f385",
            "6a3a69bb0f244951a44b2974ef2b94a1",
            "52d1ea87074e4dfeaa41773b5f6ea0e1",
            "ec33873e268749259340066e5f5f7e25",
            "eec9e660a87944b08259565aea74fec2",
            "5d4079257ad74bec90f113eb1c7648af",
            "6756846f40464264995077dd3e127036",
            "61905ab870314ae9b0832f91400b0d7c",
            "21338d360acf40a5bafa2c624629326f",
            "0ee076693a494a9bb6fed09ff2e87813",
            "3929a93587f149199c12a6c0ecf210b3",
            "fea1b5aaf15a4bc194cfe1ce9a5cee5c",
            "e398207959264fc18f0264705b91dc6f",
            "d6971680c9a44760a5aaddb7eb70f206",
            "9d21c2c4cc2b4a118589e74f8fe9b05f",
            "824621c6ac104f46913311f02bf516f6",
            "3e1e36f36b0f41a4a62c18c9183f3ef4",
            "199ac4eb07d84e34aeb61348023deead",
            "1c640d67b0fb4db1a6ddae0a50559351",
            "11085ca56b554b26bf19b50379e5aba8",
            "5969d2b78cd348b5968a3e33d4de24ba",
            "7e5e67320c4a489da7e96a2b8fb41d94",
            "34ae4f2a96e94630a0be7b4730f4a7e3",
            "524a577747d9490d9c2ad1075bd731b2",
            "be3f2ed7a6e04477832d617dbc4b5ae5",
            "8b30fb07ad364cfeb89b37d9b182e97f",
            "e5b1260c0827493ea9fc0051b89bd288",
            "ca04f02d46624c87b546431230ff2516",
            "142f2b3b7eec44b392c067627d78c4ce",
            "808eae19175743d3aed22c06f04e3106",
            "0e996bef4c5147e7bd50e4bfc699deea",
            "0b39df5a6da74290a853eb50a9ef4721",
            "49480d9a76504113adbc5cd7ed22ffcf",
            "f51d994257114f069534ab46fad97b3a",
            "0397930728804022a8f307731d2f9f2e",
            "4046cad9fee24437828564a35e2539ce",
            "bfa6498206f54ceaa2975efbbbd81f6e",
            "007222c8763e476781c476477c94ef6d",
            "b87382325d4d4b449c807633527f8e5a",
            "6055e51e57704433bd4682a199031747",
            "595c44b5e9b24fb38bf2180a5f8a6075",
            "97f051b400d848aa89896956e84716c4",
            "3c386c0f04654bd799f3ad8356942534",
            "e048f0d971994642beffdcad5fc03473",
            "af62def459664d85ba737ccecd26f1d6",
            "8068449210564e7b94ae4601e95c0cab",
            "21088373eced49949481054b1f0bba29",
            "8a38107580d14a21a271ca7b6b835df0",
            "ce975ff292ad493aab96d0f1a9b83b08",
            "94217d7f09b5406a8fe6b75ee080615b",
            "e507226972104df19babd36794537d2a",
            "dbc87d69525049098a4156f38b129c09",
            "13ce6077a4604aefa0de6a6ce5fdd79b",
            "3bad088291fb497d9b2a06711f66ebc6",
            "2ed5faeca67048d19108451664db5aea",
            "9b9b52ef5eb34a82812795495604c55f",
            "fc2ab3baadd54433b481265e4e369b22",
            "17eb516f2599460393123fa56fa61b95",
            "b640464af25340e5871c42269bcd15ac",
            "f40a8f374267487784bd75ac699c5956",
            "150544dd07984ea5adc598749a5005ce",
            "7210aea2a57f4d86ad86b01520720fa1",
            "83d6a060934f43cfa961ad3e37d69c7a",
            "497c829f39a1462c8a23440086a8a7c5",
            "f573cf595f704072aa80922920408ecd",
            "ad349a4ec8264434bce11f8c2549f568",
            "e0b07a5f9a9d4657b78ad505262d4d8f",
            "3abe3c89ae234a4992d1248b44904dd5",
            "2775bafe628642e7ad4936e1922e2f68",
            "a09bcf1d2ea8429b8335e8b5c395f6b6",
            "043db8ec932e47e6b823d1d766e15448",
            "cf7b6dd6010d49e9948fe5f893b2734a",
            "91adff60e2b64c7f94c8c2dc890b7225",
            "85aff54b39d2438284db3e7d57acf6d4",
            "c878f561ed144f519db3114c035b6267"
          ]
        },
        "outputId": "be2f905a-ee4b-40dd-b4d7-3a5fd471f2b7"
      },
      "execution_count": 5,
      "outputs": [
        {
          "output_type": "stream",
          "name": "stderr",
          "text": [
            "/usr/local/lib/python3.12/dist-packages/huggingface_hub/utils/_auth.py:94: UserWarning: \n",
            "The secret `HF_TOKEN` does not exist in your Colab secrets.\n",
            "To authenticate with the Hugging Face Hub, create a token in your settings tab (https://huggingface.co/settings/tokens), set it as secret in your Google Colab and restart your session.\n",
            "You will be able to reuse this secret in all of your notebooks.\n",
            "Please note that authentication is recommended but still optional to access public models or datasets.\n",
            "  warnings.warn(\n"
          ]
        },
        {
          "output_type": "display_data",
          "data": {
            "text/plain": [
              "modules.json:   0%|          | 0.00/349 [00:00<?, ?B/s]"
            ],
            "application/vnd.jupyter.widget-view+json": {
              "version_major": 2,
              "version_minor": 0,
              "model_id": "0ca0ea7792d74502913df6efdd1b2f54"
            }
          },
          "metadata": {}
        },
        {
          "output_type": "display_data",
          "data": {
            "text/plain": [
              "config_sentence_transformers.json:   0%|          | 0.00/116 [00:00<?, ?B/s]"
            ],
            "application/vnd.jupyter.widget-view+json": {
              "version_major": 2,
              "version_minor": 0,
              "model_id": "eff298f9588d46bdb4e91353d8ee1021"
            }
          },
          "metadata": {}
        },
        {
          "output_type": "display_data",
          "data": {
            "text/plain": [
              "README.md: 0.00B [00:00, ?B/s]"
            ],
            "application/vnd.jupyter.widget-view+json": {
              "version_major": 2,
              "version_minor": 0,
              "model_id": "2a4b45d1b07b40e7867b33ef36fe98d3"
            }
          },
          "metadata": {}
        },
        {
          "output_type": "display_data",
          "data": {
            "text/plain": [
              "sentence_bert_config.json:   0%|          | 0.00/53.0 [00:00<?, ?B/s]"
            ],
            "application/vnd.jupyter.widget-view+json": {
              "version_major": 2,
              "version_minor": 0,
              "model_id": "14157962a9de4ac89e44c9a2db779817"
            }
          },
          "metadata": {}
        },
        {
          "output_type": "display_data",
          "data": {
            "text/plain": [
              "config.json:   0%|          | 0.00/612 [00:00<?, ?B/s]"
            ],
            "application/vnd.jupyter.widget-view+json": {
              "version_major": 2,
              "version_minor": 0,
              "model_id": "e7787db67d4f465495c97df595d1d016"
            }
          },
          "metadata": {}
        },
        {
          "output_type": "display_data",
          "data": {
            "text/plain": [
              "model.safetensors:   0%|          | 0.00/90.9M [00:00<?, ?B/s]"
            ],
            "application/vnd.jupyter.widget-view+json": {
              "version_major": 2,
              "version_minor": 0,
              "model_id": "0ee076693a494a9bb6fed09ff2e87813"
            }
          },
          "metadata": {}
        },
        {
          "output_type": "display_data",
          "data": {
            "text/plain": [
              "tokenizer_config.json:   0%|          | 0.00/350 [00:00<?, ?B/s]"
            ],
            "application/vnd.jupyter.widget-view+json": {
              "version_major": 2,
              "version_minor": 0,
              "model_id": "5969d2b78cd348b5968a3e33d4de24ba"
            }
          },
          "metadata": {}
        },
        {
          "output_type": "display_data",
          "data": {
            "text/plain": [
              "vocab.txt: 0.00B [00:00, ?B/s]"
            ],
            "application/vnd.jupyter.widget-view+json": {
              "version_major": 2,
              "version_minor": 0,
              "model_id": "0b39df5a6da74290a853eb50a9ef4721"
            }
          },
          "metadata": {}
        },
        {
          "output_type": "display_data",
          "data": {
            "text/plain": [
              "tokenizer.json: 0.00B [00:00, ?B/s]"
            ],
            "application/vnd.jupyter.widget-view+json": {
              "version_major": 2,
              "version_minor": 0,
              "model_id": "3c386c0f04654bd799f3ad8356942534"
            }
          },
          "metadata": {}
        },
        {
          "output_type": "display_data",
          "data": {
            "text/plain": [
              "special_tokens_map.json:   0%|          | 0.00/112 [00:00<?, ?B/s]"
            ],
            "application/vnd.jupyter.widget-view+json": {
              "version_major": 2,
              "version_minor": 0,
              "model_id": "3bad088291fb497d9b2a06711f66ebc6"
            }
          },
          "metadata": {}
        },
        {
          "output_type": "display_data",
          "data": {
            "text/plain": [
              "config.json:   0%|          | 0.00/190 [00:00<?, ?B/s]"
            ],
            "application/vnd.jupyter.widget-view+json": {
              "version_major": 2,
              "version_minor": 0,
              "model_id": "f573cf595f704072aa80922920408ecd"
            }
          },
          "metadata": {}
        }
      ]
    },
    {
      "cell_type": "code",
      "metadata": {
        "id": "18f0c623"
      },
      "source": [
        "import time\n",
        "\n",
        "index_name = \"semester-books\"\n",
        "\n",
        "# if index_name not in pc.list_indexes():\n",
        "#     pc.create_index(\n",
        "#         index_name,\n",
        "#         dimension=384,\n",
        "#         metric='cosine',\n",
        "#         spec=ServerlessSpec(cloud='aws', region='us-east-1')\n",
        "#     )\n",
        "#     # wait for index to be initialized\n",
        "#     while not pc.describe_index(index_name).status.ready:\n",
        "#         time.sleep(1)\n",
        "\n",
        "PINECONE = PineconeVectorStore(\n",
        "    index_name=index_name,\n",
        "    embedding=embeddings,\n",
        "    namespace=\"linear_algebra\"\n",
        ")"
      ],
      "execution_count": 6,
      "outputs": []
    },
    {
      "cell_type": "markdown",
      "source": [
        "# **OpenAI Agents SDK Testing**"
      ],
      "metadata": {
        "id": "f_pd7vRuJNKH"
      }
    },
    {
      "cell_type": "code",
      "source": [
        "from agents import Agent,Runner,OpenAIChatCompletionsModel\n",
        "from openai import AsyncOpenAI\n",
        "\n",
        "external_client = AsyncOpenAI(\n",
        "    base_url = \"https://generativelanguage.googleapis.com/v1beta/openai/\",\n",
        "    api_key = os.getenv(\"GOOGLE_API_KEY\"),\n",
        ")\n",
        "\n",
        "model = OpenAIChatCompletionsModel(\n",
        "    model=\"gemini-1.5-flash\",\n",
        "    openai_client = external_client,\n",
        ")"
      ],
      "metadata": {
        "id": "wfOlHB5tJStT"
      },
      "execution_count": 7,
      "outputs": []
    },
    {
      "cell_type": "code",
      "source": [
        "agent:Agent = Agent(\n",
        "    name=\"Assistant\",\n",
        "    instructions=\"You are a helpful assistant\",\n",
        "    model=model,\n",
        ")\n",
        "\n",
        "response = Runner.run_sync(agent,\"Hi\")\n",
        "print(response.final_output)"
      ],
      "metadata": {
        "colab": {
          "base_uri": "https://localhost:8080/"
        },
        "id": "UlZq0sQiKXGA",
        "outputId": "a386cec3-8776-4957-f01b-449d3c985cd6"
      },
      "execution_count": 8,
      "outputs": [
        {
          "output_type": "stream",
          "name": "stdout",
          "text": [
            "Hi there! How can I help you today?\n",
            "\n"
          ]
        }
      ]
    },
    {
      "cell_type": "code",
      "source": [
        "chat_model = ChatGoogleGenerativeAI(model=\"gemini-1.5-flash\")\n",
        "chat_model.invoke(\"HI\")"
      ],
      "metadata": {
        "colab": {
          "base_uri": "https://localhost:8080/"
        },
        "id": "tiss_-aVKmIO",
        "outputId": "050e18de-e6f9-402d-f6c4-723c0d24eab5"
      },
      "execution_count": 9,
      "outputs": [
        {
          "output_type": "execute_result",
          "data": {
            "text/plain": [
              "AIMessage(content='Hi there! How can I help you today?', additional_kwargs={}, response_metadata={'prompt_feedback': {'block_reason': 0, 'safety_ratings': []}, 'finish_reason': 'STOP', 'model_name': 'gemini-1.5-flash', 'safety_ratings': []}, id='run--5acde8be-c8d5-407a-8cc9-6348d19c8d5b-0', usage_metadata={'input_tokens': 1, 'output_tokens': 11, 'total_tokens': 12, 'input_token_details': {'cache_read': 0}})"
            ]
          },
          "metadata": {},
          "execution_count": 9
        }
      ]
    },
    {
      "cell_type": "markdown",
      "source": [
        "# **Step 1a → Multi-Document Ingestion (per subject)**"
      ],
      "metadata": {
        "id": "yEYGNSSILVg7"
      }
    },
    {
      "cell_type": "markdown",
      "source": [
        "## **Linear Algebra**"
      ],
      "metadata": {
        "id": "tDBulX-EUf9Y"
      }
    },
    {
      "cell_type": "code",
      "source": [
        "loader = PyPDFLoader(\"/content/Linear_Algebra.pdf\")\n",
        "docs = loader.load()"
      ],
      "metadata": {
        "id": "Xaw5tGH1La08"
      },
      "execution_count": 10,
      "outputs": []
    },
    {
      "cell_type": "code",
      "source": [
        "len(docs)"
      ],
      "metadata": {
        "id": "V5SqrRNGRRaa",
        "outputId": "4e9172c3-3afb-4420-895a-410d6a82978b",
        "colab": {
          "base_uri": "https://localhost:8080/"
        }
      },
      "execution_count": 11,
      "outputs": [
        {
          "output_type": "execute_result",
          "data": {
            "text/plain": [
              "579"
            ]
          },
          "metadata": {},
          "execution_count": 11
        }
      ]
    },
    {
      "cell_type": "code",
      "source": [
        "docs[340]"
      ],
      "metadata": {
        "id": "e82dPFa0RVLK",
        "outputId": "ffc50527-ba1a-417e-ff0e-3f0dc10b220f",
        "colab": {
          "base_uri": "https://localhost:8080/"
        }
      },
      "execution_count": 12,
      "outputs": [
        {
          "output_type": "execute_result",
          "data": {
            "text/plain": [
              "Document(metadata={'producer': 'xdvipdfmx (0.7.9)', 'creator': 'HELIOS pdfcat', 'creationdate': '2015-01-21T14:42:45+05:30', 'codemantra, llc': 'http://www.codemantra.com', 'moddate': \"D:20240310035050Z00'00\", 'author': '', 'universal pdf': 'The process that creates this PDF constitutes a trade secret of codeMantra, LLC and is protected by the copyright laws of the United States', 'title': '0321982630.pdf', 'source': '/content/Linear_Algebra.pdf', 'total_pages': 579, 'page': 340, 'page_label': '324'}, page_content='324 CHAPTER 5 Eigenvalues and Eigenvectors\\nScale Ax2 by 1=\\x162 to get x3, and so on. The results of MATLAB calculations for the\\nﬁrst ﬁve iterations are arranged in Table 2.\\nTABLE 2 The Power Method for Example 2\\nk 0 1 2 3 4 5\\nxk\\n\\x140\\n1\\n\\x15 \\x14 1\\n:4\\n\\x15 \\x14 1\\n:225\\n\\x15 \\x14 1\\n:2035\\n\\x15 \\x14 1\\n:2005\\n\\x15 \\x14 1\\n:20007\\n\\x15\\nAxk\\n\\x145\\n2\\n\\x15 \\x14 8\\n1:8\\n\\x15 \\x14 7:125\\n1:450\\n\\x15 \\x14 7:0175\\n1:4070\\n\\x15 \\x14 7:0025\\n1:4010\\n\\x15 \\x14 7:00036\\n1:40014\\n\\x15\\n\\x16k 5 8 7.125 7.0175 7.0025 7.00036\\nThe evidence from Table 2 strongly suggests thatfxkg approaches .1; :2/ and f\\x16kg\\napproaches 7. If so, then.1; :2/ is an eigenvector and 7 is the dominant eigenvalue. This\\nis easily veriﬁed by computing\\nA\\n\\x14 1\\n:2\\n\\x15\\nD\\n\\x146 5\\n1 2\\n\\x15\\x14 1\\n:2\\n\\x15\\nD\\n\\x14 7\\n1:4\\n\\x15\\nD 7\\n\\x14 1\\n:2\\n\\x15\\nThe sequence f\\x16kg in Example 2 converged quickly to\\x151 D 7 because the second\\neigenvalue of A was much smaller. (In fact,\\x152 D 1.) In general, the rate of convergence\\ndepends on the ratioj\\x152=\\x151j, because the vectorc2.\\x152=\\x151/kv2 in equation (2) is the main\\nsource of error when using a scaled version of Akx as an estimate of c1v1. (The other\\nfractions \\x15j =\\x151 are likely to be smaller.) Ifj\\x152=\\x151j is close to 1, thenf\\x16kg and fxkg can\\nconverge very slowly, and other approximation methods may be preferred.\\nWith the power method, there is a slight chance that the chosen initial vector x\\nwill have no component in the v1 direction (when c1 D 0). But computer rounding\\nerrors during the calculations of the xk are likely to create a vector with at least a small\\ncomponent in the direction ofv1. If that occurs, thexk will start to converge to a multiple\\nof v1.\\nThe Inverse Power Method\\nThis method provides an approximation for any eigenvalue, provided a good initial\\nestimate \\x0b of the eigenvalue \\x15 is known. In this case, we letB D .A \\x00 \\x0bI/\\x001 and apply\\nthe power method toB. It can be shown that if the eigenvalues ofA are \\x151; : : : ; \\x15n, then\\nthe eigenvalues of B are\\n1\\n\\x151 \\x00 \\x0b ; 1\\n\\x152 \\x00 \\x0b ; : : : ; 1\\n\\x15n \\x00 \\x0b\\nand the corresponding eigenvectors are the same as those for A. (See Exercises 15 and\\n16.)\\nSuppose, for example, that \\x0b is closer to \\x152 than to the other eigenvalues of A.\\nThen 1=.\\x152 \\x00 \\x0b/ will be a strictly dominant eigenvalue of B. If\\x0b is really close to \\x152,\\nthen 1=.\\x152 \\x00 \\x0b/ is much larger than the other eigenvalues of B, and the inverse power\\nmethod produces a very rapid approximation to \\x152 for almost all choices of x0. The\\nfollowing algorithm gives the details.\\nSECOND REVISED PAGES')"
            ]
          },
          "metadata": {},
          "execution_count": 12
        }
      ]
    },
    {
      "cell_type": "markdown",
      "source": [
        "## **Discrete Structures**"
      ],
      "metadata": {
        "id": "grWVAhGDUeHq"
      }
    },
    {
      "cell_type": "code",
      "source": [
        "loader1 = PyPDFLoader(\"/content/Discrete mathematics and its applications-BY Kenneth H. Rosen -McGraw-Hill (2013).pdf\")\n",
        "docs1 = loader.load()"
      ],
      "metadata": {
        "id": "yGyX1ZNrUsDx"
      },
      "execution_count": 13,
      "outputs": []
    },
    {
      "cell_type": "code",
      "source": [
        "len(docs1)"
      ],
      "metadata": {
        "id": "FScoA_n_U5uA",
        "outputId": "0bbd0f5e-5dfe-4864-858f-eac43a98e6ee",
        "colab": {
          "base_uri": "https://localhost:8080/"
        }
      },
      "execution_count": 14,
      "outputs": [
        {
          "output_type": "execute_result",
          "data": {
            "text/plain": [
              "579"
            ]
          },
          "metadata": {},
          "execution_count": 14
        }
      ]
    },
    {
      "cell_type": "code",
      "source": [
        "docs1[340]"
      ],
      "metadata": {
        "id": "O7mw94-YU8ak",
        "outputId": "39d237df-45d6-4869-ba76-77c0604c0720",
        "colab": {
          "base_uri": "https://localhost:8080/"
        }
      },
      "execution_count": 15,
      "outputs": [
        {
          "output_type": "execute_result",
          "data": {
            "text/plain": [
              "Document(metadata={'producer': 'xdvipdfmx (0.7.9)', 'creator': 'HELIOS pdfcat', 'creationdate': '2015-01-21T14:42:45+05:30', 'codemantra, llc': 'http://www.codemantra.com', 'moddate': \"D:20240310035050Z00'00\", 'author': '', 'universal pdf': 'The process that creates this PDF constitutes a trade secret of codeMantra, LLC and is protected by the copyright laws of the United States', 'title': '0321982630.pdf', 'source': '/content/Linear_Algebra.pdf', 'total_pages': 579, 'page': 340, 'page_label': '324'}, page_content='324 CHAPTER 5 Eigenvalues and Eigenvectors\\nScale Ax2 by 1=\\x162 to get x3, and so on. The results of MATLAB calculations for the\\nﬁrst ﬁve iterations are arranged in Table 2.\\nTABLE 2 The Power Method for Example 2\\nk 0 1 2 3 4 5\\nxk\\n\\x140\\n1\\n\\x15 \\x14 1\\n:4\\n\\x15 \\x14 1\\n:225\\n\\x15 \\x14 1\\n:2035\\n\\x15 \\x14 1\\n:2005\\n\\x15 \\x14 1\\n:20007\\n\\x15\\nAxk\\n\\x145\\n2\\n\\x15 \\x14 8\\n1:8\\n\\x15 \\x14 7:125\\n1:450\\n\\x15 \\x14 7:0175\\n1:4070\\n\\x15 \\x14 7:0025\\n1:4010\\n\\x15 \\x14 7:00036\\n1:40014\\n\\x15\\n\\x16k 5 8 7.125 7.0175 7.0025 7.00036\\nThe evidence from Table 2 strongly suggests thatfxkg approaches .1; :2/ and f\\x16kg\\napproaches 7. If so, then.1; :2/ is an eigenvector and 7 is the dominant eigenvalue. This\\nis easily veriﬁed by computing\\nA\\n\\x14 1\\n:2\\n\\x15\\nD\\n\\x146 5\\n1 2\\n\\x15\\x14 1\\n:2\\n\\x15\\nD\\n\\x14 7\\n1:4\\n\\x15\\nD 7\\n\\x14 1\\n:2\\n\\x15\\nThe sequence f\\x16kg in Example 2 converged quickly to\\x151 D 7 because the second\\neigenvalue of A was much smaller. (In fact,\\x152 D 1.) In general, the rate of convergence\\ndepends on the ratioj\\x152=\\x151j, because the vectorc2.\\x152=\\x151/kv2 in equation (2) is the main\\nsource of error when using a scaled version of Akx as an estimate of c1v1. (The other\\nfractions \\x15j =\\x151 are likely to be smaller.) Ifj\\x152=\\x151j is close to 1, thenf\\x16kg and fxkg can\\nconverge very slowly, and other approximation methods may be preferred.\\nWith the power method, there is a slight chance that the chosen initial vector x\\nwill have no component in the v1 direction (when c1 D 0). But computer rounding\\nerrors during the calculations of the xk are likely to create a vector with at least a small\\ncomponent in the direction ofv1. If that occurs, thexk will start to converge to a multiple\\nof v1.\\nThe Inverse Power Method\\nThis method provides an approximation for any eigenvalue, provided a good initial\\nestimate \\x0b of the eigenvalue \\x15 is known. In this case, we letB D .A \\x00 \\x0bI/\\x001 and apply\\nthe power method toB. It can be shown that if the eigenvalues ofA are \\x151; : : : ; \\x15n, then\\nthe eigenvalues of B are\\n1\\n\\x151 \\x00 \\x0b ; 1\\n\\x152 \\x00 \\x0b ; : : : ; 1\\n\\x15n \\x00 \\x0b\\nand the corresponding eigenvectors are the same as those for A. (See Exercises 15 and\\n16.)\\nSuppose, for example, that \\x0b is closer to \\x152 than to the other eigenvalues of A.\\nThen 1=.\\x152 \\x00 \\x0b/ will be a strictly dominant eigenvalue of B. If\\x0b is really close to \\x152,\\nthen 1=.\\x152 \\x00 \\x0b/ is much larger than the other eigenvalues of B, and the inverse power\\nmethod produces a very rapid approximation to \\x152 for almost all choices of x0. The\\nfollowing algorithm gives the details.\\nSECOND REVISED PAGES')"
            ]
          },
          "metadata": {},
          "execution_count": 15
        }
      ]
    },
    {
      "cell_type": "markdown",
      "source": [
        "# **Step 1b → Subject-Aware Text Splitting**\n"
      ],
      "metadata": {
        "id": "tR39Nev0MWMv"
      }
    },
    {
      "cell_type": "markdown",
      "source": [
        "## **Linear Algebra**"
      ],
      "metadata": {
        "id": "cYav4drbVAxK"
      }
    },
    {
      "cell_type": "code",
      "source": [
        "splitter = RecursiveCharacterTextSplitter(\n",
        "    chunk_size=1000,\n",
        "    chunk_overlap=200,\n",
        ")\n",
        "chunks = splitter.split_documents(docs)"
      ],
      "metadata": {
        "id": "I_GscfcDNpGt"
      },
      "execution_count": null,
      "outputs": []
    },
    {
      "cell_type": "code",
      "source": [
        "len(chunks)"
      ],
      "metadata": {
        "colab": {
          "base_uri": "https://localhost:8080/"
        },
        "id": "8TKC7_W0NrZX",
        "outputId": "5d77eab7-6382-487f-c353-9131b2ef10a3"
      },
      "execution_count": null,
      "outputs": [
        {
          "output_type": "execute_result",
          "data": {
            "text/plain": [
              "1968"
            ]
          },
          "metadata": {},
          "execution_count": 45
        }
      ]
    },
    {
      "cell_type": "code",
      "source": [
        "chunks[200]"
      ],
      "metadata": {
        "colab": {
          "base_uri": "https://localhost:8080/"
        },
        "id": "SFJRFIinNteJ",
        "outputId": "8dfadf1b-7681-4ba3-ba9e-c5c2c1747747"
      },
      "execution_count": null,
      "outputs": [
        {
          "output_type": "execute_result",
          "data": {
            "text/plain": [
              "Document(metadata={'producer': 'xdvipdfmx (0.7.9)', 'creator': 'HELIOS pdfcat', 'creationdate': '2015-01-21T14:42:45+05:30', 'codemantra, llc': 'http://www.codemantra.com', 'moddate': \"D:20240310035050Z00'00\", 'author': '', 'universal pdf': 'The process that creates this PDF constitutes a trade secret of codeMantra, LLC and is protected by the copyright laws of the United States', 'title': '0321982630.pdf', 'source': '/content/Linear_Algebra.pdf', 'total_pages': 579, 'page': 64, 'page_label': '48'}, page_content='48 CHAPTER 1 Linear Equations in Linear Algebra\\n1.5 EXERCISES\\nIn Exercises 1–4, determine if the system has a nontrivial solution.\\nTry to use as few row operations as possible.\\n1. 2x1 \\x00 5x2 C 8x3 D 0\\n\\x002x1 \\x00 7x2 C x3 D 0\\n4x1 C 2x2 C 7x3 D 0\\n2. x1 \\x00 3x2 C 7x3 D 0\\n\\x002x1 C x2 \\x00 4x3 D 0\\nx1 C 2x2 C 9x3 D 0\\n3. \\x003x1 C 5x2 \\x00 7x3 D 0\\n\\x006x1 C 7x2 C x3 D 0\\n4. \\x005x1 C 7x2 C 9x3 D 0\\nx1 \\x00 2x2 C 6x3 D 0\\nIn Exercises 5 and 6, follow the method of Examples 1 and 2\\nto write the solution set of the given homogeneous system in\\nparametric vector form.\\n5. x1 C 3x2 C x3 D 0\\n\\x004x1 \\x00 9x2 C 2x3 D 0\\n\\x00 3x2 \\x00 6x3 D 0\\n6. x1 C 3x2 \\x00 5x3 D 0\\nx1 C 4x2 \\x00 8x3 D 0\\n\\x003x1 \\x00 7x2 C 9x3 D 0\\nIn Exercises 7–12, describe all solutions ofAx D 0 in parametric\\nvector form, whereA is row equivalent to the given matrix.\\n7.\\n\\x14 1 3 \\x003 7\\n0 1 \\x004 5\\n\\x15\\n8.\\n\\x14 1 \\x002 \\x009 5\\n0 1 2 \\x006\\n\\x15\\n9.\\n\\x14 3 \\x009 6\\n\\x001 3 \\x002\\n\\x15\\n10.\\n\\x14 1 3 0 \\x004\\n2 6 0 \\x008\\n\\x15\\n11.\\n2\\n664\\n1 \\x004 \\x002 0 3 \\x005\\n0 0 1 0 0 \\x001\\n0 0 0 0 1 \\x004\\n0 0 0 0 0 0\\n3\\n775\\n12.\\n2\\n664\\n1 5 2 \\x006 9 0\\n0 0 1 \\x007 4 \\x008\\n0 0 0 0 0 1')"
            ]
          },
          "metadata": {},
          "execution_count": 46
        }
      ]
    },
    {
      "cell_type": "code",
      "source": [
        "vector_store = PINECONE.add_documents(chunks,namespace=\"linear_algebra\")"
      ],
      "metadata": {
        "id": "zHb3TJNVNu78"
      },
      "execution_count": null,
      "outputs": []
    },
    {
      "cell_type": "markdown",
      "source": [
        "## **Discrete Structures**"
      ],
      "metadata": {
        "id": "CEemxEF6VDrG"
      }
    },
    {
      "cell_type": "code",
      "source": [
        "PINECONE_DIS = PineconeVectorStore(\n",
        "    index_name=index_name,\n",
        "    embedding=embeddings,\n",
        "    namespace=\"discrete_structures\"\n",
        ")"
      ],
      "metadata": {
        "id": "44TBw0qrVIJv"
      },
      "execution_count": 16,
      "outputs": []
    },
    {
      "cell_type": "code",
      "source": [
        "splitter1 = RecursiveCharacterTextSplitter(\n",
        "    chunk_size=1000,\n",
        "    chunk_overlap=200,\n",
        ")\n",
        "chunks1 = splitter1.split_documents(docs1)"
      ],
      "metadata": {
        "id": "usUsJm8wVSTc"
      },
      "execution_count": null,
      "outputs": []
    },
    {
      "cell_type": "code",
      "source": [
        "len(chunks1)"
      ],
      "metadata": {
        "id": "m2L6Nj8EVirv",
        "outputId": "d483c712-0849-4964-a23d-041a80f23333",
        "colab": {
          "base_uri": "https://localhost:8080/"
        }
      },
      "execution_count": null,
      "outputs": [
        {
          "output_type": "execute_result",
          "data": {
            "text/plain": [
              "1968"
            ]
          },
          "metadata": {},
          "execution_count": 59
        }
      ]
    },
    {
      "cell_type": "code",
      "source": [
        "chunks1[189]"
      ],
      "metadata": {
        "id": "9KM7m3AcVk7N",
        "outputId": "181fce4f-ced3-4061-87a5-5489e94ec81f",
        "colab": {
          "base_uri": "https://localhost:8080/"
        }
      },
      "execution_count": null,
      "outputs": [
        {
          "output_type": "execute_result",
          "data": {
            "text/plain": [
              "Document(metadata={'producer': 'xdvipdfmx (0.7.9)', 'creator': 'HELIOS pdfcat', 'creationdate': '2015-01-21T14:42:45+05:30', 'codemantra, llc': 'http://www.codemantra.com', 'moddate': \"D:20240310035050Z00'00\", 'author': '', 'universal pdf': 'The process that creates this PDF constitutes a trade secret of codeMantra, LLC and is protected by the copyright laws of the United States', 'title': '0321982630.pdf', 'source': '/content/Linear_Algebra.pdf', 'total_pages': 579, 'page': 60, 'page_label': '44'}, page_content='2\\n4\\n3 5 \\x004 0\\n\\x003 \\x002 4 0\\n6 1 \\x008 0\\n3\\n5 \\x18\\n2\\n4\\n3 5 \\x004 0\\n0 3 0 0\\n0 \\x009 0 0\\n3\\n5 \\x18\\n2\\n4\\n3 5 \\x004 0\\n0 3 0 0\\n0 0 0 0\\n3\\n5\\nSince x3 is a free variable, Ax D 0 has nontrivial solutions (one for each choice of x3).\\nTo describe the solution set, continue the row reduction of\\x8c A 0 \\x8d to reduced echelon\\nform:\\n2\\n4\\n1 0 \\x004\\n3 0\\n0 1 0 0\\n0 0 0 0\\n3\\n5\\nx1 \\x00 4\\n3 x3 D 0\\nx2 D 0\\n0 D 0\\nSolve for the basic variables x1 and x2 and obtain x1 D 4\\n3 x3, x2 D 0, withx3 free. As a\\nvector, the general solution ofAx D 0 has the form\\nx D\\n2\\n64\\nx1\\nx2\\nx3\\n3\\n75 D\\n2\\n64\\n4\\n3 x3\\n0\\nx3\\n3\\n75 D x3\\n2\\n64\\n4\\n3\\n0\\n1\\n3\\n75 D x3v; where v D\\n2\\n64\\n4\\n3\\n0\\n1\\n3\\n75\\nHere x3 is factored out of the expression for the general solution vector. This shows that\\nevery solution of Ax D 0 in this case is a scalar multiple of v. The trivial solution is\\nobtained by choosing x3 D 0: Geometrically, the solution set is a line through0 in R3.\\nSee Figure 1.\\n0\\nv\\nx3\\nx1\\nSpan{v}\\nx2FIGURE 1\\nNotice that a nontrivial solution x can have some zero entries so long as not all of')"
            ]
          },
          "metadata": {},
          "execution_count": 60
        }
      ]
    },
    {
      "cell_type": "code",
      "source": [
        "vector_store1 = PINECONE_DIS.add_documents(chunks1,namespace=\"discrete_structures\")"
      ],
      "metadata": {
        "id": "JCk8po6PVoqA"
      },
      "execution_count": null,
      "outputs": []
    },
    {
      "cell_type": "markdown",
      "source": [
        "# **Step 2 → Retrieval**"
      ],
      "metadata": {
        "id": "QrNNL7AIV57R"
      }
    },
    {
      "cell_type": "markdown",
      "source": [
        "## **Linear_Algebra**"
      ],
      "metadata": {
        "id": "n8ILP3YgWEE8"
      }
    },
    {
      "cell_type": "code",
      "source": [
        "retriever_lin = PINECONE.as_retriever(search_type=\"mmr\",search_kwargs={\"k\":4,\"lambda_mul\":0.8})"
      ],
      "metadata": {
        "id": "xAQEisALYGmY"
      },
      "execution_count": 17,
      "outputs": []
    },
    {
      "cell_type": "code",
      "source": [
        "retriever_lin"
      ],
      "metadata": {
        "id": "sgJ_C8J_YsI4",
        "outputId": "93254aab-7e2a-49da-b109-71a56ce7aa9c",
        "colab": {
          "base_uri": "https://localhost:8080/"
        }
      },
      "execution_count": 18,
      "outputs": [
        {
          "output_type": "execute_result",
          "data": {
            "text/plain": [
              "VectorStoreRetriever(tags=['PineconeVectorStore', 'HuggingFaceEmbeddings'], vectorstore=<langchain_pinecone.vectorstores.PineconeVectorStore object at 0x78bbf6dabf50>, search_type='mmr', search_kwargs={'k': 4, 'lambda_mul': 0.8})"
            ]
          },
          "metadata": {},
          "execution_count": 18
        }
      ]
    },
    {
      "cell_type": "code",
      "source": [
        "retriever_lin.invoke(\"What is linear algebra\")"
      ],
      "metadata": {
        "id": "4_UCDd3BYvpo",
        "outputId": "aa16d2c5-3f8a-4930-af95-9c55979bc70d",
        "colab": {
          "base_uri": "https://localhost:8080/"
        }
      },
      "execution_count": null,
      "outputs": [
        {
          "output_type": "execute_result",
          "data": {
            "text/plain": [
              "[Document(metadata={'author': '', 'codemantra, llc': 'http://www.codemantra.com', 'creationdate': '2015-01-21T14:42:45+05:30', 'creator': 'HELIOS pdfcat', 'moddate': \"D:20240310035050Z00'00\", 'page': 17.0, 'page_label': '1', 'producer': 'xdvipdfmx (0.7.9)', 'source': '/content/Linear_Algebra.pdf', 'title': '0321982630.pdf', 'total_pages': 579.0, 'universal pdf': 'The process that creates this PDF constitutes a trade secret of codeMantra, LLC and is protected by the copyright laws of the United States'}, page_content='in many other ﬁelds have employed computers to analyze\\nmathematical models. Because of the massive amounts of\\ndata involved, the models are usually linear; that is, they\\nare described by systems of linear equations.\\nThe importance of linear algebra for applications has\\nrisen in direct proportion to the increase in computing\\npower, with each new generation of hardware and\\nsoftware triggering a demand for even greater capabilities.\\nComputer science is thus intricately linked with linear\\nalgebra through the explosive growth of parallel processing\\nand large-scale computations.\\nScientists and engineers now work on problems far\\nmore complex than even dreamed possible a few decades\\nago. Today, linear algebra has more potential value for\\nstudents in many scientiﬁc and business ﬁelds than any\\nother undergraduate mathematics subject! The material in\\nthis text provides the foundation for further work in many\\ninteresting areas. Here are a few possibilities; others will\\nbe described later.'),\n",
              " Document(metadata={'author': '', 'codemantra, llc': 'http://www.codemantra.com', 'creationdate': '2015-01-21T14:42:45+05:30', 'creator': 'HELIOS pdfcat', 'moddate': \"D:20240310035050Z00'00\", 'page': 222.0, 'page_label': '206', 'producer': 'xdvipdfmx (0.7.9)', 'source': '/content/Linear_Algebra.pdf', 'title': '0321982630.pdf', 'total_pages': 579.0, 'universal pdf': 'The process that creates this PDF constitutes a trade secret of codeMantra, LLC and is protected by the copyright laws of the United States'}, page_content='linear transformation.\\nIn applications, a subspace usually arises as either the kernel or the range of an\\nappropriate linear transformation. For instance, the set of all solutions of a homoge-\\nneous linear differential equation turns out to be the kernel of a linear transformation.\\nSECOND REVISED PAGES'),\n",
              " Document(metadata={'author': '', 'codemantra, llc': 'http://www.codemantra.com', 'creationdate': '2015-01-21T14:42:45+05:30', 'creator': 'HELIOS pdfcat', 'moddate': \"D:20240310035050Z00'00\", 'page': 79.0, 'page_label': '63', 'producer': 'xdvipdfmx (0.7.9)', 'source': '/content/Linear_Algebra.pdf', 'title': '0321982630.pdf', 'total_pages': 579.0, 'universal pdf': 'The process that creates this PDF constitutes a trade secret of codeMantra, LLC and is protected by the copyright laws of the United States'}, page_content='Ax D b can arise in linear algebra (and in applications such as computer graphics and\\nsignal processing) in a way that is not directly connected with linear combinations of\\nvectors. This happens when we think of the matrixA as an object that “acts” on a vector\\nx by multiplication to produce a new vector called Ax.\\nSECOND REVISED PAGES'),\n",
              " Document(metadata={'author': '', 'codemantra, llc': 'http://www.codemantra.com', 'creationdate': '2015-01-21T14:42:45+05:30', 'creator': 'HELIOS pdfcat', 'moddate': \"D:20240310035050Z00'00\", 'page': 14.0, 'page_label': 'xiv', 'producer': 'xdvipdfmx (0.7.9)', 'source': '/content/Linear_Algebra.pdf', 'title': '0321982630.pdf', 'total_pages': 579.0, 'universal pdf': 'The process that creates this PDF constitutes a trade secret of codeMantra, LLC and is protected by the copyright laws of the United States'}, page_content='greatly shaped my view of linear algebra. And it has been a\\nprivilege to be a member of the Linear Algebra Curriculum\\nStudy Group along with David Carlson, Charles Johnson,\\nand Duane Porter. Their creative ideas about teaching linear\\nalgebra have inﬂuenced this text in signiﬁcant ways.\\nSaved for last are the three good friends who have\\nguided the development of the book nearly from the\\nbeginning—giving wise counsel and encouragement—Greg\\nTobin, publisher, Laurie Rosatone, former editor, and\\nWilliam Hoffman, current editor. Thank you all so much.\\nDavid C. Lay\\nIt has been a privilege to work on this newFifth Edition\\nof Professor David Lay’s linear algebra book. In making this\\nrevision, we have attempted to maintain the basic approach\\nand the clarity of style that has made earlier editions popular\\nwith students and faculty.\\nWe sincerely thank the following reviewers for their\\ncareful analyses and constructive suggestions:\\nKasso A. Okoudjou University of Maryland')]"
            ]
          },
          "metadata": {},
          "execution_count": 65
        }
      ]
    },
    {
      "cell_type": "markdown",
      "source": [
        "## **Discrete_Structures**"
      ],
      "metadata": {
        "id": "jWh4-12cYBBd"
      }
    },
    {
      "cell_type": "code",
      "source": [
        "retriever_dis = PINECONE_DIS.as_retriever(search_type=\"mmr\",search_kwargs={\"k\":4,\"lambda_mul\":0.8})"
      ],
      "metadata": {
        "id": "XcUcPjvWYF2Q"
      },
      "execution_count": 19,
      "outputs": []
    },
    {
      "cell_type": "code",
      "source": [
        "retriever_dis"
      ],
      "metadata": {
        "id": "yrTWUieMY4yi",
        "outputId": "f1668e25-ddc1-497c-9243-5e9786d90e0e",
        "colab": {
          "base_uri": "https://localhost:8080/"
        }
      },
      "execution_count": 20,
      "outputs": [
        {
          "output_type": "execute_result",
          "data": {
            "text/plain": [
              "VectorStoreRetriever(tags=['PineconeVectorStore', 'HuggingFaceEmbeddings'], vectorstore=<langchain_pinecone.vectorstores.PineconeVectorStore object at 0x78bbcb3ef740>, search_type='mmr', search_kwargs={'k': 4, 'lambda_mul': 0.8})"
            ]
          },
          "metadata": {},
          "execution_count": 20
        }
      ]
    },
    {
      "cell_type": "code",
      "source": [
        "retriever_dis.invoke(\"What is discrete structures\")"
      ],
      "metadata": {
        "id": "a7eVbJNWY9DM",
        "outputId": "52441309-d094-475e-bbec-0c8cb39f19cc",
        "colab": {
          "base_uri": "https://localhost:8080/"
        }
      },
      "execution_count": null,
      "outputs": [
        {
          "output_type": "execute_result",
          "data": {
            "text/plain": [
              "[Document(metadata={'author': '', 'codemantra, llc': 'http://www.codemantra.com', 'creationdate': '2015-01-21T14:42:45+05:30', 'creator': 'HELIOS pdfcat', 'moddate': \"D:20240310035050Z00'00\", 'page': 209.0, 'page_label': '193', 'producer': 'xdvipdfmx (0.7.9)', 'source': '/content/Linear_Algebra.pdf', 'title': '0321982630.pdf', 'total_pages': 579.0, 'universal pdf': 'The process that creates this PDF constitutes a trade secret of codeMantra, LLC and is protected by the copyright laws of the United States'}, page_content='EXAMPLE 3 Let S be the space of all doubly inﬁnite sequences of numbers (usually\\nwritten in a row rather than a column):\\nfykg D .: : : ; y\\x002; y\\x001; y0; y1; y2; : : :/\\nIf f´kg is another element of S, then the sum fykg C f´kg is the sequence fyk C ´kg\\nformed by adding corresponding terms of fykg and f´kg. The scalar multiplec fykg is\\nthe sequence fcykg. The vector space axioms are veriﬁed in the same way as forRn.\\nElements of S arise in engineering, for example, whenever a signal is measured (or\\nsampled) at discrete times. A signal might be electrical, mechanical, optical, and so on.\\nThe major control systems for the space shuttle, mentioned in the chapter introduction,\\nuse discrete (or digital) signals. For convenience, we will callS the space of (discrete-\\ntime) signals. A signal may be visualized by a graph as in Figure 4.\\nSECOND REVISED PAGES'),\n",
              " Document(metadata={'author': '', 'codemantra, llc': 'http://www.codemantra.com', 'creationdate': '2015-01-21T14:42:45+05:30', 'creator': 'HELIOS pdfcat', 'moddate': \"D:20240310035050Z00'00\", 'page': 235.0, 'page_label': '219', 'producer': 'xdvipdfmx (0.7.9)', 'source': '/content/Linear_Algebra.pdf', 'title': '0321982630.pdf', 'total_pages': 579.0, 'universal pdf': 'The process that creates this PDF constitutes a trade secret of codeMantra, LLC and is protected by the copyright laws of the United States'}, page_content='b1\\nx\\n0\\nFIGURE 2 B-graph paper.\\nEXAMPLE 3 In crystallography, the description of a crystal lattice is aided by\\nchoosing a basis fu; v; wg for R3 that corresponds to three adjacent edges of one “unit\\ncell” of the crystal. An entire lattice is constructed by stacking together many copies of\\none cell. There are fourteen basic types of unit cells; three are displayed in Figure 3.2\\n2 Adapted from The Science and Engineering of Materials, 4th Ed., by Donald R. Askeland (Boston:\\nPrindle, Weber & Schmidt, ©2002), p. 36.\\nSECOND REVISED PAGES'),\n",
              " Document(metadata={'author': '', 'codemantra, llc': 'http://www.codemantra.com', 'creationdate': '2015-01-21T14:42:45+05:30', 'creator': 'HELIOS pdfcat', 'moddate': \"D:20240310035050Z00'00\", 'page': 109.0, 'page_label': '93', 'producer': 'xdvipdfmx (0.7.9)', 'source': '/content/Linear_Algebra.pdf', 'title': '0321982630.pdf', 'total_pages': 579.0, 'universal pdf': 'The process that creates this PDF constitutes a trade secret of codeMantra, LLC and is protected by the copyright laws of the United States'}, page_content='to the airplane surface and begin the whole process again.\\nThousands of CFD runs may be required.\\nThis chapter presents two important concepts that\\nassist in the solution of such massive systems of equations:\\n\\x0f Partitioned matrices: A typical CFD system of\\nequations has a “sparse” coefﬁcient matrix with\\nmostly zero entries. Grouping the variables correctly\\nleads to a partitioned matrix with many zero blocks.\\nSection 2.4 introduces such matrices and describes\\nsome of their applications.\\nSECOND REVISED PAGES\\n93'),\n",
              " Document(metadata={'author': '', 'codemantra, llc': 'http://www.codemantra.com', 'creationdate': '2015-01-21T14:42:45+05:30', 'creator': 'HELIOS pdfcat', 'moddate': \"D:20240310035050Z00'00\", 'page': 107.0, 'page_label': '91', 'producer': 'xdvipdfmx (0.7.9)', 'source': '/content/Linear_Algebra.pdf', 'title': '0321982630.pdf', 'total_pages': 579.0, 'universal pdf': 'The process that creates this PDF constitutes a trade secret of codeMantra, LLC and is protected by the copyright laws of the United States'}, page_content='building contains a total of x1 ﬂoors of plan A, x2 ﬂoors of\\nplan B, and x3 ﬂoors of plan C.\\na. What interpretation can be given to the vector x1\\n2\\n4\\n3\\n7\\n8\\n3\\n5?\\nb. Write a formal linear combination of vectors that ex-\\npresses the total numbers of three-, two-, and one-\\nbedroom apartments contained in the building.\\nc. [M] Is it possible to design the building with exactly 66\\nthree-bedroom units, 74 two-bedroom units, and 136 one-\\nbedroom units? If so, is there more than one way to do it?\\nExplain your answer.\\nWEB\\nSECOND REVISED PAGES')]"
            ]
          },
          "metadata": {},
          "execution_count": 69
        }
      ]
    },
    {
      "cell_type": "markdown",
      "source": [
        "# **Step 3 → Tool Definitions**"
      ],
      "metadata": {
        "id": "B6f2ZT9vZC8u"
      }
    },
    {
      "cell_type": "code",
      "source": [
        "from agents import function_tool\n",
        "from langchain_core.runnables import RunnableParallel, RunnablePassthrough, RunnableLambda\n",
        "from langchain_core.output_parsers import StrOutputParser"
      ],
      "metadata": {
        "id": "57YucR2IrjGQ"
      },
      "execution_count": 33,
      "outputs": []
    },
    {
      "cell_type": "code",
      "source": [
        "def format_docs(retrieved_docs):\n",
        "    context_text = \"\\n\\n\".join(doc.page_content for doc in retrieved_docs)\n",
        "    return context_text\n",
        "llm = GoogleGenerativeAI(model=\"models/gemini-1.5-flash\")"
      ],
      "metadata": {
        "id": "LFB8qsuutExy"
      },
      "execution_count": 42,
      "outputs": []
    },
    {
      "cell_type": "markdown",
      "source": [
        "## **Linear Algebra**"
      ],
      "metadata": {
        "id": "wUM1VhKurpiy"
      }
    },
    {
      "cell_type": "code",
      "source": [
        "@function_tool\n",
        "def answer_from_linear_algebra(query:str)->str:\n",
        "  \"\"\"\n",
        "  Answer questions about linear algebra using structured RAG chain\n",
        "  \"\"\"\n",
        "  print(f\"[Debug] answer_from_linear_algebra function call with query {query}\")\n",
        "  parallel_chain = RunnableParallel({\n",
        "    'context': retriever_lin | RunnableLambda(format_docs),\n",
        "    'question': RunnablePassthrough()\n",
        "  }\n",
        "  )\n",
        "\n",
        "  prompt = PromptTemplate.from_template(\n",
        "        \"\"\"You are a linear algebra expert. Answer the question using only the provided context.\n",
        "\n",
        "        Context: {context}\n",
        "        Question: {question}\n",
        "\n",
        "        Answer:\"\"\"\n",
        "    )\n",
        "\n",
        "  parser = StrOutputParser()\n",
        "\n",
        "  main_chain = parallel_chain | prompt | llm | parser\n",
        "  result = main_chain.invoke(query)\n",
        "  print(f\"[Debug] RAG function call with response ***{result}***\")\n",
        "  return result"
      ],
      "metadata": {
        "id": "22RdACHMrtmW"
      },
      "execution_count": 46,
      "outputs": []
    },
    {
      "cell_type": "markdown",
      "source": [
        "## **Discrete Structures**"
      ],
      "metadata": {
        "id": "hVlUK-IsxCJu"
      }
    },
    {
      "cell_type": "code",
      "source": [
        "@function_tool\n",
        "def answer_from_discrete_structures(query:str)->str:\n",
        "  \"\"\"\n",
        "  Answer questions about discrete structures using structured RAG chain\n",
        "  \"\"\"\n",
        "  print(f\"[Debug] answer_from_discrete_structures function call with query {query}\")\n",
        "  parallel_chain = RunnableParallel({\n",
        "    'context': retriever_dis | RunnableLambda(format_docs),\n",
        "    'question': RunnablePassthrough()\n",
        "  }\n",
        "  )\n",
        "\n",
        "  prompt = PromptTemplate.from_template(\n",
        "        \"\"\"You are a discrete structures expert. Answer the question using only the provided context.\n",
        "\n",
        "        Context: {context}\n",
        "        Question: {question}\n",
        "\n",
        "        Answer:\"\"\"\n",
        "    )\n",
        "\n",
        "  parser = StrOutputParser()\n",
        "\n",
        "  main_chain = parallel_chain | prompt | llm | parser\n",
        "  result = main_chain.invoke(query)\n",
        "  print(f\"[Debug] RAG function call with response ***{result}***\")\n",
        "  return result"
      ],
      "metadata": {
        "id": "Fnb6rQBsxNjn"
      },
      "execution_count": 49,
      "outputs": []
    },
    {
      "cell_type": "code",
      "source": [
        "import asyncio\n",
        "qa_agent = Agent(\n",
        "    name=\"QA Agent\",\n",
        "    instructions=\"\"\"\n",
        "    You are a specialized academic tutor with access to course textbooks and materials.\n",
        "\n",
        "CRITICAL INSTRUCTIONS:\n",
        "1. ALWAYS use your tools to search the knowledge base - never answer from your general knowledge\n",
        "2. Analyze each question to identify the subject area:\n",
        "   - Discrete structures: cardinality, sets, graphs, algorithms, combinatorics, logic\n",
        "   - Linear algebra: matrices, vectors, eigenvalues, transformations, vector spaces\n",
        "\n",
        "3. When students say they are \"confused\" or need \"deep explanation\":\n",
        "   - Use the appropriate tool to get comprehensive context\n",
        "   - Ask the tool to provide step-by-step explanations\n",
        "   - Focus on foundational concepts first\n",
        "\n",
        "4. Always start your response by using the relevant tool, then provide a clear, educational answer based on the retrieved information.\n",
        "\n",
        "Your role is to be a patient, knowledgeable tutor who helps students understand complex academic concepts using their course materials.\n",
        "    \"\"\",\n",
        "    tools=[answer_from_linear_algebra,answer_from_discrete_structures],\n",
        "    # Use OpenAIChatCompletionsModel with the pre-configured external_client\n",
        "    model=model,\n",
        ")\n",
        "\n",
        "async def main():\n",
        "    agent_question = \"From discrete structures, tell me about cardinality of steps and explain very deeply i am confused at that.\"\n",
        "\n",
        "    # Run the agent\n",
        "    result = await Runner.run(qa_agent, agent_question)\n",
        "\n",
        "    # Extract and print the final answer\n",
        "    # print(\"Agent result:\", result)\n",
        "    print(\"Agent's answer:\", result.final_output)\n",
        "\n",
        "if __name__ == \"__main__\":\n",
        "    asyncio.run(main())"
      ],
      "metadata": {
        "colab": {
          "base_uri": "https://localhost:8080/"
        },
        "id": "sxQfpwJbtvO9",
        "outputId": "8e6cc6e7-a8fc-42c0-811d-6e7226ebc4a9"
      },
      "execution_count": 50,
      "outputs": [
        {
          "output_type": "stream",
          "name": "stdout",
          "text": [
            "[Debug] answer_from_discrete_structures function call with query Explain cardinality of sets deeply\n",
            "[Debug] RAG function call with response ***The provided text does not offer a definition or explanation of cardinality of sets.  Therefore, I cannot answer your question using only the provided context.***\n",
            "Agent's answer: I apologize, but the provided materials do not contain information on the cardinality of steps in the context of discrete structures.  To help you understand this concept, we need a more precise definition of \"steps\" and the context in which their cardinality is being considered.\n",
            "\n",
            "The term \"cardinality\" generally refers to the number of elements in a set.  If \"steps\" refers to elements within a set, then the cardinality would simply be the count of those steps.  For example:\n",
            "\n",
            "* **Set of Steps in an Algorithm:** If you have an algorithm with a defined sequence of steps, the cardinality would be the number of steps in that sequence.  If the algorithm has five steps, the cardinality of the set of steps is 5.\n",
            "\n",
            "* **Steps as a Sequence:** If \"steps\" represents a sequence (like a sequence of actions, states in a process, or stages in a calculation), the cardinality depends on how you define the \"steps\".  If each distinct action is considered a step, then the cardinality is the number of distinct actions.\n",
            "\n",
            "To explain this concept more deeply and accurately, I need more information.  Please provide the following:\n",
            "\n",
            "1. **The definition of \"steps\" in your context:** What constitutes a single \"step\"? Is it a single operation, a transition between states, a line of code, a stage in a larger process, something else entirely?\n",
            "\n",
            "2. **The context:** Where did you encounter this term? What kind of problem or subject matter are you working on?  (e.g., algorithm analysis, graph traversal, formal language theory, etc.)\n",
            "\n",
            "With more context, I can give you a precise and complete explanation of the cardinality of steps in your specific situation.\n",
            "\n"
          ]
        }
      ]
    },
    {
      "cell_type": "code",
      "source": [],
      "metadata": {
        "id": "Y1wn7TkuudDq"
      },
      "execution_count": null,
      "outputs": []
    }
  ],
  "metadata": {
    "kernelspec": {
      "display_name": ".venv",
      "language": "python",
      "name": "python3"
    },
    "language_info": {
      "name": "python",
      "version": "3.12.10"
    },
    "colab": {
      "provenance": []
    },
    "widgets": {
      "application/vnd.jupyter.widget-state+json": {
        "0ca0ea7792d74502913df6efdd1b2f54": {
          "model_module": "@jupyter-widgets/controls",
          "model_name": "HBoxModel",
          "model_module_version": "1.5.0",
          "state": {
            "_dom_classes": [],
            "_model_module": "@jupyter-widgets/controls",
            "_model_module_version": "1.5.0",
            "_model_name": "HBoxModel",
            "_view_count": null,
            "_view_module": "@jupyter-widgets/controls",
            "_view_module_version": "1.5.0",
            "_view_name": "HBoxView",
            "box_style": "",
            "children": [
              "IPY_MODEL_c2b0cb29ef2d4124966589f7266fb4c5",
              "IPY_MODEL_25c873ded0944f089ee5982b5f32de0a",
              "IPY_MODEL_6b33d1471c884a359f56fb9d136e5594"
            ],
            "layout": "IPY_MODEL_4a8900e62cd94e649ed2db5879d5490e"
          }
        },
        "c2b0cb29ef2d4124966589f7266fb4c5": {
          "model_module": "@jupyter-widgets/controls",
          "model_name": "HTMLModel",
          "model_module_version": "1.5.0",
          "state": {
            "_dom_classes": [],
            "_model_module": "@jupyter-widgets/controls",
            "_model_module_version": "1.5.0",
            "_model_name": "HTMLModel",
            "_view_count": null,
            "_view_module": "@jupyter-widgets/controls",
            "_view_module_version": "1.5.0",
            "_view_name": "HTMLView",
            "description": "",
            "description_tooltip": null,
            "layout": "IPY_MODEL_4d986992d5f140b585e5277804abda46",
            "placeholder": "​",
            "style": "IPY_MODEL_28fb5a004aab41d0ba9a99b3411455d1",
            "value": "modules.json: 100%"
          }
        },
        "25c873ded0944f089ee5982b5f32de0a": {
          "model_module": "@jupyter-widgets/controls",
          "model_name": "FloatProgressModel",
          "model_module_version": "1.5.0",
          "state": {
            "_dom_classes": [],
            "_model_module": "@jupyter-widgets/controls",
            "_model_module_version": "1.5.0",
            "_model_name": "FloatProgressModel",
            "_view_count": null,
            "_view_module": "@jupyter-widgets/controls",
            "_view_module_version": "1.5.0",
            "_view_name": "ProgressView",
            "bar_style": "success",
            "description": "",
            "description_tooltip": null,
            "layout": "IPY_MODEL_4571d07f31c64a03935eb9f46d511315",
            "max": 349,
            "min": 0,
            "orientation": "horizontal",
            "style": "IPY_MODEL_452a077d62ad4087b3bfff69d17141dc",
            "value": 349
          }
        },
        "6b33d1471c884a359f56fb9d136e5594": {
          "model_module": "@jupyter-widgets/controls",
          "model_name": "HTMLModel",
          "model_module_version": "1.5.0",
          "state": {
            "_dom_classes": [],
            "_model_module": "@jupyter-widgets/controls",
            "_model_module_version": "1.5.0",
            "_model_name": "HTMLModel",
            "_view_count": null,
            "_view_module": "@jupyter-widgets/controls",
            "_view_module_version": "1.5.0",
            "_view_name": "HTMLView",
            "description": "",
            "description_tooltip": null,
            "layout": "IPY_MODEL_44e486c10ad749aca19472f6dd45c63e",
            "placeholder": "​",
            "style": "IPY_MODEL_60e69f87d30a4ea19d3c4a2b19751ab8",
            "value": " 349/349 [00:00&lt;00:00, 27.5kB/s]"
          }
        },
        "4a8900e62cd94e649ed2db5879d5490e": {
          "model_module": "@jupyter-widgets/base",
          "model_name": "LayoutModel",
          "model_module_version": "1.2.0",
          "state": {
            "_model_module": "@jupyter-widgets/base",
            "_model_module_version": "1.2.0",
            "_model_name": "LayoutModel",
            "_view_count": null,
            "_view_module": "@jupyter-widgets/base",
            "_view_module_version": "1.2.0",
            "_view_name": "LayoutView",
            "align_content": null,
            "align_items": null,
            "align_self": null,
            "border": null,
            "bottom": null,
            "display": null,
            "flex": null,
            "flex_flow": null,
            "grid_area": null,
            "grid_auto_columns": null,
            "grid_auto_flow": null,
            "grid_auto_rows": null,
            "grid_column": null,
            "grid_gap": null,
            "grid_row": null,
            "grid_template_areas": null,
            "grid_template_columns": null,
            "grid_template_rows": null,
            "height": null,
            "justify_content": null,
            "justify_items": null,
            "left": null,
            "margin": null,
            "max_height": null,
            "max_width": null,
            "min_height": null,
            "min_width": null,
            "object_fit": null,
            "object_position": null,
            "order": null,
            "overflow": null,
            "overflow_x": null,
            "overflow_y": null,
            "padding": null,
            "right": null,
            "top": null,
            "visibility": null,
            "width": null
          }
        },
        "4d986992d5f140b585e5277804abda46": {
          "model_module": "@jupyter-widgets/base",
          "model_name": "LayoutModel",
          "model_module_version": "1.2.0",
          "state": {
            "_model_module": "@jupyter-widgets/base",
            "_model_module_version": "1.2.0",
            "_model_name": "LayoutModel",
            "_view_count": null,
            "_view_module": "@jupyter-widgets/base",
            "_view_module_version": "1.2.0",
            "_view_name": "LayoutView",
            "align_content": null,
            "align_items": null,
            "align_self": null,
            "border": null,
            "bottom": null,
            "display": null,
            "flex": null,
            "flex_flow": null,
            "grid_area": null,
            "grid_auto_columns": null,
            "grid_auto_flow": null,
            "grid_auto_rows": null,
            "grid_column": null,
            "grid_gap": null,
            "grid_row": null,
            "grid_template_areas": null,
            "grid_template_columns": null,
            "grid_template_rows": null,
            "height": null,
            "justify_content": null,
            "justify_items": null,
            "left": null,
            "margin": null,
            "max_height": null,
            "max_width": null,
            "min_height": null,
            "min_width": null,
            "object_fit": null,
            "object_position": null,
            "order": null,
            "overflow": null,
            "overflow_x": null,
            "overflow_y": null,
            "padding": null,
            "right": null,
            "top": null,
            "visibility": null,
            "width": null
          }
        },
        "28fb5a004aab41d0ba9a99b3411455d1": {
          "model_module": "@jupyter-widgets/controls",
          "model_name": "DescriptionStyleModel",
          "model_module_version": "1.5.0",
          "state": {
            "_model_module": "@jupyter-widgets/controls",
            "_model_module_version": "1.5.0",
            "_model_name": "DescriptionStyleModel",
            "_view_count": null,
            "_view_module": "@jupyter-widgets/base",
            "_view_module_version": "1.2.0",
            "_view_name": "StyleView",
            "description_width": ""
          }
        },
        "4571d07f31c64a03935eb9f46d511315": {
          "model_module": "@jupyter-widgets/base",
          "model_name": "LayoutModel",
          "model_module_version": "1.2.0",
          "state": {
            "_model_module": "@jupyter-widgets/base",
            "_model_module_version": "1.2.0",
            "_model_name": "LayoutModel",
            "_view_count": null,
            "_view_module": "@jupyter-widgets/base",
            "_view_module_version": "1.2.0",
            "_view_name": "LayoutView",
            "align_content": null,
            "align_items": null,
            "align_self": null,
            "border": null,
            "bottom": null,
            "display": null,
            "flex": null,
            "flex_flow": null,
            "grid_area": null,
            "grid_auto_columns": null,
            "grid_auto_flow": null,
            "grid_auto_rows": null,
            "grid_column": null,
            "grid_gap": null,
            "grid_row": null,
            "grid_template_areas": null,
            "grid_template_columns": null,
            "grid_template_rows": null,
            "height": null,
            "justify_content": null,
            "justify_items": null,
            "left": null,
            "margin": null,
            "max_height": null,
            "max_width": null,
            "min_height": null,
            "min_width": null,
            "object_fit": null,
            "object_position": null,
            "order": null,
            "overflow": null,
            "overflow_x": null,
            "overflow_y": null,
            "padding": null,
            "right": null,
            "top": null,
            "visibility": null,
            "width": null
          }
        },
        "452a077d62ad4087b3bfff69d17141dc": {
          "model_module": "@jupyter-widgets/controls",
          "model_name": "ProgressStyleModel",
          "model_module_version": "1.5.0",
          "state": {
            "_model_module": "@jupyter-widgets/controls",
            "_model_module_version": "1.5.0",
            "_model_name": "ProgressStyleModel",
            "_view_count": null,
            "_view_module": "@jupyter-widgets/base",
            "_view_module_version": "1.2.0",
            "_view_name": "StyleView",
            "bar_color": null,
            "description_width": ""
          }
        },
        "44e486c10ad749aca19472f6dd45c63e": {
          "model_module": "@jupyter-widgets/base",
          "model_name": "LayoutModel",
          "model_module_version": "1.2.0",
          "state": {
            "_model_module": "@jupyter-widgets/base",
            "_model_module_version": "1.2.0",
            "_model_name": "LayoutModel",
            "_view_count": null,
            "_view_module": "@jupyter-widgets/base",
            "_view_module_version": "1.2.0",
            "_view_name": "LayoutView",
            "align_content": null,
            "align_items": null,
            "align_self": null,
            "border": null,
            "bottom": null,
            "display": null,
            "flex": null,
            "flex_flow": null,
            "grid_area": null,
            "grid_auto_columns": null,
            "grid_auto_flow": null,
            "grid_auto_rows": null,
            "grid_column": null,
            "grid_gap": null,
            "grid_row": null,
            "grid_template_areas": null,
            "grid_template_columns": null,
            "grid_template_rows": null,
            "height": null,
            "justify_content": null,
            "justify_items": null,
            "left": null,
            "margin": null,
            "max_height": null,
            "max_width": null,
            "min_height": null,
            "min_width": null,
            "object_fit": null,
            "object_position": null,
            "order": null,
            "overflow": null,
            "overflow_x": null,
            "overflow_y": null,
            "padding": null,
            "right": null,
            "top": null,
            "visibility": null,
            "width": null
          }
        },
        "60e69f87d30a4ea19d3c4a2b19751ab8": {
          "model_module": "@jupyter-widgets/controls",
          "model_name": "DescriptionStyleModel",
          "model_module_version": "1.5.0",
          "state": {
            "_model_module": "@jupyter-widgets/controls",
            "_model_module_version": "1.5.0",
            "_model_name": "DescriptionStyleModel",
            "_view_count": null,
            "_view_module": "@jupyter-widgets/base",
            "_view_module_version": "1.2.0",
            "_view_name": "StyleView",
            "description_width": ""
          }
        },
        "eff298f9588d46bdb4e91353d8ee1021": {
          "model_module": "@jupyter-widgets/controls",
          "model_name": "HBoxModel",
          "model_module_version": "1.5.0",
          "state": {
            "_dom_classes": [],
            "_model_module": "@jupyter-widgets/controls",
            "_model_module_version": "1.5.0",
            "_model_name": "HBoxModel",
            "_view_count": null,
            "_view_module": "@jupyter-widgets/controls",
            "_view_module_version": "1.5.0",
            "_view_name": "HBoxView",
            "box_style": "",
            "children": [
              "IPY_MODEL_77292895ac9e4f02bc5fbcb000f65a86",
              "IPY_MODEL_f537a5868a4c4748b6a9afcbdf51fa60",
              "IPY_MODEL_7515a5a4c3984d6dae7d9f653b340c92"
            ],
            "layout": "IPY_MODEL_2b8c02bbdfe84bcc9cb8d629e4aa55f3"
          }
        },
        "77292895ac9e4f02bc5fbcb000f65a86": {
          "model_module": "@jupyter-widgets/controls",
          "model_name": "HTMLModel",
          "model_module_version": "1.5.0",
          "state": {
            "_dom_classes": [],
            "_model_module": "@jupyter-widgets/controls",
            "_model_module_version": "1.5.0",
            "_model_name": "HTMLModel",
            "_view_count": null,
            "_view_module": "@jupyter-widgets/controls",
            "_view_module_version": "1.5.0",
            "_view_name": "HTMLView",
            "description": "",
            "description_tooltip": null,
            "layout": "IPY_MODEL_9cd1b39771af495892a600297926719d",
            "placeholder": "​",
            "style": "IPY_MODEL_14a805bc5d88459c81b6a747f26b2ea5",
            "value": "config_sentence_transformers.json: 100%"
          }
        },
        "f537a5868a4c4748b6a9afcbdf51fa60": {
          "model_module": "@jupyter-widgets/controls",
          "model_name": "FloatProgressModel",
          "model_module_version": "1.5.0",
          "state": {
            "_dom_classes": [],
            "_model_module": "@jupyter-widgets/controls",
            "_model_module_version": "1.5.0",
            "_model_name": "FloatProgressModel",
            "_view_count": null,
            "_view_module": "@jupyter-widgets/controls",
            "_view_module_version": "1.5.0",
            "_view_name": "ProgressView",
            "bar_style": "success",
            "description": "",
            "description_tooltip": null,
            "layout": "IPY_MODEL_3255ca55158c4fda8be14eb4a64c15df",
            "max": 116,
            "min": 0,
            "orientation": "horizontal",
            "style": "IPY_MODEL_a001d228c4ab485c8b0c87e81ae1f643",
            "value": 116
          }
        },
        "7515a5a4c3984d6dae7d9f653b340c92": {
          "model_module": "@jupyter-widgets/controls",
          "model_name": "HTMLModel",
          "model_module_version": "1.5.0",
          "state": {
            "_dom_classes": [],
            "_model_module": "@jupyter-widgets/controls",
            "_model_module_version": "1.5.0",
            "_model_name": "HTMLModel",
            "_view_count": null,
            "_view_module": "@jupyter-widgets/controls",
            "_view_module_version": "1.5.0",
            "_view_name": "HTMLView",
            "description": "",
            "description_tooltip": null,
            "layout": "IPY_MODEL_4ba198f11aa64e359563feb2256c4040",
            "placeholder": "​",
            "style": "IPY_MODEL_40f44f5bd6eb4873943dd491c76a903e",
            "value": " 116/116 [00:00&lt;00:00, 10.9kB/s]"
          }
        },
        "2b8c02bbdfe84bcc9cb8d629e4aa55f3": {
          "model_module": "@jupyter-widgets/base",
          "model_name": "LayoutModel",
          "model_module_version": "1.2.0",
          "state": {
            "_model_module": "@jupyter-widgets/base",
            "_model_module_version": "1.2.0",
            "_model_name": "LayoutModel",
            "_view_count": null,
            "_view_module": "@jupyter-widgets/base",
            "_view_module_version": "1.2.0",
            "_view_name": "LayoutView",
            "align_content": null,
            "align_items": null,
            "align_self": null,
            "border": null,
            "bottom": null,
            "display": null,
            "flex": null,
            "flex_flow": null,
            "grid_area": null,
            "grid_auto_columns": null,
            "grid_auto_flow": null,
            "grid_auto_rows": null,
            "grid_column": null,
            "grid_gap": null,
            "grid_row": null,
            "grid_template_areas": null,
            "grid_template_columns": null,
            "grid_template_rows": null,
            "height": null,
            "justify_content": null,
            "justify_items": null,
            "left": null,
            "margin": null,
            "max_height": null,
            "max_width": null,
            "min_height": null,
            "min_width": null,
            "object_fit": null,
            "object_position": null,
            "order": null,
            "overflow": null,
            "overflow_x": null,
            "overflow_y": null,
            "padding": null,
            "right": null,
            "top": null,
            "visibility": null,
            "width": null
          }
        },
        "9cd1b39771af495892a600297926719d": {
          "model_module": "@jupyter-widgets/base",
          "model_name": "LayoutModel",
          "model_module_version": "1.2.0",
          "state": {
            "_model_module": "@jupyter-widgets/base",
            "_model_module_version": "1.2.0",
            "_model_name": "LayoutModel",
            "_view_count": null,
            "_view_module": "@jupyter-widgets/base",
            "_view_module_version": "1.2.0",
            "_view_name": "LayoutView",
            "align_content": null,
            "align_items": null,
            "align_self": null,
            "border": null,
            "bottom": null,
            "display": null,
            "flex": null,
            "flex_flow": null,
            "grid_area": null,
            "grid_auto_columns": null,
            "grid_auto_flow": null,
            "grid_auto_rows": null,
            "grid_column": null,
            "grid_gap": null,
            "grid_row": null,
            "grid_template_areas": null,
            "grid_template_columns": null,
            "grid_template_rows": null,
            "height": null,
            "justify_content": null,
            "justify_items": null,
            "left": null,
            "margin": null,
            "max_height": null,
            "max_width": null,
            "min_height": null,
            "min_width": null,
            "object_fit": null,
            "object_position": null,
            "order": null,
            "overflow": null,
            "overflow_x": null,
            "overflow_y": null,
            "padding": null,
            "right": null,
            "top": null,
            "visibility": null,
            "width": null
          }
        },
        "14a805bc5d88459c81b6a747f26b2ea5": {
          "model_module": "@jupyter-widgets/controls",
          "model_name": "DescriptionStyleModel",
          "model_module_version": "1.5.0",
          "state": {
            "_model_module": "@jupyter-widgets/controls",
            "_model_module_version": "1.5.0",
            "_model_name": "DescriptionStyleModel",
            "_view_count": null,
            "_view_module": "@jupyter-widgets/base",
            "_view_module_version": "1.2.0",
            "_view_name": "StyleView",
            "description_width": ""
          }
        },
        "3255ca55158c4fda8be14eb4a64c15df": {
          "model_module": "@jupyter-widgets/base",
          "model_name": "LayoutModel",
          "model_module_version": "1.2.0",
          "state": {
            "_model_module": "@jupyter-widgets/base",
            "_model_module_version": "1.2.0",
            "_model_name": "LayoutModel",
            "_view_count": null,
            "_view_module": "@jupyter-widgets/base",
            "_view_module_version": "1.2.0",
            "_view_name": "LayoutView",
            "align_content": null,
            "align_items": null,
            "align_self": null,
            "border": null,
            "bottom": null,
            "display": null,
            "flex": null,
            "flex_flow": null,
            "grid_area": null,
            "grid_auto_columns": null,
            "grid_auto_flow": null,
            "grid_auto_rows": null,
            "grid_column": null,
            "grid_gap": null,
            "grid_row": null,
            "grid_template_areas": null,
            "grid_template_columns": null,
            "grid_template_rows": null,
            "height": null,
            "justify_content": null,
            "justify_items": null,
            "left": null,
            "margin": null,
            "max_height": null,
            "max_width": null,
            "min_height": null,
            "min_width": null,
            "object_fit": null,
            "object_position": null,
            "order": null,
            "overflow": null,
            "overflow_x": null,
            "overflow_y": null,
            "padding": null,
            "right": null,
            "top": null,
            "visibility": null,
            "width": null
          }
        },
        "a001d228c4ab485c8b0c87e81ae1f643": {
          "model_module": "@jupyter-widgets/controls",
          "model_name": "ProgressStyleModel",
          "model_module_version": "1.5.0",
          "state": {
            "_model_module": "@jupyter-widgets/controls",
            "_model_module_version": "1.5.0",
            "_model_name": "ProgressStyleModel",
            "_view_count": null,
            "_view_module": "@jupyter-widgets/base",
            "_view_module_version": "1.2.0",
            "_view_name": "StyleView",
            "bar_color": null,
            "description_width": ""
          }
        },
        "4ba198f11aa64e359563feb2256c4040": {
          "model_module": "@jupyter-widgets/base",
          "model_name": "LayoutModel",
          "model_module_version": "1.2.0",
          "state": {
            "_model_module": "@jupyter-widgets/base",
            "_model_module_version": "1.2.0",
            "_model_name": "LayoutModel",
            "_view_count": null,
            "_view_module": "@jupyter-widgets/base",
            "_view_module_version": "1.2.0",
            "_view_name": "LayoutView",
            "align_content": null,
            "align_items": null,
            "align_self": null,
            "border": null,
            "bottom": null,
            "display": null,
            "flex": null,
            "flex_flow": null,
            "grid_area": null,
            "grid_auto_columns": null,
            "grid_auto_flow": null,
            "grid_auto_rows": null,
            "grid_column": null,
            "grid_gap": null,
            "grid_row": null,
            "grid_template_areas": null,
            "grid_template_columns": null,
            "grid_template_rows": null,
            "height": null,
            "justify_content": null,
            "justify_items": null,
            "left": null,
            "margin": null,
            "max_height": null,
            "max_width": null,
            "min_height": null,
            "min_width": null,
            "object_fit": null,
            "object_position": null,
            "order": null,
            "overflow": null,
            "overflow_x": null,
            "overflow_y": null,
            "padding": null,
            "right": null,
            "top": null,
            "visibility": null,
            "width": null
          }
        },
        "40f44f5bd6eb4873943dd491c76a903e": {
          "model_module": "@jupyter-widgets/controls",
          "model_name": "DescriptionStyleModel",
          "model_module_version": "1.5.0",
          "state": {
            "_model_module": "@jupyter-widgets/controls",
            "_model_module_version": "1.5.0",
            "_model_name": "DescriptionStyleModel",
            "_view_count": null,
            "_view_module": "@jupyter-widgets/base",
            "_view_module_version": "1.2.0",
            "_view_name": "StyleView",
            "description_width": ""
          }
        },
        "2a4b45d1b07b40e7867b33ef36fe98d3": {
          "model_module": "@jupyter-widgets/controls",
          "model_name": "HBoxModel",
          "model_module_version": "1.5.0",
          "state": {
            "_dom_classes": [],
            "_model_module": "@jupyter-widgets/controls",
            "_model_module_version": "1.5.0",
            "_model_name": "HBoxModel",
            "_view_count": null,
            "_view_module": "@jupyter-widgets/controls",
            "_view_module_version": "1.5.0",
            "_view_name": "HBoxView",
            "box_style": "",
            "children": [
              "IPY_MODEL_b4afdb3b18e14f9884da4c9712ad83bd",
              "IPY_MODEL_686b71bfa9db43948b92f2a1acffc7e7",
              "IPY_MODEL_5156ef1b66e64072b56050855b1ead61"
            ],
            "layout": "IPY_MODEL_d34b1a7214124b828f3451f0088189e2"
          }
        },
        "b4afdb3b18e14f9884da4c9712ad83bd": {
          "model_module": "@jupyter-widgets/controls",
          "model_name": "HTMLModel",
          "model_module_version": "1.5.0",
          "state": {
            "_dom_classes": [],
            "_model_module": "@jupyter-widgets/controls",
            "_model_module_version": "1.5.0",
            "_model_name": "HTMLModel",
            "_view_count": null,
            "_view_module": "@jupyter-widgets/controls",
            "_view_module_version": "1.5.0",
            "_view_name": "HTMLView",
            "description": "",
            "description_tooltip": null,
            "layout": "IPY_MODEL_90335b70300c4dda9b1ce461c4b0c1d4",
            "placeholder": "​",
            "style": "IPY_MODEL_67120932bc91414993be87c1772c0d0e",
            "value": "README.md: "
          }
        },
        "686b71bfa9db43948b92f2a1acffc7e7": {
          "model_module": "@jupyter-widgets/controls",
          "model_name": "FloatProgressModel",
          "model_module_version": "1.5.0",
          "state": {
            "_dom_classes": [],
            "_model_module": "@jupyter-widgets/controls",
            "_model_module_version": "1.5.0",
            "_model_name": "FloatProgressModel",
            "_view_count": null,
            "_view_module": "@jupyter-widgets/controls",
            "_view_module_version": "1.5.0",
            "_view_name": "ProgressView",
            "bar_style": "success",
            "description": "",
            "description_tooltip": null,
            "layout": "IPY_MODEL_45dd7618b8ca4b48b6bd71578e9bf036",
            "max": 1,
            "min": 0,
            "orientation": "horizontal",
            "style": "IPY_MODEL_ccf68d71426648b3b6a8cbe6ceba6078",
            "value": 1
          }
        },
        "5156ef1b66e64072b56050855b1ead61": {
          "model_module": "@jupyter-widgets/controls",
          "model_name": "HTMLModel",
          "model_module_version": "1.5.0",
          "state": {
            "_dom_classes": [],
            "_model_module": "@jupyter-widgets/controls",
            "_model_module_version": "1.5.0",
            "_model_name": "HTMLModel",
            "_view_count": null,
            "_view_module": "@jupyter-widgets/controls",
            "_view_module_version": "1.5.0",
            "_view_name": "HTMLView",
            "description": "",
            "description_tooltip": null,
            "layout": "IPY_MODEL_5aa3d02ad747438190867b5ef54cd98f",
            "placeholder": "​",
            "style": "IPY_MODEL_845324928a634550ad08af62b3007f6b",
            "value": " 10.5k/? [00:00&lt;00:00, 647kB/s]"
          }
        },
        "d34b1a7214124b828f3451f0088189e2": {
          "model_module": "@jupyter-widgets/base",
          "model_name": "LayoutModel",
          "model_module_version": "1.2.0",
          "state": {
            "_model_module": "@jupyter-widgets/base",
            "_model_module_version": "1.2.0",
            "_model_name": "LayoutModel",
            "_view_count": null,
            "_view_module": "@jupyter-widgets/base",
            "_view_module_version": "1.2.0",
            "_view_name": "LayoutView",
            "align_content": null,
            "align_items": null,
            "align_self": null,
            "border": null,
            "bottom": null,
            "display": null,
            "flex": null,
            "flex_flow": null,
            "grid_area": null,
            "grid_auto_columns": null,
            "grid_auto_flow": null,
            "grid_auto_rows": null,
            "grid_column": null,
            "grid_gap": null,
            "grid_row": null,
            "grid_template_areas": null,
            "grid_template_columns": null,
            "grid_template_rows": null,
            "height": null,
            "justify_content": null,
            "justify_items": null,
            "left": null,
            "margin": null,
            "max_height": null,
            "max_width": null,
            "min_height": null,
            "min_width": null,
            "object_fit": null,
            "object_position": null,
            "order": null,
            "overflow": null,
            "overflow_x": null,
            "overflow_y": null,
            "padding": null,
            "right": null,
            "top": null,
            "visibility": null,
            "width": null
          }
        },
        "90335b70300c4dda9b1ce461c4b0c1d4": {
          "model_module": "@jupyter-widgets/base",
          "model_name": "LayoutModel",
          "model_module_version": "1.2.0",
          "state": {
            "_model_module": "@jupyter-widgets/base",
            "_model_module_version": "1.2.0",
            "_model_name": "LayoutModel",
            "_view_count": null,
            "_view_module": "@jupyter-widgets/base",
            "_view_module_version": "1.2.0",
            "_view_name": "LayoutView",
            "align_content": null,
            "align_items": null,
            "align_self": null,
            "border": null,
            "bottom": null,
            "display": null,
            "flex": null,
            "flex_flow": null,
            "grid_area": null,
            "grid_auto_columns": null,
            "grid_auto_flow": null,
            "grid_auto_rows": null,
            "grid_column": null,
            "grid_gap": null,
            "grid_row": null,
            "grid_template_areas": null,
            "grid_template_columns": null,
            "grid_template_rows": null,
            "height": null,
            "justify_content": null,
            "justify_items": null,
            "left": null,
            "margin": null,
            "max_height": null,
            "max_width": null,
            "min_height": null,
            "min_width": null,
            "object_fit": null,
            "object_position": null,
            "order": null,
            "overflow": null,
            "overflow_x": null,
            "overflow_y": null,
            "padding": null,
            "right": null,
            "top": null,
            "visibility": null,
            "width": null
          }
        },
        "67120932bc91414993be87c1772c0d0e": {
          "model_module": "@jupyter-widgets/controls",
          "model_name": "DescriptionStyleModel",
          "model_module_version": "1.5.0",
          "state": {
            "_model_module": "@jupyter-widgets/controls",
            "_model_module_version": "1.5.0",
            "_model_name": "DescriptionStyleModel",
            "_view_count": null,
            "_view_module": "@jupyter-widgets/base",
            "_view_module_version": "1.2.0",
            "_view_name": "StyleView",
            "description_width": ""
          }
        },
        "45dd7618b8ca4b48b6bd71578e9bf036": {
          "model_module": "@jupyter-widgets/base",
          "model_name": "LayoutModel",
          "model_module_version": "1.2.0",
          "state": {
            "_model_module": "@jupyter-widgets/base",
            "_model_module_version": "1.2.0",
            "_model_name": "LayoutModel",
            "_view_count": null,
            "_view_module": "@jupyter-widgets/base",
            "_view_module_version": "1.2.0",
            "_view_name": "LayoutView",
            "align_content": null,
            "align_items": null,
            "align_self": null,
            "border": null,
            "bottom": null,
            "display": null,
            "flex": null,
            "flex_flow": null,
            "grid_area": null,
            "grid_auto_columns": null,
            "grid_auto_flow": null,
            "grid_auto_rows": null,
            "grid_column": null,
            "grid_gap": null,
            "grid_row": null,
            "grid_template_areas": null,
            "grid_template_columns": null,
            "grid_template_rows": null,
            "height": null,
            "justify_content": null,
            "justify_items": null,
            "left": null,
            "margin": null,
            "max_height": null,
            "max_width": null,
            "min_height": null,
            "min_width": null,
            "object_fit": null,
            "object_position": null,
            "order": null,
            "overflow": null,
            "overflow_x": null,
            "overflow_y": null,
            "padding": null,
            "right": null,
            "top": null,
            "visibility": null,
            "width": "20px"
          }
        },
        "ccf68d71426648b3b6a8cbe6ceba6078": {
          "model_module": "@jupyter-widgets/controls",
          "model_name": "ProgressStyleModel",
          "model_module_version": "1.5.0",
          "state": {
            "_model_module": "@jupyter-widgets/controls",
            "_model_module_version": "1.5.0",
            "_model_name": "ProgressStyleModel",
            "_view_count": null,
            "_view_module": "@jupyter-widgets/base",
            "_view_module_version": "1.2.0",
            "_view_name": "StyleView",
            "bar_color": null,
            "description_width": ""
          }
        },
        "5aa3d02ad747438190867b5ef54cd98f": {
          "model_module": "@jupyter-widgets/base",
          "model_name": "LayoutModel",
          "model_module_version": "1.2.0",
          "state": {
            "_model_module": "@jupyter-widgets/base",
            "_model_module_version": "1.2.0",
            "_model_name": "LayoutModel",
            "_view_count": null,
            "_view_module": "@jupyter-widgets/base",
            "_view_module_version": "1.2.0",
            "_view_name": "LayoutView",
            "align_content": null,
            "align_items": null,
            "align_self": null,
            "border": null,
            "bottom": null,
            "display": null,
            "flex": null,
            "flex_flow": null,
            "grid_area": null,
            "grid_auto_columns": null,
            "grid_auto_flow": null,
            "grid_auto_rows": null,
            "grid_column": null,
            "grid_gap": null,
            "grid_row": null,
            "grid_template_areas": null,
            "grid_template_columns": null,
            "grid_template_rows": null,
            "height": null,
            "justify_content": null,
            "justify_items": null,
            "left": null,
            "margin": null,
            "max_height": null,
            "max_width": null,
            "min_height": null,
            "min_width": null,
            "object_fit": null,
            "object_position": null,
            "order": null,
            "overflow": null,
            "overflow_x": null,
            "overflow_y": null,
            "padding": null,
            "right": null,
            "top": null,
            "visibility": null,
            "width": null
          }
        },
        "845324928a634550ad08af62b3007f6b": {
          "model_module": "@jupyter-widgets/controls",
          "model_name": "DescriptionStyleModel",
          "model_module_version": "1.5.0",
          "state": {
            "_model_module": "@jupyter-widgets/controls",
            "_model_module_version": "1.5.0",
            "_model_name": "DescriptionStyleModel",
            "_view_count": null,
            "_view_module": "@jupyter-widgets/base",
            "_view_module_version": "1.2.0",
            "_view_name": "StyleView",
            "description_width": ""
          }
        },
        "14157962a9de4ac89e44c9a2db779817": {
          "model_module": "@jupyter-widgets/controls",
          "model_name": "HBoxModel",
          "model_module_version": "1.5.0",
          "state": {
            "_dom_classes": [],
            "_model_module": "@jupyter-widgets/controls",
            "_model_module_version": "1.5.0",
            "_model_name": "HBoxModel",
            "_view_count": null,
            "_view_module": "@jupyter-widgets/controls",
            "_view_module_version": "1.5.0",
            "_view_name": "HBoxView",
            "box_style": "",
            "children": [
              "IPY_MODEL_bde6e380d6e94c079b18db0cfe2dd806",
              "IPY_MODEL_03561191fa9d4815bc30e6b9d125e6f8",
              "IPY_MODEL_99c1ac1cadc7435790409273248d5239"
            ],
            "layout": "IPY_MODEL_9031ffb5bf3c47d380ffa94dcb7c7b2d"
          }
        },
        "bde6e380d6e94c079b18db0cfe2dd806": {
          "model_module": "@jupyter-widgets/controls",
          "model_name": "HTMLModel",
          "model_module_version": "1.5.0",
          "state": {
            "_dom_classes": [],
            "_model_module": "@jupyter-widgets/controls",
            "_model_module_version": "1.5.0",
            "_model_name": "HTMLModel",
            "_view_count": null,
            "_view_module": "@jupyter-widgets/controls",
            "_view_module_version": "1.5.0",
            "_view_name": "HTMLView",
            "description": "",
            "description_tooltip": null,
            "layout": "IPY_MODEL_96b4ab9268714bad9356d124b6e66dfd",
            "placeholder": "​",
            "style": "IPY_MODEL_bca92ffefa794e41bc6eb18bfe451d71",
            "value": "sentence_bert_config.json: 100%"
          }
        },
        "03561191fa9d4815bc30e6b9d125e6f8": {
          "model_module": "@jupyter-widgets/controls",
          "model_name": "FloatProgressModel",
          "model_module_version": "1.5.0",
          "state": {
            "_dom_classes": [],
            "_model_module": "@jupyter-widgets/controls",
            "_model_module_version": "1.5.0",
            "_model_name": "FloatProgressModel",
            "_view_count": null,
            "_view_module": "@jupyter-widgets/controls",
            "_view_module_version": "1.5.0",
            "_view_name": "ProgressView",
            "bar_style": "success",
            "description": "",
            "description_tooltip": null,
            "layout": "IPY_MODEL_510935c192bb42798cf7f666ba471ee6",
            "max": 53,
            "min": 0,
            "orientation": "horizontal",
            "style": "IPY_MODEL_390f3d1d2e5e45f0b976144bb84f8e62",
            "value": 53
          }
        },
        "99c1ac1cadc7435790409273248d5239": {
          "model_module": "@jupyter-widgets/controls",
          "model_name": "HTMLModel",
          "model_module_version": "1.5.0",
          "state": {
            "_dom_classes": [],
            "_model_module": "@jupyter-widgets/controls",
            "_model_module_version": "1.5.0",
            "_model_name": "HTMLModel",
            "_view_count": null,
            "_view_module": "@jupyter-widgets/controls",
            "_view_module_version": "1.5.0",
            "_view_name": "HTMLView",
            "description": "",
            "description_tooltip": null,
            "layout": "IPY_MODEL_46c969bece164022b2a7ba1a61d9fdcd",
            "placeholder": "​",
            "style": "IPY_MODEL_92e5ab8bce47430abbb69d39c0cf8def",
            "value": " 53.0/53.0 [00:00&lt;00:00, 4.59kB/s]"
          }
        },
        "9031ffb5bf3c47d380ffa94dcb7c7b2d": {
          "model_module": "@jupyter-widgets/base",
          "model_name": "LayoutModel",
          "model_module_version": "1.2.0",
          "state": {
            "_model_module": "@jupyter-widgets/base",
            "_model_module_version": "1.2.0",
            "_model_name": "LayoutModel",
            "_view_count": null,
            "_view_module": "@jupyter-widgets/base",
            "_view_module_version": "1.2.0",
            "_view_name": "LayoutView",
            "align_content": null,
            "align_items": null,
            "align_self": null,
            "border": null,
            "bottom": null,
            "display": null,
            "flex": null,
            "flex_flow": null,
            "grid_area": null,
            "grid_auto_columns": null,
            "grid_auto_flow": null,
            "grid_auto_rows": null,
            "grid_column": null,
            "grid_gap": null,
            "grid_row": null,
            "grid_template_areas": null,
            "grid_template_columns": null,
            "grid_template_rows": null,
            "height": null,
            "justify_content": null,
            "justify_items": null,
            "left": null,
            "margin": null,
            "max_height": null,
            "max_width": null,
            "min_height": null,
            "min_width": null,
            "object_fit": null,
            "object_position": null,
            "order": null,
            "overflow": null,
            "overflow_x": null,
            "overflow_y": null,
            "padding": null,
            "right": null,
            "top": null,
            "visibility": null,
            "width": null
          }
        },
        "96b4ab9268714bad9356d124b6e66dfd": {
          "model_module": "@jupyter-widgets/base",
          "model_name": "LayoutModel",
          "model_module_version": "1.2.0",
          "state": {
            "_model_module": "@jupyter-widgets/base",
            "_model_module_version": "1.2.0",
            "_model_name": "LayoutModel",
            "_view_count": null,
            "_view_module": "@jupyter-widgets/base",
            "_view_module_version": "1.2.0",
            "_view_name": "LayoutView",
            "align_content": null,
            "align_items": null,
            "align_self": null,
            "border": null,
            "bottom": null,
            "display": null,
            "flex": null,
            "flex_flow": null,
            "grid_area": null,
            "grid_auto_columns": null,
            "grid_auto_flow": null,
            "grid_auto_rows": null,
            "grid_column": null,
            "grid_gap": null,
            "grid_row": null,
            "grid_template_areas": null,
            "grid_template_columns": null,
            "grid_template_rows": null,
            "height": null,
            "justify_content": null,
            "justify_items": null,
            "left": null,
            "margin": null,
            "max_height": null,
            "max_width": null,
            "min_height": null,
            "min_width": null,
            "object_fit": null,
            "object_position": null,
            "order": null,
            "overflow": null,
            "overflow_x": null,
            "overflow_y": null,
            "padding": null,
            "right": null,
            "top": null,
            "visibility": null,
            "width": null
          }
        },
        "bca92ffefa794e41bc6eb18bfe451d71": {
          "model_module": "@jupyter-widgets/controls",
          "model_name": "DescriptionStyleModel",
          "model_module_version": "1.5.0",
          "state": {
            "_model_module": "@jupyter-widgets/controls",
            "_model_module_version": "1.5.0",
            "_model_name": "DescriptionStyleModel",
            "_view_count": null,
            "_view_module": "@jupyter-widgets/base",
            "_view_module_version": "1.2.0",
            "_view_name": "StyleView",
            "description_width": ""
          }
        },
        "510935c192bb42798cf7f666ba471ee6": {
          "model_module": "@jupyter-widgets/base",
          "model_name": "LayoutModel",
          "model_module_version": "1.2.0",
          "state": {
            "_model_module": "@jupyter-widgets/base",
            "_model_module_version": "1.2.0",
            "_model_name": "LayoutModel",
            "_view_count": null,
            "_view_module": "@jupyter-widgets/base",
            "_view_module_version": "1.2.0",
            "_view_name": "LayoutView",
            "align_content": null,
            "align_items": null,
            "align_self": null,
            "border": null,
            "bottom": null,
            "display": null,
            "flex": null,
            "flex_flow": null,
            "grid_area": null,
            "grid_auto_columns": null,
            "grid_auto_flow": null,
            "grid_auto_rows": null,
            "grid_column": null,
            "grid_gap": null,
            "grid_row": null,
            "grid_template_areas": null,
            "grid_template_columns": null,
            "grid_template_rows": null,
            "height": null,
            "justify_content": null,
            "justify_items": null,
            "left": null,
            "margin": null,
            "max_height": null,
            "max_width": null,
            "min_height": null,
            "min_width": null,
            "object_fit": null,
            "object_position": null,
            "order": null,
            "overflow": null,
            "overflow_x": null,
            "overflow_y": null,
            "padding": null,
            "right": null,
            "top": null,
            "visibility": null,
            "width": null
          }
        },
        "390f3d1d2e5e45f0b976144bb84f8e62": {
          "model_module": "@jupyter-widgets/controls",
          "model_name": "ProgressStyleModel",
          "model_module_version": "1.5.0",
          "state": {
            "_model_module": "@jupyter-widgets/controls",
            "_model_module_version": "1.5.0",
            "_model_name": "ProgressStyleModel",
            "_view_count": null,
            "_view_module": "@jupyter-widgets/base",
            "_view_module_version": "1.2.0",
            "_view_name": "StyleView",
            "bar_color": null,
            "description_width": ""
          }
        },
        "46c969bece164022b2a7ba1a61d9fdcd": {
          "model_module": "@jupyter-widgets/base",
          "model_name": "LayoutModel",
          "model_module_version": "1.2.0",
          "state": {
            "_model_module": "@jupyter-widgets/base",
            "_model_module_version": "1.2.0",
            "_model_name": "LayoutModel",
            "_view_count": null,
            "_view_module": "@jupyter-widgets/base",
            "_view_module_version": "1.2.0",
            "_view_name": "LayoutView",
            "align_content": null,
            "align_items": null,
            "align_self": null,
            "border": null,
            "bottom": null,
            "display": null,
            "flex": null,
            "flex_flow": null,
            "grid_area": null,
            "grid_auto_columns": null,
            "grid_auto_flow": null,
            "grid_auto_rows": null,
            "grid_column": null,
            "grid_gap": null,
            "grid_row": null,
            "grid_template_areas": null,
            "grid_template_columns": null,
            "grid_template_rows": null,
            "height": null,
            "justify_content": null,
            "justify_items": null,
            "left": null,
            "margin": null,
            "max_height": null,
            "max_width": null,
            "min_height": null,
            "min_width": null,
            "object_fit": null,
            "object_position": null,
            "order": null,
            "overflow": null,
            "overflow_x": null,
            "overflow_y": null,
            "padding": null,
            "right": null,
            "top": null,
            "visibility": null,
            "width": null
          }
        },
        "92e5ab8bce47430abbb69d39c0cf8def": {
          "model_module": "@jupyter-widgets/controls",
          "model_name": "DescriptionStyleModel",
          "model_module_version": "1.5.0",
          "state": {
            "_model_module": "@jupyter-widgets/controls",
            "_model_module_version": "1.5.0",
            "_model_name": "DescriptionStyleModel",
            "_view_count": null,
            "_view_module": "@jupyter-widgets/base",
            "_view_module_version": "1.2.0",
            "_view_name": "StyleView",
            "description_width": ""
          }
        },
        "e7787db67d4f465495c97df595d1d016": {
          "model_module": "@jupyter-widgets/controls",
          "model_name": "HBoxModel",
          "model_module_version": "1.5.0",
          "state": {
            "_dom_classes": [],
            "_model_module": "@jupyter-widgets/controls",
            "_model_module_version": "1.5.0",
            "_model_name": "HBoxModel",
            "_view_count": null,
            "_view_module": "@jupyter-widgets/controls",
            "_view_module_version": "1.5.0",
            "_view_name": "HBoxView",
            "box_style": "",
            "children": [
              "IPY_MODEL_039719354af7492291dac2d27aa91a30",
              "IPY_MODEL_a024ffbb97594e69926d90827553f385",
              "IPY_MODEL_6a3a69bb0f244951a44b2974ef2b94a1"
            ],
            "layout": "IPY_MODEL_52d1ea87074e4dfeaa41773b5f6ea0e1"
          }
        },
        "039719354af7492291dac2d27aa91a30": {
          "model_module": "@jupyter-widgets/controls",
          "model_name": "HTMLModel",
          "model_module_version": "1.5.0",
          "state": {
            "_dom_classes": [],
            "_model_module": "@jupyter-widgets/controls",
            "_model_module_version": "1.5.0",
            "_model_name": "HTMLModel",
            "_view_count": null,
            "_view_module": "@jupyter-widgets/controls",
            "_view_module_version": "1.5.0",
            "_view_name": "HTMLView",
            "description": "",
            "description_tooltip": null,
            "layout": "IPY_MODEL_ec33873e268749259340066e5f5f7e25",
            "placeholder": "​",
            "style": "IPY_MODEL_eec9e660a87944b08259565aea74fec2",
            "value": "config.json: 100%"
          }
        },
        "a024ffbb97594e69926d90827553f385": {
          "model_module": "@jupyter-widgets/controls",
          "model_name": "FloatProgressModel",
          "model_module_version": "1.5.0",
          "state": {
            "_dom_classes": [],
            "_model_module": "@jupyter-widgets/controls",
            "_model_module_version": "1.5.0",
            "_model_name": "FloatProgressModel",
            "_view_count": null,
            "_view_module": "@jupyter-widgets/controls",
            "_view_module_version": "1.5.0",
            "_view_name": "ProgressView",
            "bar_style": "success",
            "description": "",
            "description_tooltip": null,
            "layout": "IPY_MODEL_5d4079257ad74bec90f113eb1c7648af",
            "max": 612,
            "min": 0,
            "orientation": "horizontal",
            "style": "IPY_MODEL_6756846f40464264995077dd3e127036",
            "value": 612
          }
        },
        "6a3a69bb0f244951a44b2974ef2b94a1": {
          "model_module": "@jupyter-widgets/controls",
          "model_name": "HTMLModel",
          "model_module_version": "1.5.0",
          "state": {
            "_dom_classes": [],
            "_model_module": "@jupyter-widgets/controls",
            "_model_module_version": "1.5.0",
            "_model_name": "HTMLModel",
            "_view_count": null,
            "_view_module": "@jupyter-widgets/controls",
            "_view_module_version": "1.5.0",
            "_view_name": "HTMLView",
            "description": "",
            "description_tooltip": null,
            "layout": "IPY_MODEL_61905ab870314ae9b0832f91400b0d7c",
            "placeholder": "​",
            "style": "IPY_MODEL_21338d360acf40a5bafa2c624629326f",
            "value": " 612/612 [00:00&lt;00:00, 58.8kB/s]"
          }
        },
        "52d1ea87074e4dfeaa41773b5f6ea0e1": {
          "model_module": "@jupyter-widgets/base",
          "model_name": "LayoutModel",
          "model_module_version": "1.2.0",
          "state": {
            "_model_module": "@jupyter-widgets/base",
            "_model_module_version": "1.2.0",
            "_model_name": "LayoutModel",
            "_view_count": null,
            "_view_module": "@jupyter-widgets/base",
            "_view_module_version": "1.2.0",
            "_view_name": "LayoutView",
            "align_content": null,
            "align_items": null,
            "align_self": null,
            "border": null,
            "bottom": null,
            "display": null,
            "flex": null,
            "flex_flow": null,
            "grid_area": null,
            "grid_auto_columns": null,
            "grid_auto_flow": null,
            "grid_auto_rows": null,
            "grid_column": null,
            "grid_gap": null,
            "grid_row": null,
            "grid_template_areas": null,
            "grid_template_columns": null,
            "grid_template_rows": null,
            "height": null,
            "justify_content": null,
            "justify_items": null,
            "left": null,
            "margin": null,
            "max_height": null,
            "max_width": null,
            "min_height": null,
            "min_width": null,
            "object_fit": null,
            "object_position": null,
            "order": null,
            "overflow": null,
            "overflow_x": null,
            "overflow_y": null,
            "padding": null,
            "right": null,
            "top": null,
            "visibility": null,
            "width": null
          }
        },
        "ec33873e268749259340066e5f5f7e25": {
          "model_module": "@jupyter-widgets/base",
          "model_name": "LayoutModel",
          "model_module_version": "1.2.0",
          "state": {
            "_model_module": "@jupyter-widgets/base",
            "_model_module_version": "1.2.0",
            "_model_name": "LayoutModel",
            "_view_count": null,
            "_view_module": "@jupyter-widgets/base",
            "_view_module_version": "1.2.0",
            "_view_name": "LayoutView",
            "align_content": null,
            "align_items": null,
            "align_self": null,
            "border": null,
            "bottom": null,
            "display": null,
            "flex": null,
            "flex_flow": null,
            "grid_area": null,
            "grid_auto_columns": null,
            "grid_auto_flow": null,
            "grid_auto_rows": null,
            "grid_column": null,
            "grid_gap": null,
            "grid_row": null,
            "grid_template_areas": null,
            "grid_template_columns": null,
            "grid_template_rows": null,
            "height": null,
            "justify_content": null,
            "justify_items": null,
            "left": null,
            "margin": null,
            "max_height": null,
            "max_width": null,
            "min_height": null,
            "min_width": null,
            "object_fit": null,
            "object_position": null,
            "order": null,
            "overflow": null,
            "overflow_x": null,
            "overflow_y": null,
            "padding": null,
            "right": null,
            "top": null,
            "visibility": null,
            "width": null
          }
        },
        "eec9e660a87944b08259565aea74fec2": {
          "model_module": "@jupyter-widgets/controls",
          "model_name": "DescriptionStyleModel",
          "model_module_version": "1.5.0",
          "state": {
            "_model_module": "@jupyter-widgets/controls",
            "_model_module_version": "1.5.0",
            "_model_name": "DescriptionStyleModel",
            "_view_count": null,
            "_view_module": "@jupyter-widgets/base",
            "_view_module_version": "1.2.0",
            "_view_name": "StyleView",
            "description_width": ""
          }
        },
        "5d4079257ad74bec90f113eb1c7648af": {
          "model_module": "@jupyter-widgets/base",
          "model_name": "LayoutModel",
          "model_module_version": "1.2.0",
          "state": {
            "_model_module": "@jupyter-widgets/base",
            "_model_module_version": "1.2.0",
            "_model_name": "LayoutModel",
            "_view_count": null,
            "_view_module": "@jupyter-widgets/base",
            "_view_module_version": "1.2.0",
            "_view_name": "LayoutView",
            "align_content": null,
            "align_items": null,
            "align_self": null,
            "border": null,
            "bottom": null,
            "display": null,
            "flex": null,
            "flex_flow": null,
            "grid_area": null,
            "grid_auto_columns": null,
            "grid_auto_flow": null,
            "grid_auto_rows": null,
            "grid_column": null,
            "grid_gap": null,
            "grid_row": null,
            "grid_template_areas": null,
            "grid_template_columns": null,
            "grid_template_rows": null,
            "height": null,
            "justify_content": null,
            "justify_items": null,
            "left": null,
            "margin": null,
            "max_height": null,
            "max_width": null,
            "min_height": null,
            "min_width": null,
            "object_fit": null,
            "object_position": null,
            "order": null,
            "overflow": null,
            "overflow_x": null,
            "overflow_y": null,
            "padding": null,
            "right": null,
            "top": null,
            "visibility": null,
            "width": null
          }
        },
        "6756846f40464264995077dd3e127036": {
          "model_module": "@jupyter-widgets/controls",
          "model_name": "ProgressStyleModel",
          "model_module_version": "1.5.0",
          "state": {
            "_model_module": "@jupyter-widgets/controls",
            "_model_module_version": "1.5.0",
            "_model_name": "ProgressStyleModel",
            "_view_count": null,
            "_view_module": "@jupyter-widgets/base",
            "_view_module_version": "1.2.0",
            "_view_name": "StyleView",
            "bar_color": null,
            "description_width": ""
          }
        },
        "61905ab870314ae9b0832f91400b0d7c": {
          "model_module": "@jupyter-widgets/base",
          "model_name": "LayoutModel",
          "model_module_version": "1.2.0",
          "state": {
            "_model_module": "@jupyter-widgets/base",
            "_model_module_version": "1.2.0",
            "_model_name": "LayoutModel",
            "_view_count": null,
            "_view_module": "@jupyter-widgets/base",
            "_view_module_version": "1.2.0",
            "_view_name": "LayoutView",
            "align_content": null,
            "align_items": null,
            "align_self": null,
            "border": null,
            "bottom": null,
            "display": null,
            "flex": null,
            "flex_flow": null,
            "grid_area": null,
            "grid_auto_columns": null,
            "grid_auto_flow": null,
            "grid_auto_rows": null,
            "grid_column": null,
            "grid_gap": null,
            "grid_row": null,
            "grid_template_areas": null,
            "grid_template_columns": null,
            "grid_template_rows": null,
            "height": null,
            "justify_content": null,
            "justify_items": null,
            "left": null,
            "margin": null,
            "max_height": null,
            "max_width": null,
            "min_height": null,
            "min_width": null,
            "object_fit": null,
            "object_position": null,
            "order": null,
            "overflow": null,
            "overflow_x": null,
            "overflow_y": null,
            "padding": null,
            "right": null,
            "top": null,
            "visibility": null,
            "width": null
          }
        },
        "21338d360acf40a5bafa2c624629326f": {
          "model_module": "@jupyter-widgets/controls",
          "model_name": "DescriptionStyleModel",
          "model_module_version": "1.5.0",
          "state": {
            "_model_module": "@jupyter-widgets/controls",
            "_model_module_version": "1.5.0",
            "_model_name": "DescriptionStyleModel",
            "_view_count": null,
            "_view_module": "@jupyter-widgets/base",
            "_view_module_version": "1.2.0",
            "_view_name": "StyleView",
            "description_width": ""
          }
        },
        "0ee076693a494a9bb6fed09ff2e87813": {
          "model_module": "@jupyter-widgets/controls",
          "model_name": "HBoxModel",
          "model_module_version": "1.5.0",
          "state": {
            "_dom_classes": [],
            "_model_module": "@jupyter-widgets/controls",
            "_model_module_version": "1.5.0",
            "_model_name": "HBoxModel",
            "_view_count": null,
            "_view_module": "@jupyter-widgets/controls",
            "_view_module_version": "1.5.0",
            "_view_name": "HBoxView",
            "box_style": "",
            "children": [
              "IPY_MODEL_3929a93587f149199c12a6c0ecf210b3",
              "IPY_MODEL_fea1b5aaf15a4bc194cfe1ce9a5cee5c",
              "IPY_MODEL_e398207959264fc18f0264705b91dc6f"
            ],
            "layout": "IPY_MODEL_d6971680c9a44760a5aaddb7eb70f206"
          }
        },
        "3929a93587f149199c12a6c0ecf210b3": {
          "model_module": "@jupyter-widgets/controls",
          "model_name": "HTMLModel",
          "model_module_version": "1.5.0",
          "state": {
            "_dom_classes": [],
            "_model_module": "@jupyter-widgets/controls",
            "_model_module_version": "1.5.0",
            "_model_name": "HTMLModel",
            "_view_count": null,
            "_view_module": "@jupyter-widgets/controls",
            "_view_module_version": "1.5.0",
            "_view_name": "HTMLView",
            "description": "",
            "description_tooltip": null,
            "layout": "IPY_MODEL_9d21c2c4cc2b4a118589e74f8fe9b05f",
            "placeholder": "​",
            "style": "IPY_MODEL_824621c6ac104f46913311f02bf516f6",
            "value": "model.safetensors: 100%"
          }
        },
        "fea1b5aaf15a4bc194cfe1ce9a5cee5c": {
          "model_module": "@jupyter-widgets/controls",
          "model_name": "FloatProgressModel",
          "model_module_version": "1.5.0",
          "state": {
            "_dom_classes": [],
            "_model_module": "@jupyter-widgets/controls",
            "_model_module_version": "1.5.0",
            "_model_name": "FloatProgressModel",
            "_view_count": null,
            "_view_module": "@jupyter-widgets/controls",
            "_view_module_version": "1.5.0",
            "_view_name": "ProgressView",
            "bar_style": "success",
            "description": "",
            "description_tooltip": null,
            "layout": "IPY_MODEL_3e1e36f36b0f41a4a62c18c9183f3ef4",
            "max": 90868376,
            "min": 0,
            "orientation": "horizontal",
            "style": "IPY_MODEL_199ac4eb07d84e34aeb61348023deead",
            "value": 90868376
          }
        },
        "e398207959264fc18f0264705b91dc6f": {
          "model_module": "@jupyter-widgets/controls",
          "model_name": "HTMLModel",
          "model_module_version": "1.5.0",
          "state": {
            "_dom_classes": [],
            "_model_module": "@jupyter-widgets/controls",
            "_model_module_version": "1.5.0",
            "_model_name": "HTMLModel",
            "_view_count": null,
            "_view_module": "@jupyter-widgets/controls",
            "_view_module_version": "1.5.0",
            "_view_name": "HTMLView",
            "description": "",
            "description_tooltip": null,
            "layout": "IPY_MODEL_1c640d67b0fb4db1a6ddae0a50559351",
            "placeholder": "​",
            "style": "IPY_MODEL_11085ca56b554b26bf19b50379e5aba8",
            "value": " 90.9M/90.9M [00:00&lt;00:00, 124MB/s]"
          }
        },
        "d6971680c9a44760a5aaddb7eb70f206": {
          "model_module": "@jupyter-widgets/base",
          "model_name": "LayoutModel",
          "model_module_version": "1.2.0",
          "state": {
            "_model_module": "@jupyter-widgets/base",
            "_model_module_version": "1.2.0",
            "_model_name": "LayoutModel",
            "_view_count": null,
            "_view_module": "@jupyter-widgets/base",
            "_view_module_version": "1.2.0",
            "_view_name": "LayoutView",
            "align_content": null,
            "align_items": null,
            "align_self": null,
            "border": null,
            "bottom": null,
            "display": null,
            "flex": null,
            "flex_flow": null,
            "grid_area": null,
            "grid_auto_columns": null,
            "grid_auto_flow": null,
            "grid_auto_rows": null,
            "grid_column": null,
            "grid_gap": null,
            "grid_row": null,
            "grid_template_areas": null,
            "grid_template_columns": null,
            "grid_template_rows": null,
            "height": null,
            "justify_content": null,
            "justify_items": null,
            "left": null,
            "margin": null,
            "max_height": null,
            "max_width": null,
            "min_height": null,
            "min_width": null,
            "object_fit": null,
            "object_position": null,
            "order": null,
            "overflow": null,
            "overflow_x": null,
            "overflow_y": null,
            "padding": null,
            "right": null,
            "top": null,
            "visibility": null,
            "width": null
          }
        },
        "9d21c2c4cc2b4a118589e74f8fe9b05f": {
          "model_module": "@jupyter-widgets/base",
          "model_name": "LayoutModel",
          "model_module_version": "1.2.0",
          "state": {
            "_model_module": "@jupyter-widgets/base",
            "_model_module_version": "1.2.0",
            "_model_name": "LayoutModel",
            "_view_count": null,
            "_view_module": "@jupyter-widgets/base",
            "_view_module_version": "1.2.0",
            "_view_name": "LayoutView",
            "align_content": null,
            "align_items": null,
            "align_self": null,
            "border": null,
            "bottom": null,
            "display": null,
            "flex": null,
            "flex_flow": null,
            "grid_area": null,
            "grid_auto_columns": null,
            "grid_auto_flow": null,
            "grid_auto_rows": null,
            "grid_column": null,
            "grid_gap": null,
            "grid_row": null,
            "grid_template_areas": null,
            "grid_template_columns": null,
            "grid_template_rows": null,
            "height": null,
            "justify_content": null,
            "justify_items": null,
            "left": null,
            "margin": null,
            "max_height": null,
            "max_width": null,
            "min_height": null,
            "min_width": null,
            "object_fit": null,
            "object_position": null,
            "order": null,
            "overflow": null,
            "overflow_x": null,
            "overflow_y": null,
            "padding": null,
            "right": null,
            "top": null,
            "visibility": null,
            "width": null
          }
        },
        "824621c6ac104f46913311f02bf516f6": {
          "model_module": "@jupyter-widgets/controls",
          "model_name": "DescriptionStyleModel",
          "model_module_version": "1.5.0",
          "state": {
            "_model_module": "@jupyter-widgets/controls",
            "_model_module_version": "1.5.0",
            "_model_name": "DescriptionStyleModel",
            "_view_count": null,
            "_view_module": "@jupyter-widgets/base",
            "_view_module_version": "1.2.0",
            "_view_name": "StyleView",
            "description_width": ""
          }
        },
        "3e1e36f36b0f41a4a62c18c9183f3ef4": {
          "model_module": "@jupyter-widgets/base",
          "model_name": "LayoutModel",
          "model_module_version": "1.2.0",
          "state": {
            "_model_module": "@jupyter-widgets/base",
            "_model_module_version": "1.2.0",
            "_model_name": "LayoutModel",
            "_view_count": null,
            "_view_module": "@jupyter-widgets/base",
            "_view_module_version": "1.2.0",
            "_view_name": "LayoutView",
            "align_content": null,
            "align_items": null,
            "align_self": null,
            "border": null,
            "bottom": null,
            "display": null,
            "flex": null,
            "flex_flow": null,
            "grid_area": null,
            "grid_auto_columns": null,
            "grid_auto_flow": null,
            "grid_auto_rows": null,
            "grid_column": null,
            "grid_gap": null,
            "grid_row": null,
            "grid_template_areas": null,
            "grid_template_columns": null,
            "grid_template_rows": null,
            "height": null,
            "justify_content": null,
            "justify_items": null,
            "left": null,
            "margin": null,
            "max_height": null,
            "max_width": null,
            "min_height": null,
            "min_width": null,
            "object_fit": null,
            "object_position": null,
            "order": null,
            "overflow": null,
            "overflow_x": null,
            "overflow_y": null,
            "padding": null,
            "right": null,
            "top": null,
            "visibility": null,
            "width": null
          }
        },
        "199ac4eb07d84e34aeb61348023deead": {
          "model_module": "@jupyter-widgets/controls",
          "model_name": "ProgressStyleModel",
          "model_module_version": "1.5.0",
          "state": {
            "_model_module": "@jupyter-widgets/controls",
            "_model_module_version": "1.5.0",
            "_model_name": "ProgressStyleModel",
            "_view_count": null,
            "_view_module": "@jupyter-widgets/base",
            "_view_module_version": "1.2.0",
            "_view_name": "StyleView",
            "bar_color": null,
            "description_width": ""
          }
        },
        "1c640d67b0fb4db1a6ddae0a50559351": {
          "model_module": "@jupyter-widgets/base",
          "model_name": "LayoutModel",
          "model_module_version": "1.2.0",
          "state": {
            "_model_module": "@jupyter-widgets/base",
            "_model_module_version": "1.2.0",
            "_model_name": "LayoutModel",
            "_view_count": null,
            "_view_module": "@jupyter-widgets/base",
            "_view_module_version": "1.2.0",
            "_view_name": "LayoutView",
            "align_content": null,
            "align_items": null,
            "align_self": null,
            "border": null,
            "bottom": null,
            "display": null,
            "flex": null,
            "flex_flow": null,
            "grid_area": null,
            "grid_auto_columns": null,
            "grid_auto_flow": null,
            "grid_auto_rows": null,
            "grid_column": null,
            "grid_gap": null,
            "grid_row": null,
            "grid_template_areas": null,
            "grid_template_columns": null,
            "grid_template_rows": null,
            "height": null,
            "justify_content": null,
            "justify_items": null,
            "left": null,
            "margin": null,
            "max_height": null,
            "max_width": null,
            "min_height": null,
            "min_width": null,
            "object_fit": null,
            "object_position": null,
            "order": null,
            "overflow": null,
            "overflow_x": null,
            "overflow_y": null,
            "padding": null,
            "right": null,
            "top": null,
            "visibility": null,
            "width": null
          }
        },
        "11085ca56b554b26bf19b50379e5aba8": {
          "model_module": "@jupyter-widgets/controls",
          "model_name": "DescriptionStyleModel",
          "model_module_version": "1.5.0",
          "state": {
            "_model_module": "@jupyter-widgets/controls",
            "_model_module_version": "1.5.0",
            "_model_name": "DescriptionStyleModel",
            "_view_count": null,
            "_view_module": "@jupyter-widgets/base",
            "_view_module_version": "1.2.0",
            "_view_name": "StyleView",
            "description_width": ""
          }
        },
        "5969d2b78cd348b5968a3e33d4de24ba": {
          "model_module": "@jupyter-widgets/controls",
          "model_name": "HBoxModel",
          "model_module_version": "1.5.0",
          "state": {
            "_dom_classes": [],
            "_model_module": "@jupyter-widgets/controls",
            "_model_module_version": "1.5.0",
            "_model_name": "HBoxModel",
            "_view_count": null,
            "_view_module": "@jupyter-widgets/controls",
            "_view_module_version": "1.5.0",
            "_view_name": "HBoxView",
            "box_style": "",
            "children": [
              "IPY_MODEL_7e5e67320c4a489da7e96a2b8fb41d94",
              "IPY_MODEL_34ae4f2a96e94630a0be7b4730f4a7e3",
              "IPY_MODEL_524a577747d9490d9c2ad1075bd731b2"
            ],
            "layout": "IPY_MODEL_be3f2ed7a6e04477832d617dbc4b5ae5"
          }
        },
        "7e5e67320c4a489da7e96a2b8fb41d94": {
          "model_module": "@jupyter-widgets/controls",
          "model_name": "HTMLModel",
          "model_module_version": "1.5.0",
          "state": {
            "_dom_classes": [],
            "_model_module": "@jupyter-widgets/controls",
            "_model_module_version": "1.5.0",
            "_model_name": "HTMLModel",
            "_view_count": null,
            "_view_module": "@jupyter-widgets/controls",
            "_view_module_version": "1.5.0",
            "_view_name": "HTMLView",
            "description": "",
            "description_tooltip": null,
            "layout": "IPY_MODEL_8b30fb07ad364cfeb89b37d9b182e97f",
            "placeholder": "​",
            "style": "IPY_MODEL_e5b1260c0827493ea9fc0051b89bd288",
            "value": "tokenizer_config.json: 100%"
          }
        },
        "34ae4f2a96e94630a0be7b4730f4a7e3": {
          "model_module": "@jupyter-widgets/controls",
          "model_name": "FloatProgressModel",
          "model_module_version": "1.5.0",
          "state": {
            "_dom_classes": [],
            "_model_module": "@jupyter-widgets/controls",
            "_model_module_version": "1.5.0",
            "_model_name": "FloatProgressModel",
            "_view_count": null,
            "_view_module": "@jupyter-widgets/controls",
            "_view_module_version": "1.5.0",
            "_view_name": "ProgressView",
            "bar_style": "success",
            "description": "",
            "description_tooltip": null,
            "layout": "IPY_MODEL_ca04f02d46624c87b546431230ff2516",
            "max": 350,
            "min": 0,
            "orientation": "horizontal",
            "style": "IPY_MODEL_142f2b3b7eec44b392c067627d78c4ce",
            "value": 350
          }
        },
        "524a577747d9490d9c2ad1075bd731b2": {
          "model_module": "@jupyter-widgets/controls",
          "model_name": "HTMLModel",
          "model_module_version": "1.5.0",
          "state": {
            "_dom_classes": [],
            "_model_module": "@jupyter-widgets/controls",
            "_model_module_version": "1.5.0",
            "_model_name": "HTMLModel",
            "_view_count": null,
            "_view_module": "@jupyter-widgets/controls",
            "_view_module_version": "1.5.0",
            "_view_name": "HTMLView",
            "description": "",
            "description_tooltip": null,
            "layout": "IPY_MODEL_808eae19175743d3aed22c06f04e3106",
            "placeholder": "​",
            "style": "IPY_MODEL_0e996bef4c5147e7bd50e4bfc699deea",
            "value": " 350/350 [00:00&lt;00:00, 28.0kB/s]"
          }
        },
        "be3f2ed7a6e04477832d617dbc4b5ae5": {
          "model_module": "@jupyter-widgets/base",
          "model_name": "LayoutModel",
          "model_module_version": "1.2.0",
          "state": {
            "_model_module": "@jupyter-widgets/base",
            "_model_module_version": "1.2.0",
            "_model_name": "LayoutModel",
            "_view_count": null,
            "_view_module": "@jupyter-widgets/base",
            "_view_module_version": "1.2.0",
            "_view_name": "LayoutView",
            "align_content": null,
            "align_items": null,
            "align_self": null,
            "border": null,
            "bottom": null,
            "display": null,
            "flex": null,
            "flex_flow": null,
            "grid_area": null,
            "grid_auto_columns": null,
            "grid_auto_flow": null,
            "grid_auto_rows": null,
            "grid_column": null,
            "grid_gap": null,
            "grid_row": null,
            "grid_template_areas": null,
            "grid_template_columns": null,
            "grid_template_rows": null,
            "height": null,
            "justify_content": null,
            "justify_items": null,
            "left": null,
            "margin": null,
            "max_height": null,
            "max_width": null,
            "min_height": null,
            "min_width": null,
            "object_fit": null,
            "object_position": null,
            "order": null,
            "overflow": null,
            "overflow_x": null,
            "overflow_y": null,
            "padding": null,
            "right": null,
            "top": null,
            "visibility": null,
            "width": null
          }
        },
        "8b30fb07ad364cfeb89b37d9b182e97f": {
          "model_module": "@jupyter-widgets/base",
          "model_name": "LayoutModel",
          "model_module_version": "1.2.0",
          "state": {
            "_model_module": "@jupyter-widgets/base",
            "_model_module_version": "1.2.0",
            "_model_name": "LayoutModel",
            "_view_count": null,
            "_view_module": "@jupyter-widgets/base",
            "_view_module_version": "1.2.0",
            "_view_name": "LayoutView",
            "align_content": null,
            "align_items": null,
            "align_self": null,
            "border": null,
            "bottom": null,
            "display": null,
            "flex": null,
            "flex_flow": null,
            "grid_area": null,
            "grid_auto_columns": null,
            "grid_auto_flow": null,
            "grid_auto_rows": null,
            "grid_column": null,
            "grid_gap": null,
            "grid_row": null,
            "grid_template_areas": null,
            "grid_template_columns": null,
            "grid_template_rows": null,
            "height": null,
            "justify_content": null,
            "justify_items": null,
            "left": null,
            "margin": null,
            "max_height": null,
            "max_width": null,
            "min_height": null,
            "min_width": null,
            "object_fit": null,
            "object_position": null,
            "order": null,
            "overflow": null,
            "overflow_x": null,
            "overflow_y": null,
            "padding": null,
            "right": null,
            "top": null,
            "visibility": null,
            "width": null
          }
        },
        "e5b1260c0827493ea9fc0051b89bd288": {
          "model_module": "@jupyter-widgets/controls",
          "model_name": "DescriptionStyleModel",
          "model_module_version": "1.5.0",
          "state": {
            "_model_module": "@jupyter-widgets/controls",
            "_model_module_version": "1.5.0",
            "_model_name": "DescriptionStyleModel",
            "_view_count": null,
            "_view_module": "@jupyter-widgets/base",
            "_view_module_version": "1.2.0",
            "_view_name": "StyleView",
            "description_width": ""
          }
        },
        "ca04f02d46624c87b546431230ff2516": {
          "model_module": "@jupyter-widgets/base",
          "model_name": "LayoutModel",
          "model_module_version": "1.2.0",
          "state": {
            "_model_module": "@jupyter-widgets/base",
            "_model_module_version": "1.2.0",
            "_model_name": "LayoutModel",
            "_view_count": null,
            "_view_module": "@jupyter-widgets/base",
            "_view_module_version": "1.2.0",
            "_view_name": "LayoutView",
            "align_content": null,
            "align_items": null,
            "align_self": null,
            "border": null,
            "bottom": null,
            "display": null,
            "flex": null,
            "flex_flow": null,
            "grid_area": null,
            "grid_auto_columns": null,
            "grid_auto_flow": null,
            "grid_auto_rows": null,
            "grid_column": null,
            "grid_gap": null,
            "grid_row": null,
            "grid_template_areas": null,
            "grid_template_columns": null,
            "grid_template_rows": null,
            "height": null,
            "justify_content": null,
            "justify_items": null,
            "left": null,
            "margin": null,
            "max_height": null,
            "max_width": null,
            "min_height": null,
            "min_width": null,
            "object_fit": null,
            "object_position": null,
            "order": null,
            "overflow": null,
            "overflow_x": null,
            "overflow_y": null,
            "padding": null,
            "right": null,
            "top": null,
            "visibility": null,
            "width": null
          }
        },
        "142f2b3b7eec44b392c067627d78c4ce": {
          "model_module": "@jupyter-widgets/controls",
          "model_name": "ProgressStyleModel",
          "model_module_version": "1.5.0",
          "state": {
            "_model_module": "@jupyter-widgets/controls",
            "_model_module_version": "1.5.0",
            "_model_name": "ProgressStyleModel",
            "_view_count": null,
            "_view_module": "@jupyter-widgets/base",
            "_view_module_version": "1.2.0",
            "_view_name": "StyleView",
            "bar_color": null,
            "description_width": ""
          }
        },
        "808eae19175743d3aed22c06f04e3106": {
          "model_module": "@jupyter-widgets/base",
          "model_name": "LayoutModel",
          "model_module_version": "1.2.0",
          "state": {
            "_model_module": "@jupyter-widgets/base",
            "_model_module_version": "1.2.0",
            "_model_name": "LayoutModel",
            "_view_count": null,
            "_view_module": "@jupyter-widgets/base",
            "_view_module_version": "1.2.0",
            "_view_name": "LayoutView",
            "align_content": null,
            "align_items": null,
            "align_self": null,
            "border": null,
            "bottom": null,
            "display": null,
            "flex": null,
            "flex_flow": null,
            "grid_area": null,
            "grid_auto_columns": null,
            "grid_auto_flow": null,
            "grid_auto_rows": null,
            "grid_column": null,
            "grid_gap": null,
            "grid_row": null,
            "grid_template_areas": null,
            "grid_template_columns": null,
            "grid_template_rows": null,
            "height": null,
            "justify_content": null,
            "justify_items": null,
            "left": null,
            "margin": null,
            "max_height": null,
            "max_width": null,
            "min_height": null,
            "min_width": null,
            "object_fit": null,
            "object_position": null,
            "order": null,
            "overflow": null,
            "overflow_x": null,
            "overflow_y": null,
            "padding": null,
            "right": null,
            "top": null,
            "visibility": null,
            "width": null
          }
        },
        "0e996bef4c5147e7bd50e4bfc699deea": {
          "model_module": "@jupyter-widgets/controls",
          "model_name": "DescriptionStyleModel",
          "model_module_version": "1.5.0",
          "state": {
            "_model_module": "@jupyter-widgets/controls",
            "_model_module_version": "1.5.0",
            "_model_name": "DescriptionStyleModel",
            "_view_count": null,
            "_view_module": "@jupyter-widgets/base",
            "_view_module_version": "1.2.0",
            "_view_name": "StyleView",
            "description_width": ""
          }
        },
        "0b39df5a6da74290a853eb50a9ef4721": {
          "model_module": "@jupyter-widgets/controls",
          "model_name": "HBoxModel",
          "model_module_version": "1.5.0",
          "state": {
            "_dom_classes": [],
            "_model_module": "@jupyter-widgets/controls",
            "_model_module_version": "1.5.0",
            "_model_name": "HBoxModel",
            "_view_count": null,
            "_view_module": "@jupyter-widgets/controls",
            "_view_module_version": "1.5.0",
            "_view_name": "HBoxView",
            "box_style": "",
            "children": [
              "IPY_MODEL_49480d9a76504113adbc5cd7ed22ffcf",
              "IPY_MODEL_f51d994257114f069534ab46fad97b3a",
              "IPY_MODEL_0397930728804022a8f307731d2f9f2e"
            ],
            "layout": "IPY_MODEL_4046cad9fee24437828564a35e2539ce"
          }
        },
        "49480d9a76504113adbc5cd7ed22ffcf": {
          "model_module": "@jupyter-widgets/controls",
          "model_name": "HTMLModel",
          "model_module_version": "1.5.0",
          "state": {
            "_dom_classes": [],
            "_model_module": "@jupyter-widgets/controls",
            "_model_module_version": "1.5.0",
            "_model_name": "HTMLModel",
            "_view_count": null,
            "_view_module": "@jupyter-widgets/controls",
            "_view_module_version": "1.5.0",
            "_view_name": "HTMLView",
            "description": "",
            "description_tooltip": null,
            "layout": "IPY_MODEL_bfa6498206f54ceaa2975efbbbd81f6e",
            "placeholder": "​",
            "style": "IPY_MODEL_007222c8763e476781c476477c94ef6d",
            "value": "vocab.txt: "
          }
        },
        "f51d994257114f069534ab46fad97b3a": {
          "model_module": "@jupyter-widgets/controls",
          "model_name": "FloatProgressModel",
          "model_module_version": "1.5.0",
          "state": {
            "_dom_classes": [],
            "_model_module": "@jupyter-widgets/controls",
            "_model_module_version": "1.5.0",
            "_model_name": "FloatProgressModel",
            "_view_count": null,
            "_view_module": "@jupyter-widgets/controls",
            "_view_module_version": "1.5.0",
            "_view_name": "ProgressView",
            "bar_style": "success",
            "description": "",
            "description_tooltip": null,
            "layout": "IPY_MODEL_b87382325d4d4b449c807633527f8e5a",
            "max": 1,
            "min": 0,
            "orientation": "horizontal",
            "style": "IPY_MODEL_6055e51e57704433bd4682a199031747",
            "value": 1
          }
        },
        "0397930728804022a8f307731d2f9f2e": {
          "model_module": "@jupyter-widgets/controls",
          "model_name": "HTMLModel",
          "model_module_version": "1.5.0",
          "state": {
            "_dom_classes": [],
            "_model_module": "@jupyter-widgets/controls",
            "_model_module_version": "1.5.0",
            "_model_name": "HTMLModel",
            "_view_count": null,
            "_view_module": "@jupyter-widgets/controls",
            "_view_module_version": "1.5.0",
            "_view_name": "HTMLView",
            "description": "",
            "description_tooltip": null,
            "layout": "IPY_MODEL_595c44b5e9b24fb38bf2180a5f8a6075",
            "placeholder": "​",
            "style": "IPY_MODEL_97f051b400d848aa89896956e84716c4",
            "value": " 232k/? [00:00&lt;00:00, 7.70MB/s]"
          }
        },
        "4046cad9fee24437828564a35e2539ce": {
          "model_module": "@jupyter-widgets/base",
          "model_name": "LayoutModel",
          "model_module_version": "1.2.0",
          "state": {
            "_model_module": "@jupyter-widgets/base",
            "_model_module_version": "1.2.0",
            "_model_name": "LayoutModel",
            "_view_count": null,
            "_view_module": "@jupyter-widgets/base",
            "_view_module_version": "1.2.0",
            "_view_name": "LayoutView",
            "align_content": null,
            "align_items": null,
            "align_self": null,
            "border": null,
            "bottom": null,
            "display": null,
            "flex": null,
            "flex_flow": null,
            "grid_area": null,
            "grid_auto_columns": null,
            "grid_auto_flow": null,
            "grid_auto_rows": null,
            "grid_column": null,
            "grid_gap": null,
            "grid_row": null,
            "grid_template_areas": null,
            "grid_template_columns": null,
            "grid_template_rows": null,
            "height": null,
            "justify_content": null,
            "justify_items": null,
            "left": null,
            "margin": null,
            "max_height": null,
            "max_width": null,
            "min_height": null,
            "min_width": null,
            "object_fit": null,
            "object_position": null,
            "order": null,
            "overflow": null,
            "overflow_x": null,
            "overflow_y": null,
            "padding": null,
            "right": null,
            "top": null,
            "visibility": null,
            "width": null
          }
        },
        "bfa6498206f54ceaa2975efbbbd81f6e": {
          "model_module": "@jupyter-widgets/base",
          "model_name": "LayoutModel",
          "model_module_version": "1.2.0",
          "state": {
            "_model_module": "@jupyter-widgets/base",
            "_model_module_version": "1.2.0",
            "_model_name": "LayoutModel",
            "_view_count": null,
            "_view_module": "@jupyter-widgets/base",
            "_view_module_version": "1.2.0",
            "_view_name": "LayoutView",
            "align_content": null,
            "align_items": null,
            "align_self": null,
            "border": null,
            "bottom": null,
            "display": null,
            "flex": null,
            "flex_flow": null,
            "grid_area": null,
            "grid_auto_columns": null,
            "grid_auto_flow": null,
            "grid_auto_rows": null,
            "grid_column": null,
            "grid_gap": null,
            "grid_row": null,
            "grid_template_areas": null,
            "grid_template_columns": null,
            "grid_template_rows": null,
            "height": null,
            "justify_content": null,
            "justify_items": null,
            "left": null,
            "margin": null,
            "max_height": null,
            "max_width": null,
            "min_height": null,
            "min_width": null,
            "object_fit": null,
            "object_position": null,
            "order": null,
            "overflow": null,
            "overflow_x": null,
            "overflow_y": null,
            "padding": null,
            "right": null,
            "top": null,
            "visibility": null,
            "width": null
          }
        },
        "007222c8763e476781c476477c94ef6d": {
          "model_module": "@jupyter-widgets/controls",
          "model_name": "DescriptionStyleModel",
          "model_module_version": "1.5.0",
          "state": {
            "_model_module": "@jupyter-widgets/controls",
            "_model_module_version": "1.5.0",
            "_model_name": "DescriptionStyleModel",
            "_view_count": null,
            "_view_module": "@jupyter-widgets/base",
            "_view_module_version": "1.2.0",
            "_view_name": "StyleView",
            "description_width": ""
          }
        },
        "b87382325d4d4b449c807633527f8e5a": {
          "model_module": "@jupyter-widgets/base",
          "model_name": "LayoutModel",
          "model_module_version": "1.2.0",
          "state": {
            "_model_module": "@jupyter-widgets/base",
            "_model_module_version": "1.2.0",
            "_model_name": "LayoutModel",
            "_view_count": null,
            "_view_module": "@jupyter-widgets/base",
            "_view_module_version": "1.2.0",
            "_view_name": "LayoutView",
            "align_content": null,
            "align_items": null,
            "align_self": null,
            "border": null,
            "bottom": null,
            "display": null,
            "flex": null,
            "flex_flow": null,
            "grid_area": null,
            "grid_auto_columns": null,
            "grid_auto_flow": null,
            "grid_auto_rows": null,
            "grid_column": null,
            "grid_gap": null,
            "grid_row": null,
            "grid_template_areas": null,
            "grid_template_columns": null,
            "grid_template_rows": null,
            "height": null,
            "justify_content": null,
            "justify_items": null,
            "left": null,
            "margin": null,
            "max_height": null,
            "max_width": null,
            "min_height": null,
            "min_width": null,
            "object_fit": null,
            "object_position": null,
            "order": null,
            "overflow": null,
            "overflow_x": null,
            "overflow_y": null,
            "padding": null,
            "right": null,
            "top": null,
            "visibility": null,
            "width": "20px"
          }
        },
        "6055e51e57704433bd4682a199031747": {
          "model_module": "@jupyter-widgets/controls",
          "model_name": "ProgressStyleModel",
          "model_module_version": "1.5.0",
          "state": {
            "_model_module": "@jupyter-widgets/controls",
            "_model_module_version": "1.5.0",
            "_model_name": "ProgressStyleModel",
            "_view_count": null,
            "_view_module": "@jupyter-widgets/base",
            "_view_module_version": "1.2.0",
            "_view_name": "StyleView",
            "bar_color": null,
            "description_width": ""
          }
        },
        "595c44b5e9b24fb38bf2180a5f8a6075": {
          "model_module": "@jupyter-widgets/base",
          "model_name": "LayoutModel",
          "model_module_version": "1.2.0",
          "state": {
            "_model_module": "@jupyter-widgets/base",
            "_model_module_version": "1.2.0",
            "_model_name": "LayoutModel",
            "_view_count": null,
            "_view_module": "@jupyter-widgets/base",
            "_view_module_version": "1.2.0",
            "_view_name": "LayoutView",
            "align_content": null,
            "align_items": null,
            "align_self": null,
            "border": null,
            "bottom": null,
            "display": null,
            "flex": null,
            "flex_flow": null,
            "grid_area": null,
            "grid_auto_columns": null,
            "grid_auto_flow": null,
            "grid_auto_rows": null,
            "grid_column": null,
            "grid_gap": null,
            "grid_row": null,
            "grid_template_areas": null,
            "grid_template_columns": null,
            "grid_template_rows": null,
            "height": null,
            "justify_content": null,
            "justify_items": null,
            "left": null,
            "margin": null,
            "max_height": null,
            "max_width": null,
            "min_height": null,
            "min_width": null,
            "object_fit": null,
            "object_position": null,
            "order": null,
            "overflow": null,
            "overflow_x": null,
            "overflow_y": null,
            "padding": null,
            "right": null,
            "top": null,
            "visibility": null,
            "width": null
          }
        },
        "97f051b400d848aa89896956e84716c4": {
          "model_module": "@jupyter-widgets/controls",
          "model_name": "DescriptionStyleModel",
          "model_module_version": "1.5.0",
          "state": {
            "_model_module": "@jupyter-widgets/controls",
            "_model_module_version": "1.5.0",
            "_model_name": "DescriptionStyleModel",
            "_view_count": null,
            "_view_module": "@jupyter-widgets/base",
            "_view_module_version": "1.2.0",
            "_view_name": "StyleView",
            "description_width": ""
          }
        },
        "3c386c0f04654bd799f3ad8356942534": {
          "model_module": "@jupyter-widgets/controls",
          "model_name": "HBoxModel",
          "model_module_version": "1.5.0",
          "state": {
            "_dom_classes": [],
            "_model_module": "@jupyter-widgets/controls",
            "_model_module_version": "1.5.0",
            "_model_name": "HBoxModel",
            "_view_count": null,
            "_view_module": "@jupyter-widgets/controls",
            "_view_module_version": "1.5.0",
            "_view_name": "HBoxView",
            "box_style": "",
            "children": [
              "IPY_MODEL_e048f0d971994642beffdcad5fc03473",
              "IPY_MODEL_af62def459664d85ba737ccecd26f1d6",
              "IPY_MODEL_8068449210564e7b94ae4601e95c0cab"
            ],
            "layout": "IPY_MODEL_21088373eced49949481054b1f0bba29"
          }
        },
        "e048f0d971994642beffdcad5fc03473": {
          "model_module": "@jupyter-widgets/controls",
          "model_name": "HTMLModel",
          "model_module_version": "1.5.0",
          "state": {
            "_dom_classes": [],
            "_model_module": "@jupyter-widgets/controls",
            "_model_module_version": "1.5.0",
            "_model_name": "HTMLModel",
            "_view_count": null,
            "_view_module": "@jupyter-widgets/controls",
            "_view_module_version": "1.5.0",
            "_view_name": "HTMLView",
            "description": "",
            "description_tooltip": null,
            "layout": "IPY_MODEL_8a38107580d14a21a271ca7b6b835df0",
            "placeholder": "​",
            "style": "IPY_MODEL_ce975ff292ad493aab96d0f1a9b83b08",
            "value": "tokenizer.json: "
          }
        },
        "af62def459664d85ba737ccecd26f1d6": {
          "model_module": "@jupyter-widgets/controls",
          "model_name": "FloatProgressModel",
          "model_module_version": "1.5.0",
          "state": {
            "_dom_classes": [],
            "_model_module": "@jupyter-widgets/controls",
            "_model_module_version": "1.5.0",
            "_model_name": "FloatProgressModel",
            "_view_count": null,
            "_view_module": "@jupyter-widgets/controls",
            "_view_module_version": "1.5.0",
            "_view_name": "ProgressView",
            "bar_style": "success",
            "description": "",
            "description_tooltip": null,
            "layout": "IPY_MODEL_94217d7f09b5406a8fe6b75ee080615b",
            "max": 1,
            "min": 0,
            "orientation": "horizontal",
            "style": "IPY_MODEL_e507226972104df19babd36794537d2a",
            "value": 1
          }
        },
        "8068449210564e7b94ae4601e95c0cab": {
          "model_module": "@jupyter-widgets/controls",
          "model_name": "HTMLModel",
          "model_module_version": "1.5.0",
          "state": {
            "_dom_classes": [],
            "_model_module": "@jupyter-widgets/controls",
            "_model_module_version": "1.5.0",
            "_model_name": "HTMLModel",
            "_view_count": null,
            "_view_module": "@jupyter-widgets/controls",
            "_view_module_version": "1.5.0",
            "_view_name": "HTMLView",
            "description": "",
            "description_tooltip": null,
            "layout": "IPY_MODEL_dbc87d69525049098a4156f38b129c09",
            "placeholder": "​",
            "style": "IPY_MODEL_13ce6077a4604aefa0de6a6ce5fdd79b",
            "value": " 466k/? [00:00&lt;00:00, 16.0MB/s]"
          }
        },
        "21088373eced49949481054b1f0bba29": {
          "model_module": "@jupyter-widgets/base",
          "model_name": "LayoutModel",
          "model_module_version": "1.2.0",
          "state": {
            "_model_module": "@jupyter-widgets/base",
            "_model_module_version": "1.2.0",
            "_model_name": "LayoutModel",
            "_view_count": null,
            "_view_module": "@jupyter-widgets/base",
            "_view_module_version": "1.2.0",
            "_view_name": "LayoutView",
            "align_content": null,
            "align_items": null,
            "align_self": null,
            "border": null,
            "bottom": null,
            "display": null,
            "flex": null,
            "flex_flow": null,
            "grid_area": null,
            "grid_auto_columns": null,
            "grid_auto_flow": null,
            "grid_auto_rows": null,
            "grid_column": null,
            "grid_gap": null,
            "grid_row": null,
            "grid_template_areas": null,
            "grid_template_columns": null,
            "grid_template_rows": null,
            "height": null,
            "justify_content": null,
            "justify_items": null,
            "left": null,
            "margin": null,
            "max_height": null,
            "max_width": null,
            "min_height": null,
            "min_width": null,
            "object_fit": null,
            "object_position": null,
            "order": null,
            "overflow": null,
            "overflow_x": null,
            "overflow_y": null,
            "padding": null,
            "right": null,
            "top": null,
            "visibility": null,
            "width": null
          }
        },
        "8a38107580d14a21a271ca7b6b835df0": {
          "model_module": "@jupyter-widgets/base",
          "model_name": "LayoutModel",
          "model_module_version": "1.2.0",
          "state": {
            "_model_module": "@jupyter-widgets/base",
            "_model_module_version": "1.2.0",
            "_model_name": "LayoutModel",
            "_view_count": null,
            "_view_module": "@jupyter-widgets/base",
            "_view_module_version": "1.2.0",
            "_view_name": "LayoutView",
            "align_content": null,
            "align_items": null,
            "align_self": null,
            "border": null,
            "bottom": null,
            "display": null,
            "flex": null,
            "flex_flow": null,
            "grid_area": null,
            "grid_auto_columns": null,
            "grid_auto_flow": null,
            "grid_auto_rows": null,
            "grid_column": null,
            "grid_gap": null,
            "grid_row": null,
            "grid_template_areas": null,
            "grid_template_columns": null,
            "grid_template_rows": null,
            "height": null,
            "justify_content": null,
            "justify_items": null,
            "left": null,
            "margin": null,
            "max_height": null,
            "max_width": null,
            "min_height": null,
            "min_width": null,
            "object_fit": null,
            "object_position": null,
            "order": null,
            "overflow": null,
            "overflow_x": null,
            "overflow_y": null,
            "padding": null,
            "right": null,
            "top": null,
            "visibility": null,
            "width": null
          }
        },
        "ce975ff292ad493aab96d0f1a9b83b08": {
          "model_module": "@jupyter-widgets/controls",
          "model_name": "DescriptionStyleModel",
          "model_module_version": "1.5.0",
          "state": {
            "_model_module": "@jupyter-widgets/controls",
            "_model_module_version": "1.5.0",
            "_model_name": "DescriptionStyleModel",
            "_view_count": null,
            "_view_module": "@jupyter-widgets/base",
            "_view_module_version": "1.2.0",
            "_view_name": "StyleView",
            "description_width": ""
          }
        },
        "94217d7f09b5406a8fe6b75ee080615b": {
          "model_module": "@jupyter-widgets/base",
          "model_name": "LayoutModel",
          "model_module_version": "1.2.0",
          "state": {
            "_model_module": "@jupyter-widgets/base",
            "_model_module_version": "1.2.0",
            "_model_name": "LayoutModel",
            "_view_count": null,
            "_view_module": "@jupyter-widgets/base",
            "_view_module_version": "1.2.0",
            "_view_name": "LayoutView",
            "align_content": null,
            "align_items": null,
            "align_self": null,
            "border": null,
            "bottom": null,
            "display": null,
            "flex": null,
            "flex_flow": null,
            "grid_area": null,
            "grid_auto_columns": null,
            "grid_auto_flow": null,
            "grid_auto_rows": null,
            "grid_column": null,
            "grid_gap": null,
            "grid_row": null,
            "grid_template_areas": null,
            "grid_template_columns": null,
            "grid_template_rows": null,
            "height": null,
            "justify_content": null,
            "justify_items": null,
            "left": null,
            "margin": null,
            "max_height": null,
            "max_width": null,
            "min_height": null,
            "min_width": null,
            "object_fit": null,
            "object_position": null,
            "order": null,
            "overflow": null,
            "overflow_x": null,
            "overflow_y": null,
            "padding": null,
            "right": null,
            "top": null,
            "visibility": null,
            "width": "20px"
          }
        },
        "e507226972104df19babd36794537d2a": {
          "model_module": "@jupyter-widgets/controls",
          "model_name": "ProgressStyleModel",
          "model_module_version": "1.5.0",
          "state": {
            "_model_module": "@jupyter-widgets/controls",
            "_model_module_version": "1.5.0",
            "_model_name": "ProgressStyleModel",
            "_view_count": null,
            "_view_module": "@jupyter-widgets/base",
            "_view_module_version": "1.2.0",
            "_view_name": "StyleView",
            "bar_color": null,
            "description_width": ""
          }
        },
        "dbc87d69525049098a4156f38b129c09": {
          "model_module": "@jupyter-widgets/base",
          "model_name": "LayoutModel",
          "model_module_version": "1.2.0",
          "state": {
            "_model_module": "@jupyter-widgets/base",
            "_model_module_version": "1.2.0",
            "_model_name": "LayoutModel",
            "_view_count": null,
            "_view_module": "@jupyter-widgets/base",
            "_view_module_version": "1.2.0",
            "_view_name": "LayoutView",
            "align_content": null,
            "align_items": null,
            "align_self": null,
            "border": null,
            "bottom": null,
            "display": null,
            "flex": null,
            "flex_flow": null,
            "grid_area": null,
            "grid_auto_columns": null,
            "grid_auto_flow": null,
            "grid_auto_rows": null,
            "grid_column": null,
            "grid_gap": null,
            "grid_row": null,
            "grid_template_areas": null,
            "grid_template_columns": null,
            "grid_template_rows": null,
            "height": null,
            "justify_content": null,
            "justify_items": null,
            "left": null,
            "margin": null,
            "max_height": null,
            "max_width": null,
            "min_height": null,
            "min_width": null,
            "object_fit": null,
            "object_position": null,
            "order": null,
            "overflow": null,
            "overflow_x": null,
            "overflow_y": null,
            "padding": null,
            "right": null,
            "top": null,
            "visibility": null,
            "width": null
          }
        },
        "13ce6077a4604aefa0de6a6ce5fdd79b": {
          "model_module": "@jupyter-widgets/controls",
          "model_name": "DescriptionStyleModel",
          "model_module_version": "1.5.0",
          "state": {
            "_model_module": "@jupyter-widgets/controls",
            "_model_module_version": "1.5.0",
            "_model_name": "DescriptionStyleModel",
            "_view_count": null,
            "_view_module": "@jupyter-widgets/base",
            "_view_module_version": "1.2.0",
            "_view_name": "StyleView",
            "description_width": ""
          }
        },
        "3bad088291fb497d9b2a06711f66ebc6": {
          "model_module": "@jupyter-widgets/controls",
          "model_name": "HBoxModel",
          "model_module_version": "1.5.0",
          "state": {
            "_dom_classes": [],
            "_model_module": "@jupyter-widgets/controls",
            "_model_module_version": "1.5.0",
            "_model_name": "HBoxModel",
            "_view_count": null,
            "_view_module": "@jupyter-widgets/controls",
            "_view_module_version": "1.5.0",
            "_view_name": "HBoxView",
            "box_style": "",
            "children": [
              "IPY_MODEL_2ed5faeca67048d19108451664db5aea",
              "IPY_MODEL_9b9b52ef5eb34a82812795495604c55f",
              "IPY_MODEL_fc2ab3baadd54433b481265e4e369b22"
            ],
            "layout": "IPY_MODEL_17eb516f2599460393123fa56fa61b95"
          }
        },
        "2ed5faeca67048d19108451664db5aea": {
          "model_module": "@jupyter-widgets/controls",
          "model_name": "HTMLModel",
          "model_module_version": "1.5.0",
          "state": {
            "_dom_classes": [],
            "_model_module": "@jupyter-widgets/controls",
            "_model_module_version": "1.5.0",
            "_model_name": "HTMLModel",
            "_view_count": null,
            "_view_module": "@jupyter-widgets/controls",
            "_view_module_version": "1.5.0",
            "_view_name": "HTMLView",
            "description": "",
            "description_tooltip": null,
            "layout": "IPY_MODEL_b640464af25340e5871c42269bcd15ac",
            "placeholder": "​",
            "style": "IPY_MODEL_f40a8f374267487784bd75ac699c5956",
            "value": "special_tokens_map.json: 100%"
          }
        },
        "9b9b52ef5eb34a82812795495604c55f": {
          "model_module": "@jupyter-widgets/controls",
          "model_name": "FloatProgressModel",
          "model_module_version": "1.5.0",
          "state": {
            "_dom_classes": [],
            "_model_module": "@jupyter-widgets/controls",
            "_model_module_version": "1.5.0",
            "_model_name": "FloatProgressModel",
            "_view_count": null,
            "_view_module": "@jupyter-widgets/controls",
            "_view_module_version": "1.5.0",
            "_view_name": "ProgressView",
            "bar_style": "success",
            "description": "",
            "description_tooltip": null,
            "layout": "IPY_MODEL_150544dd07984ea5adc598749a5005ce",
            "max": 112,
            "min": 0,
            "orientation": "horizontal",
            "style": "IPY_MODEL_7210aea2a57f4d86ad86b01520720fa1",
            "value": 112
          }
        },
        "fc2ab3baadd54433b481265e4e369b22": {
          "model_module": "@jupyter-widgets/controls",
          "model_name": "HTMLModel",
          "model_module_version": "1.5.0",
          "state": {
            "_dom_classes": [],
            "_model_module": "@jupyter-widgets/controls",
            "_model_module_version": "1.5.0",
            "_model_name": "HTMLModel",
            "_view_count": null,
            "_view_module": "@jupyter-widgets/controls",
            "_view_module_version": "1.5.0",
            "_view_name": "HTMLView",
            "description": "",
            "description_tooltip": null,
            "layout": "IPY_MODEL_83d6a060934f43cfa961ad3e37d69c7a",
            "placeholder": "​",
            "style": "IPY_MODEL_497c829f39a1462c8a23440086a8a7c5",
            "value": " 112/112 [00:00&lt;00:00, 11.0kB/s]"
          }
        },
        "17eb516f2599460393123fa56fa61b95": {
          "model_module": "@jupyter-widgets/base",
          "model_name": "LayoutModel",
          "model_module_version": "1.2.0",
          "state": {
            "_model_module": "@jupyter-widgets/base",
            "_model_module_version": "1.2.0",
            "_model_name": "LayoutModel",
            "_view_count": null,
            "_view_module": "@jupyter-widgets/base",
            "_view_module_version": "1.2.0",
            "_view_name": "LayoutView",
            "align_content": null,
            "align_items": null,
            "align_self": null,
            "border": null,
            "bottom": null,
            "display": null,
            "flex": null,
            "flex_flow": null,
            "grid_area": null,
            "grid_auto_columns": null,
            "grid_auto_flow": null,
            "grid_auto_rows": null,
            "grid_column": null,
            "grid_gap": null,
            "grid_row": null,
            "grid_template_areas": null,
            "grid_template_columns": null,
            "grid_template_rows": null,
            "height": null,
            "justify_content": null,
            "justify_items": null,
            "left": null,
            "margin": null,
            "max_height": null,
            "max_width": null,
            "min_height": null,
            "min_width": null,
            "object_fit": null,
            "object_position": null,
            "order": null,
            "overflow": null,
            "overflow_x": null,
            "overflow_y": null,
            "padding": null,
            "right": null,
            "top": null,
            "visibility": null,
            "width": null
          }
        },
        "b640464af25340e5871c42269bcd15ac": {
          "model_module": "@jupyter-widgets/base",
          "model_name": "LayoutModel",
          "model_module_version": "1.2.0",
          "state": {
            "_model_module": "@jupyter-widgets/base",
            "_model_module_version": "1.2.0",
            "_model_name": "LayoutModel",
            "_view_count": null,
            "_view_module": "@jupyter-widgets/base",
            "_view_module_version": "1.2.0",
            "_view_name": "LayoutView",
            "align_content": null,
            "align_items": null,
            "align_self": null,
            "border": null,
            "bottom": null,
            "display": null,
            "flex": null,
            "flex_flow": null,
            "grid_area": null,
            "grid_auto_columns": null,
            "grid_auto_flow": null,
            "grid_auto_rows": null,
            "grid_column": null,
            "grid_gap": null,
            "grid_row": null,
            "grid_template_areas": null,
            "grid_template_columns": null,
            "grid_template_rows": null,
            "height": null,
            "justify_content": null,
            "justify_items": null,
            "left": null,
            "margin": null,
            "max_height": null,
            "max_width": null,
            "min_height": null,
            "min_width": null,
            "object_fit": null,
            "object_position": null,
            "order": null,
            "overflow": null,
            "overflow_x": null,
            "overflow_y": null,
            "padding": null,
            "right": null,
            "top": null,
            "visibility": null,
            "width": null
          }
        },
        "f40a8f374267487784bd75ac699c5956": {
          "model_module": "@jupyter-widgets/controls",
          "model_name": "DescriptionStyleModel",
          "model_module_version": "1.5.0",
          "state": {
            "_model_module": "@jupyter-widgets/controls",
            "_model_module_version": "1.5.0",
            "_model_name": "DescriptionStyleModel",
            "_view_count": null,
            "_view_module": "@jupyter-widgets/base",
            "_view_module_version": "1.2.0",
            "_view_name": "StyleView",
            "description_width": ""
          }
        },
        "150544dd07984ea5adc598749a5005ce": {
          "model_module": "@jupyter-widgets/base",
          "model_name": "LayoutModel",
          "model_module_version": "1.2.0",
          "state": {
            "_model_module": "@jupyter-widgets/base",
            "_model_module_version": "1.2.0",
            "_model_name": "LayoutModel",
            "_view_count": null,
            "_view_module": "@jupyter-widgets/base",
            "_view_module_version": "1.2.0",
            "_view_name": "LayoutView",
            "align_content": null,
            "align_items": null,
            "align_self": null,
            "border": null,
            "bottom": null,
            "display": null,
            "flex": null,
            "flex_flow": null,
            "grid_area": null,
            "grid_auto_columns": null,
            "grid_auto_flow": null,
            "grid_auto_rows": null,
            "grid_column": null,
            "grid_gap": null,
            "grid_row": null,
            "grid_template_areas": null,
            "grid_template_columns": null,
            "grid_template_rows": null,
            "height": null,
            "justify_content": null,
            "justify_items": null,
            "left": null,
            "margin": null,
            "max_height": null,
            "max_width": null,
            "min_height": null,
            "min_width": null,
            "object_fit": null,
            "object_position": null,
            "order": null,
            "overflow": null,
            "overflow_x": null,
            "overflow_y": null,
            "padding": null,
            "right": null,
            "top": null,
            "visibility": null,
            "width": null
          }
        },
        "7210aea2a57f4d86ad86b01520720fa1": {
          "model_module": "@jupyter-widgets/controls",
          "model_name": "ProgressStyleModel",
          "model_module_version": "1.5.0",
          "state": {
            "_model_module": "@jupyter-widgets/controls",
            "_model_module_version": "1.5.0",
            "_model_name": "ProgressStyleModel",
            "_view_count": null,
            "_view_module": "@jupyter-widgets/base",
            "_view_module_version": "1.2.0",
            "_view_name": "StyleView",
            "bar_color": null,
            "description_width": ""
          }
        },
        "83d6a060934f43cfa961ad3e37d69c7a": {
          "model_module": "@jupyter-widgets/base",
          "model_name": "LayoutModel",
          "model_module_version": "1.2.0",
          "state": {
            "_model_module": "@jupyter-widgets/base",
            "_model_module_version": "1.2.0",
            "_model_name": "LayoutModel",
            "_view_count": null,
            "_view_module": "@jupyter-widgets/base",
            "_view_module_version": "1.2.0",
            "_view_name": "LayoutView",
            "align_content": null,
            "align_items": null,
            "align_self": null,
            "border": null,
            "bottom": null,
            "display": null,
            "flex": null,
            "flex_flow": null,
            "grid_area": null,
            "grid_auto_columns": null,
            "grid_auto_flow": null,
            "grid_auto_rows": null,
            "grid_column": null,
            "grid_gap": null,
            "grid_row": null,
            "grid_template_areas": null,
            "grid_template_columns": null,
            "grid_template_rows": null,
            "height": null,
            "justify_content": null,
            "justify_items": null,
            "left": null,
            "margin": null,
            "max_height": null,
            "max_width": null,
            "min_height": null,
            "min_width": null,
            "object_fit": null,
            "object_position": null,
            "order": null,
            "overflow": null,
            "overflow_x": null,
            "overflow_y": null,
            "padding": null,
            "right": null,
            "top": null,
            "visibility": null,
            "width": null
          }
        },
        "497c829f39a1462c8a23440086a8a7c5": {
          "model_module": "@jupyter-widgets/controls",
          "model_name": "DescriptionStyleModel",
          "model_module_version": "1.5.0",
          "state": {
            "_model_module": "@jupyter-widgets/controls",
            "_model_module_version": "1.5.0",
            "_model_name": "DescriptionStyleModel",
            "_view_count": null,
            "_view_module": "@jupyter-widgets/base",
            "_view_module_version": "1.2.0",
            "_view_name": "StyleView",
            "description_width": ""
          }
        },
        "f573cf595f704072aa80922920408ecd": {
          "model_module": "@jupyter-widgets/controls",
          "model_name": "HBoxModel",
          "model_module_version": "1.5.0",
          "state": {
            "_dom_classes": [],
            "_model_module": "@jupyter-widgets/controls",
            "_model_module_version": "1.5.0",
            "_model_name": "HBoxModel",
            "_view_count": null,
            "_view_module": "@jupyter-widgets/controls",
            "_view_module_version": "1.5.0",
            "_view_name": "HBoxView",
            "box_style": "",
            "children": [
              "IPY_MODEL_ad349a4ec8264434bce11f8c2549f568",
              "IPY_MODEL_e0b07a5f9a9d4657b78ad505262d4d8f",
              "IPY_MODEL_3abe3c89ae234a4992d1248b44904dd5"
            ],
            "layout": "IPY_MODEL_2775bafe628642e7ad4936e1922e2f68"
          }
        },
        "ad349a4ec8264434bce11f8c2549f568": {
          "model_module": "@jupyter-widgets/controls",
          "model_name": "HTMLModel",
          "model_module_version": "1.5.0",
          "state": {
            "_dom_classes": [],
            "_model_module": "@jupyter-widgets/controls",
            "_model_module_version": "1.5.0",
            "_model_name": "HTMLModel",
            "_view_count": null,
            "_view_module": "@jupyter-widgets/controls",
            "_view_module_version": "1.5.0",
            "_view_name": "HTMLView",
            "description": "",
            "description_tooltip": null,
            "layout": "IPY_MODEL_a09bcf1d2ea8429b8335e8b5c395f6b6",
            "placeholder": "​",
            "style": "IPY_MODEL_043db8ec932e47e6b823d1d766e15448",
            "value": "config.json: 100%"
          }
        },
        "e0b07a5f9a9d4657b78ad505262d4d8f": {
          "model_module": "@jupyter-widgets/controls",
          "model_name": "FloatProgressModel",
          "model_module_version": "1.5.0",
          "state": {
            "_dom_classes": [],
            "_model_module": "@jupyter-widgets/controls",
            "_model_module_version": "1.5.0",
            "_model_name": "FloatProgressModel",
            "_view_count": null,
            "_view_module": "@jupyter-widgets/controls",
            "_view_module_version": "1.5.0",
            "_view_name": "ProgressView",
            "bar_style": "success",
            "description": "",
            "description_tooltip": null,
            "layout": "IPY_MODEL_cf7b6dd6010d49e9948fe5f893b2734a",
            "max": 190,
            "min": 0,
            "orientation": "horizontal",
            "style": "IPY_MODEL_91adff60e2b64c7f94c8c2dc890b7225",
            "value": 190
          }
        },
        "3abe3c89ae234a4992d1248b44904dd5": {
          "model_module": "@jupyter-widgets/controls",
          "model_name": "HTMLModel",
          "model_module_version": "1.5.0",
          "state": {
            "_dom_classes": [],
            "_model_module": "@jupyter-widgets/controls",
            "_model_module_version": "1.5.0",
            "_model_name": "HTMLModel",
            "_view_count": null,
            "_view_module": "@jupyter-widgets/controls",
            "_view_module_version": "1.5.0",
            "_view_name": "HTMLView",
            "description": "",
            "description_tooltip": null,
            "layout": "IPY_MODEL_85aff54b39d2438284db3e7d57acf6d4",
            "placeholder": "​",
            "style": "IPY_MODEL_c878f561ed144f519db3114c035b6267",
            "value": " 190/190 [00:00&lt;00:00, 18.4kB/s]"
          }
        },
        "2775bafe628642e7ad4936e1922e2f68": {
          "model_module": "@jupyter-widgets/base",
          "model_name": "LayoutModel",
          "model_module_version": "1.2.0",
          "state": {
            "_model_module": "@jupyter-widgets/base",
            "_model_module_version": "1.2.0",
            "_model_name": "LayoutModel",
            "_view_count": null,
            "_view_module": "@jupyter-widgets/base",
            "_view_module_version": "1.2.0",
            "_view_name": "LayoutView",
            "align_content": null,
            "align_items": null,
            "align_self": null,
            "border": null,
            "bottom": null,
            "display": null,
            "flex": null,
            "flex_flow": null,
            "grid_area": null,
            "grid_auto_columns": null,
            "grid_auto_flow": null,
            "grid_auto_rows": null,
            "grid_column": null,
            "grid_gap": null,
            "grid_row": null,
            "grid_template_areas": null,
            "grid_template_columns": null,
            "grid_template_rows": null,
            "height": null,
            "justify_content": null,
            "justify_items": null,
            "left": null,
            "margin": null,
            "max_height": null,
            "max_width": null,
            "min_height": null,
            "min_width": null,
            "object_fit": null,
            "object_position": null,
            "order": null,
            "overflow": null,
            "overflow_x": null,
            "overflow_y": null,
            "padding": null,
            "right": null,
            "top": null,
            "visibility": null,
            "width": null
          }
        },
        "a09bcf1d2ea8429b8335e8b5c395f6b6": {
          "model_module": "@jupyter-widgets/base",
          "model_name": "LayoutModel",
          "model_module_version": "1.2.0",
          "state": {
            "_model_module": "@jupyter-widgets/base",
            "_model_module_version": "1.2.0",
            "_model_name": "LayoutModel",
            "_view_count": null,
            "_view_module": "@jupyter-widgets/base",
            "_view_module_version": "1.2.0",
            "_view_name": "LayoutView",
            "align_content": null,
            "align_items": null,
            "align_self": null,
            "border": null,
            "bottom": null,
            "display": null,
            "flex": null,
            "flex_flow": null,
            "grid_area": null,
            "grid_auto_columns": null,
            "grid_auto_flow": null,
            "grid_auto_rows": null,
            "grid_column": null,
            "grid_gap": null,
            "grid_row": null,
            "grid_template_areas": null,
            "grid_template_columns": null,
            "grid_template_rows": null,
            "height": null,
            "justify_content": null,
            "justify_items": null,
            "left": null,
            "margin": null,
            "max_height": null,
            "max_width": null,
            "min_height": null,
            "min_width": null,
            "object_fit": null,
            "object_position": null,
            "order": null,
            "overflow": null,
            "overflow_x": null,
            "overflow_y": null,
            "padding": null,
            "right": null,
            "top": null,
            "visibility": null,
            "width": null
          }
        },
        "043db8ec932e47e6b823d1d766e15448": {
          "model_module": "@jupyter-widgets/controls",
          "model_name": "DescriptionStyleModel",
          "model_module_version": "1.5.0",
          "state": {
            "_model_module": "@jupyter-widgets/controls",
            "_model_module_version": "1.5.0",
            "_model_name": "DescriptionStyleModel",
            "_view_count": null,
            "_view_module": "@jupyter-widgets/base",
            "_view_module_version": "1.2.0",
            "_view_name": "StyleView",
            "description_width": ""
          }
        },
        "cf7b6dd6010d49e9948fe5f893b2734a": {
          "model_module": "@jupyter-widgets/base",
          "model_name": "LayoutModel",
          "model_module_version": "1.2.0",
          "state": {
            "_model_module": "@jupyter-widgets/base",
            "_model_module_version": "1.2.0",
            "_model_name": "LayoutModel",
            "_view_count": null,
            "_view_module": "@jupyter-widgets/base",
            "_view_module_version": "1.2.0",
            "_view_name": "LayoutView",
            "align_content": null,
            "align_items": null,
            "align_self": null,
            "border": null,
            "bottom": null,
            "display": null,
            "flex": null,
            "flex_flow": null,
            "grid_area": null,
            "grid_auto_columns": null,
            "grid_auto_flow": null,
            "grid_auto_rows": null,
            "grid_column": null,
            "grid_gap": null,
            "grid_row": null,
            "grid_template_areas": null,
            "grid_template_columns": null,
            "grid_template_rows": null,
            "height": null,
            "justify_content": null,
            "justify_items": null,
            "left": null,
            "margin": null,
            "max_height": null,
            "max_width": null,
            "min_height": null,
            "min_width": null,
            "object_fit": null,
            "object_position": null,
            "order": null,
            "overflow": null,
            "overflow_x": null,
            "overflow_y": null,
            "padding": null,
            "right": null,
            "top": null,
            "visibility": null,
            "width": null
          }
        },
        "91adff60e2b64c7f94c8c2dc890b7225": {
          "model_module": "@jupyter-widgets/controls",
          "model_name": "ProgressStyleModel",
          "model_module_version": "1.5.0",
          "state": {
            "_model_module": "@jupyter-widgets/controls",
            "_model_module_version": "1.5.0",
            "_model_name": "ProgressStyleModel",
            "_view_count": null,
            "_view_module": "@jupyter-widgets/base",
            "_view_module_version": "1.2.0",
            "_view_name": "StyleView",
            "bar_color": null,
            "description_width": ""
          }
        },
        "85aff54b39d2438284db3e7d57acf6d4": {
          "model_module": "@jupyter-widgets/base",
          "model_name": "LayoutModel",
          "model_module_version": "1.2.0",
          "state": {
            "_model_module": "@jupyter-widgets/base",
            "_model_module_version": "1.2.0",
            "_model_name": "LayoutModel",
            "_view_count": null,
            "_view_module": "@jupyter-widgets/base",
            "_view_module_version": "1.2.0",
            "_view_name": "LayoutView",
            "align_content": null,
            "align_items": null,
            "align_self": null,
            "border": null,
            "bottom": null,
            "display": null,
            "flex": null,
            "flex_flow": null,
            "grid_area": null,
            "grid_auto_columns": null,
            "grid_auto_flow": null,
            "grid_auto_rows": null,
            "grid_column": null,
            "grid_gap": null,
            "grid_row": null,
            "grid_template_areas": null,
            "grid_template_columns": null,
            "grid_template_rows": null,
            "height": null,
            "justify_content": null,
            "justify_items": null,
            "left": null,
            "margin": null,
            "max_height": null,
            "max_width": null,
            "min_height": null,
            "min_width": null,
            "object_fit": null,
            "object_position": null,
            "order": null,
            "overflow": null,
            "overflow_x": null,
            "overflow_y": null,
            "padding": null,
            "right": null,
            "top": null,
            "visibility": null,
            "width": null
          }
        },
        "c878f561ed144f519db3114c035b6267": {
          "model_module": "@jupyter-widgets/controls",
          "model_name": "DescriptionStyleModel",
          "model_module_version": "1.5.0",
          "state": {
            "_model_module": "@jupyter-widgets/controls",
            "_model_module_version": "1.5.0",
            "_model_name": "DescriptionStyleModel",
            "_view_count": null,
            "_view_module": "@jupyter-widgets/base",
            "_view_module_version": "1.2.0",
            "_view_name": "StyleView",
            "description_width": ""
          }
        }
      }
    }
  },
  "nbformat": 4,
  "nbformat_minor": 0
}