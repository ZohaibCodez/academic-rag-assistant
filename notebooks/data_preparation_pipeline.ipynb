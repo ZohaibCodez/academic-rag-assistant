{
  "cells": [
    {
      "cell_type": "markdown",
      "metadata": {
        "id": "51Kw0tfHhEoD"
      },
      "source": [
        "# **Data Preparation Pipeline**"
      ]
    },
    {
      "cell_type": "code",
      "execution_count": null,
      "metadata": {
        "id": "dgNAl-vAhN5u"
      },
      "outputs": [],
      "source": [
        "from google.colab import userdata\n",
        "import os\n",
        "\n",
        "os.environ['GOOGLE_API_KEY'] = userdata.get(\"GOOGLE_API_KEY_ZK78\")\n",
        "os.environ['HUGGINGFACEHUB_ACCESS_TOKEN'] = userdata.get(\"HUGGINGFACEHUB_ACCESS_TOKEN\")\n",
        "os.environ['OPENAI_API_KEY'] = userdata.get(\"OPENAI_API_KEY\")\n",
        "os.environ[\"PINECONE_API_KEY\"] = userdata.get(\"PINECONE_API_KEY\")"
      ]
    },
    {
      "cell_type": "code",
      "execution_count": 161,
      "metadata": {
        "id": "7Aqr1yjPhtqU"
      },
      "outputs": [],
      "source": [
        "import nest_asyncio\n",
        "nest_asyncio.apply()"
      ]
    },
    {
      "cell_type": "code",
      "execution_count": 4,
      "metadata": {
        "colab": {
          "base_uri": "https://localhost:8080/"
        },
        "id": "ZxAFTvYohxUI",
        "outputId": "161b4941-afc3-4354-d312-81e49dc8fa29"
      },
      "outputs": [
        {
          "name": "stdout",
          "output_type": "stream",
          "text": [
            "\u001b[?25l     \u001b[90m━━━━━━━━━━━━━━━━━━━━━━━━━━━━━━━━━━━━━━━━\u001b[0m \u001b[32m0.0/981.5 kB\u001b[0m \u001b[31m?\u001b[0m eta \u001b[36m-:--:--\u001b[0m\r\u001b[2K     \u001b[91m━━━━━━━━━━━━━━━━━━━━━━━━━━━━━━━━━━━━━\u001b[0m\u001b[91m╸\u001b[0m \u001b[32m972.8/981.5 kB\u001b[0m \u001b[31m31.5 MB/s\u001b[0m eta \u001b[36m0:00:01\u001b[0m\r\u001b[2K     \u001b[90m━━━━━━━━━━━━━━━━━━━━━━━━━━━━━━━━━━━━━━\u001b[0m \u001b[32m981.5/981.5 kB\u001b[0m \u001b[31m19.2 MB/s\u001b[0m eta \u001b[36m0:00:00\u001b[0m\n",
            "\u001b[?25h  Preparing metadata (setup.py) ... \u001b[?25l\u001b[?25hdone\n",
            "\u001b[2K   \u001b[90m━━━━━━━━━━━━━━━━━━━━━━━━━━━━━━━━━━━━━━━━\u001b[0m \u001b[32m50.7/50.7 kB\u001b[0m \u001b[31m2.3 MB/s\u001b[0m eta \u001b[36m0:00:00\u001b[0m\n",
            "\u001b[2K   \u001b[90m━━━━━━━━━━━━━━━━━━━━━━━━━━━━━━━━━━━━━━━━\u001b[0m \u001b[32m193.9/193.9 kB\u001b[0m \u001b[31m10.3 MB/s\u001b[0m eta \u001b[36m0:00:00\u001b[0m\n",
            "\u001b[2K   \u001b[90m━━━━━━━━━━━━━━━━━━━━━━━━━━━━━━━━━━━━━━━━\u001b[0m \u001b[32m2.5/2.5 MB\u001b[0m \u001b[31m37.2 MB/s\u001b[0m eta \u001b[36m0:00:00\u001b[0m\n",
            "\u001b[2K   \u001b[90m━━━━━━━━━━━━━━━━━━━━━━━━━━━━━━━━━━━━━━━━\u001b[0m \u001b[32m310.5/310.5 kB\u001b[0m \u001b[31m18.2 MB/s\u001b[0m eta \u001b[36m0:00:00\u001b[0m\n",
            "\u001b[2K   \u001b[90m━━━━━━━━━━━━━━━━━━━━━━━━━━━━━━━━━━━━━━━━\u001b[0m \u001b[32m587.6/587.6 kB\u001b[0m \u001b[31m33.7 MB/s\u001b[0m eta \u001b[36m0:00:00\u001b[0m\n",
            "\u001b[2K   \u001b[90m━━━━━━━━━━━━━━━━━━━━━━━━━━━━━━━━━━━━━━━━\u001b[0m \u001b[32m1.8/1.8 MB\u001b[0m \u001b[31m40.2 MB/s\u001b[0m eta \u001b[36m0:00:00\u001b[0m\n",
            "\u001b[2K   \u001b[90m━━━━━━━━━━━━━━━━━━━━━━━━━━━━━━━━━━━━━━━━\u001b[0m \u001b[32m1.4/1.4 MB\u001b[0m \u001b[31m36.4 MB/s\u001b[0m eta \u001b[36m0:00:00\u001b[0m\n",
            "\u001b[2K   \u001b[90m━━━━━━━━━━━━━━━━━━━━━━━━━━━━━━━━━━━━━━━━\u001b[0m \u001b[32m144.4/144.4 kB\u001b[0m \u001b[31m6.1 MB/s\u001b[0m eta \u001b[36m0:00:00\u001b[0m\n",
            "\u001b[2K   \u001b[90m━━━━━━━━━━━━━━━━━━━━━━━━━━━━━━━━━━━━━━━━\u001b[0m \u001b[32m75.0/75.0 kB\u001b[0m \u001b[31m3.0 MB/s\u001b[0m eta \u001b[36m0:00:00\u001b[0m\n",
            "\u001b[2K   \u001b[90m━━━━━━━━━━━━━━━━━━━━━━━━━━━━━━━━━━━━━━━━\u001b[0m \u001b[32m447.5/447.5 kB\u001b[0m \u001b[31m18.4 MB/s\u001b[0m eta \u001b[36m0:00:00\u001b[0m\n",
            "\u001b[2K   \u001b[90m━━━━━━━━━━━━━━━━━━━━━━━━━━━━━━━━━━━━━━━━\u001b[0m \u001b[32m948.1/948.1 kB\u001b[0m \u001b[31m38.9 MB/s\u001b[0m eta \u001b[36m0:00:00\u001b[0m\n",
            "\u001b[2K   \u001b[90m━━━━━━━━━━━━━━━━━━━━━━━━━━━━━━━━━━━━━━━━\u001b[0m \u001b[32m259.3/259.3 kB\u001b[0m \u001b[31m14.1 MB/s\u001b[0m eta \u001b[36m0:00:00\u001b[0m\n",
            "\u001b[2K   \u001b[90m━━━━━━━━━━━━━━━━━━━━━━━━━━━━━━━━━━━━━━━━\u001b[0m \u001b[32m64.7/64.7 kB\u001b[0m \u001b[31m4.0 MB/s\u001b[0m eta \u001b[36m0:00:00\u001b[0m\n",
            "\u001b[2K   \u001b[90m━━━━━━━━━━━━━━━━━━━━━━━━━━━━━━━━━━━━━━━━\u001b[0m \u001b[32m590.6/590.6 kB\u001b[0m \u001b[31m26.3 MB/s\u001b[0m eta \u001b[36m0:00:00\u001b[0m\n",
            "\u001b[2K   \u001b[90m━━━━━━━━━━━━━━━━━━━━━━━━━━━━━━━━━━━━━━━━\u001b[0m \u001b[32m167.6/167.6 kB\u001b[0m \u001b[31m10.0 MB/s\u001b[0m eta \u001b[36m0:00:00\u001b[0m\n",
            "\u001b[2K   \u001b[90m━━━━━━━━━━━━━━━━━━━━━━━━━━━━━━━━━━━━━━━━\u001b[0m \u001b[32m3.2/3.2 MB\u001b[0m \u001b[31m50.4 MB/s\u001b[0m eta \u001b[36m0:00:00\u001b[0m\n",
            "\u001b[2K   \u001b[90m━━━━━━━━━━━━━━━━━━━━━━━━━━━━━━━━━━━━━━━━\u001b[0m \u001b[32m207.8/207.8 kB\u001b[0m \u001b[31m10.4 MB/s\u001b[0m eta \u001b[36m0:00:00\u001b[0m\n",
            "\u001b[2K   \u001b[90m━━━━━━━━━━━━━━━━━━━━━━━━━━━━━━━━━━━━━━━━\u001b[0m \u001b[32m50.9/50.9 kB\u001b[0m \u001b[31m3.3 MB/s\u001b[0m eta \u001b[36m0:00:00\u001b[0m\n",
            "\u001b[2K   \u001b[90m━━━━━━━━━━━━━━━━━━━━━━━━━━━━━━━━━━━━━━━━\u001b[0m \u001b[32m65.5/65.5 kB\u001b[0m \u001b[31m4.0 MB/s\u001b[0m eta \u001b[36m0:00:00\u001b[0m\n",
            "\u001b[2K   \u001b[90m━━━━━━━━━━━━━━━━━━━━━━━━━━━━━━━━━━━━━━━━\u001b[0m \u001b[32m114.6/114.6 kB\u001b[0m \u001b[31m8.0 MB/s\u001b[0m eta \u001b[36m0:00:00\u001b[0m\n",
            "\u001b[?25h  Building wheel for langdetect (setup.py) ... \u001b[?25l\u001b[?25hdone\n",
            "\u001b[31mERROR: pip's dependency resolver does not currently take into account all the packages that are installed. This behaviour is the source of the following dependency conflicts.\n",
            "google-colab 1.0.0 requires requests==2.32.4, but you have requests 2.32.5 which is incompatible.\n",
            "google-generativeai 0.8.5 requires google-ai-generativelanguage==0.6.15, but you have google-ai-generativelanguage 0.7.0 which is incompatible.\u001b[0m\u001b[31m\n",
            "\u001b[0m"
          ]
        }
      ],
      "source": [
        "!pip -q install langchain langchain-pinecone langchain-google-genai openai-agents langchain-community tiktoken python-dotenv pypdf langchain-huggingface sentence-transformers pinecone unstructured"
      ]
    },
    {
      "cell_type": "code",
      "execution_count": null,
      "metadata": {
        "id": "diCxG9XBh8hD"
      },
      "outputs": [],
      "source": [
        "from langchain.text_splitter import RecursiveCharacterTextSplitter\n",
        "from langchain_google_genai import GoogleGenerativeAIEmbeddings,ChatGoogleGenerativeAI,GoogleGenerativeAI\n",
        "from langchain_core.prompts import PromptTemplate\n",
        "from langchain_community.document_loaders import PyPDFLoader\n",
        "from langchain_huggingface import HuggingFaceEmbeddings\n",
        "from sentence_transformers import SentenceTransformer\n",
        "from langchain_pinecone import PineconeVectorStore\n",
        "from langchain.retrievers import MultiQueryRetriever\n",
        "import os"
      ]
    },
    {
      "cell_type": "code",
      "execution_count": 132,
      "metadata": {
        "id": "f2vb7-SiiIWC"
      },
      "outputs": [],
      "source": [
        "pc = Pinecone(api_key=os.environ[\"PINECONE_API_KEY\"])\n",
        "embeddings = HuggingFaceEmbeddings(model_name=\"sentence-transformers/all-MiniLM-L6-v2\")"
      ]
    },
    {
      "cell_type": "code",
      "execution_count": 133,
      "metadata": {
        "id": "0JSDvxP0iW_D"
      },
      "outputs": [],
      "source": [
        "import time\n",
        "\n",
        "index_name = \"semester-books\"\n",
        "\n",
        "# if index_name not in pc.list_indexes():\n",
        "#     pc.create_index(\n",
        "#         index_name,\n",
        "#         dimension=384,\n",
        "#         metric='cosine',\n",
        "#         spec=ServerlessSpec(cloud='aws', region='us-east-1')\n",
        "#     )\n",
        "#     # wait for index to be initialized\n",
        "#     while not pc.describe_index(index_name).status.ready:\n",
        "#         time.sleep(1)\n"
      ]
    },
    {
      "cell_type": "markdown",
      "metadata": {
        "id": "k8qdyC3YiZnA"
      },
      "source": [
        "# **OpenAI Agents SDK Testing**"
      ]
    },
    {
      "cell_type": "code",
      "execution_count": 152,
      "metadata": {
        "id": "_qbM_Fvcib_c"
      },
      "outputs": [],
      "source": [
        "from agents import Agent,Runner,OpenAIChatCompletionsModel\n",
        "from openai import AsyncOpenAI\n",
        "\n",
        "external_client = AsyncOpenAI(\n",
        "    base_url = \"https://generativelanguage.googleapis.com/v1beta/openai/\",\n",
        "    api_key = os.getenv(\"GOOGLE_API_KEY\"),\n",
        ")\n",
        "\n",
        "model = OpenAIChatCompletionsModel(\n",
        "    model=\"gemini-1.5-flash\",\n",
        "    openai_client = external_client,\n",
        ")"
      ]
    },
    {
      "cell_type": "code",
      "execution_count": 153,
      "metadata": {
        "colab": {
          "base_uri": "https://localhost:8080/"
        },
        "id": "VJl-1saiidRj",
        "outputId": "133dc94a-f202-4ab2-9aa6-255212972ed0"
      },
      "outputs": [
        {
          "name": "stdout",
          "output_type": "stream",
          "text": [
            "Hi there! How can I help you today?\n",
            "\n"
          ]
        }
      ],
      "source": [
        "agent:Agent = Agent(\n",
        "    name=\"Assistant\",\n",
        "    instructions=\"You are a helpful assistant\",\n",
        "    model=model,\n",
        ")\n",
        "\n",
        "response = Runner.run_sync(agent,\"Hi\")\n",
        "print(response.final_output)"
      ]
    },
    {
      "cell_type": "code",
      "execution_count": 136,
      "metadata": {
        "colab": {
          "base_uri": "https://localhost:8080/"
        },
        "id": "_D00qsg3ieqr",
        "outputId": "ddc08f66-97a9-43f7-e2cb-1b2118a2f3d4"
      },
      "outputs": [
        {
          "data": {
            "text/plain": [
              "AIMessage(content='Hi there! How can I help you today?', additional_kwargs={}, response_metadata={'prompt_feedback': {'block_reason': 0, 'safety_ratings': []}, 'finish_reason': 'STOP', 'model_name': 'gemini-1.5-flash', 'safety_ratings': []}, id='run--d341d95e-5072-4437-8710-7c9ab4bfbcb9-0', usage_metadata={'input_tokens': 1, 'output_tokens': 11, 'total_tokens': 12, 'input_token_details': {'cache_read': 0}})"
            ]
          },
          "execution_count": 136,
          "metadata": {},
          "output_type": "execute_result"
        }
      ],
      "source": [
        "chat_model = ChatGoogleGenerativeAI(model=\"gemini-1.5-flash\")\n",
        "chat_model.invoke(\"HI\")"
      ]
    },
    {
      "cell_type": "markdown",
      "metadata": {
        "id": "q10kCBJ1ig3w"
      },
      "source": [
        "# **Step 1a → Multi-Document Ingestion (per subject)**"
      ]
    },
    {
      "cell_type": "markdown",
      "metadata": {
        "id": "XTLuh4lMiikG"
      },
      "source": [
        "## **Linear Algebra**"
      ]
    },
    {
      "cell_type": "code",
      "execution_count": 20,
      "metadata": {
        "id": "6FYBu3CVik_9"
      },
      "outputs": [],
      "source": [
        "loader1 = PyPDFLoader(\"/content/Linear_Algebra.pdf\")\n",
        "docs1 = loader1.load()"
      ]
    },
    {
      "cell_type": "code",
      "execution_count": 21,
      "metadata": {
        "colab": {
          "base_uri": "https://localhost:8080/"
        },
        "id": "U-q_dPDAivvh",
        "outputId": "a5d604c3-2348-4f29-9f91-7c967820f777"
      },
      "outputs": [
        {
          "data": {
            "text/plain": [
              "579"
            ]
          },
          "execution_count": 21,
          "metadata": {},
          "output_type": "execute_result"
        }
      ],
      "source": [
        "len(docs1)"
      ]
    },
    {
      "cell_type": "code",
      "execution_count": 22,
      "metadata": {
        "colab": {
          "base_uri": "https://localhost:8080/"
        },
        "id": "MhXeZPy6i0uI",
        "outputId": "48a8c4d7-8fc5-4c5a-bb26-758b12a1eaf3"
      },
      "outputs": [
        {
          "data": {
            "text/plain": [
              "Document(metadata={'producer': 'xdvipdfmx (0.7.9)', 'creator': 'HELIOS pdfcat', 'creationdate': '2015-01-21T14:42:45+05:30', 'codemantra, llc': 'http://www.codemantra.com', 'moddate': \"D:20240310035050Z00'00\", 'author': '', 'universal pdf': 'The process that creates this PDF constitutes a trade secret of codeMantra, LLC and is protected by the copyright laws of the United States', 'title': '0321982630.pdf', 'source': '/content/Linear_Algebra.pdf', 'total_pages': 579, 'page': 238, 'page_label': '222'}, page_content='222 CHAPTER 4 Vector Spaces\\nIt follows that\\n\\x8c u C w \\x8dB D\\n2\\n64\\nc1 C d1\\n:::\\ncn C dn\\n3\\n75 D\\n2\\n64\\nc1\\n:::\\ncn\\n3\\n75 C\\n2\\n64\\nd1\\n:::\\ndn\\n3\\n75 D \\x8c u \\x8dB C \\x8c w \\x8dB\\nSo the coordinate mapping preserves addition. Ifr is any scalar, then\\nru D r.c1b1 C \\x01 \\x01 \\x01 C cnbn/ D .rc1/b1 C \\x01 \\x01 \\x01 C .rcn/bn\\nSo\\n\\x8c ru \\x8dB D\\n2\\n64\\nrc1\\n:::\\nrcn\\n3\\n75 D r\\n2\\n64\\nc1\\n:::\\ncn\\n3\\n75 D r\\x8c u \\x8dB\\nThus the coordinate mapping also preserves scalar multiplication and hence is a linear\\ntransformation. See Exercises 23 and 24 for veriﬁcation that the coordinate mapping is\\none-to-one and maps V onto Rn.\\nThe linearity of the coordinate mapping extends to linear combinations, just as in\\nSection 1.8. Ifu1; : : : ; up are in V and if c1; : : : ; cp are scalars, then\\n\\x8c c1u1 C \\x01 \\x01 \\x01 C cpup \\x8dB D c1\\x8c u1 \\x8dB C \\x01 \\x01 \\x01 C cp\\x8c up \\x8dB (5)\\nIn words, (5) says that theB-coordinate vector of a linear combination of u1; : : : ; up is\\nthe same linear combination of their coordinate vectors.\\nThe coordinate mapping in Theorem 8 is an important example of anisomorphism\\nfrom V onto Rn. In general, a one-to-one linear transformation from a vector spaceV\\nonto a vector space W is called an isomorphism from V onto W (iso from the Greek\\nfor “the same,” andmorph from the Greek for “form” or “structure”). The notation and\\nterminology for V and W may differ, but the two spaces are indistinguishable as vector\\nspaces. Every vector space calculation in V is accurately reproduced in W, and vice\\nversa. In particular, any real vector space with a basis ofn vectors is indistinguishable\\nfrom Rn. See Exercises 25 and 26.\\nSG\\nIsomorphic Vector\\nSpaces 4–11\\nEXAMPLE 5 Let B be the standard basis of the spaceP3 of polynomials; that is, let\\nB D f1; t; t 2; t3g. A typical elementp of P3 has the form\\np.t/ D a0 C a1t C a2t2 C a3t3\\nSince p is already displayed as a linear combination of the standard basis vectors, we\\nconclude that\\n\\x8c p \\x8dB D\\n2\\n664\\na0\\na1\\na2\\na3\\n3\\n775\\nThus the coordinate mapping p 7!\\x8c p \\x8dB is an isomorphism from P3 onto R4. All vector\\nspace operations in P3 correspond to operations in R4.\\nIf we think of P3 and R4 as displays on two computer screens that are connected\\nvia the coordinate mapping, then every vector space operation in P3 on one screen is\\nexactly duplicated by a corresponding vector operation in R4 on the other screen. The\\nvectors on the P3 screen look different from those on the R4 screen, but they “act” as\\nvectors in exactly the same way. See Figure 6.\\nSECOND REVISED PAGES')"
            ]
          },
          "execution_count": 22,
          "metadata": {},
          "output_type": "execute_result"
        }
      ],
      "source": [
        "docs1[238]"
      ]
    },
    {
      "cell_type": "markdown",
      "metadata": {
        "id": "V6bFd15hi2fT"
      },
      "source": [
        "## **Discrete Structures**"
      ]
    },
    {
      "cell_type": "code",
      "execution_count": 23,
      "metadata": {
        "id": "cOqXmMYti4aW"
      },
      "outputs": [],
      "source": [
        "loader2 = PyPDFLoader(\"/content/Discrete mathematics and its applications-BY Kenneth H. Rosen -McGraw-Hill (2013).pdf\")\n",
        "docs2 = loader2.load()"
      ]
    },
    {
      "cell_type": "code",
      "execution_count": 24,
      "metadata": {
        "colab": {
          "base_uri": "https://localhost:8080/"
        },
        "id": "T93KBj4TjFbZ",
        "outputId": "0d5bd97d-2623-446f-b3b2-51753fc9b7eb"
      },
      "outputs": [
        {
          "data": {
            "text/plain": [
              "1070"
            ]
          },
          "execution_count": 24,
          "metadata": {},
          "output_type": "execute_result"
        }
      ],
      "source": [
        "len(docs2)"
      ]
    },
    {
      "cell_type": "code",
      "execution_count": 25,
      "metadata": {
        "colab": {
          "base_uri": "https://localhost:8080/"
        },
        "id": "CG4qgC3hjHhO",
        "outputId": "5be179d8-620b-45a8-94b2-539ef4af4ad9"
      },
      "outputs": [
        {
          "data": {
            "text/plain": [
              "Document(metadata={'producer': 'PDFTron PDFNet, V7.10742', 'creator': 'PyPDF', 'creationdate': '2013-08-12T04:58:59+00:00', 'moddate': '2020-04-24T16:00:45+00:00', 'subject': 'TeX output 2011.05.13:1021', 'author': 'Christina Thiele (Carleton CA) 3070 2000 May 31 13:44:37', 'title': 'C:\\\\rosen4\\\\FRONT-7T.dvi', 'source': '/content/Discrete mathematics and its applications-BY Kenneth H. Rosen -McGraw-Hill (2013).pdf', 'total_pages': 1070, 'page': 178, 'page_label': '179'}, page_content='2.4 Sequences and Summations 159\\nEXAMPLE8 Suppose that { a\\nn\\n} is the sequence of integers deﬁned by a\\nn\\n= n ! , the value of the factorial\\nfunction at the integer n , where n = 1 , 2 , 3 ,... . Because n ! = n((n − 1 )(n − 2 )... 2 · 1 ) =\\nn(n − 1 ) ! = na\\nn − 1\\n, we see that the sequence of factorials satisﬁes the recurrence relation\\na\\nn\\n= na\\nn − 1\\n, together with the initial condition a\\n1\\n= 1.\\n▲\\nWe say that we have solved the recurrence relation together with the initial conditions when\\nwe ﬁnd an explicit formula, called a closed formula , for the terms of the sequence.\\nEXAMPLE9 Determine whether the sequence { a\\nn\\n} , where a\\nn\\n= 3 n for every nonnegative integer n , is a\\nsolution of the recurrence relation a\\nn\\n= 2 a\\nn − 1\\n− a\\nn − 2\\nfor n = 2 , 3 , 4 ,... . Answer the same\\nquestion where a\\nn\\n= 2\\nn\\nand where a\\nn\\n= 5.\\nSolution: Suppose that a\\nn\\n= 3 n for every nonnegative integer n . Then, for n ≥ 2, we see that\\n2 a\\nn − 1\\n− a\\nn − 2\\n= 2 ( 3 (n − 1 )) − 3 (n − 2 ) = 3 n = a\\nn\\n. Therefore, { a\\nn\\n} , where a\\nn\\n= 3 n , is a so-\\nlution of the recurrence relation.\\nSuppose that a\\nn\\n= 2\\nn\\nfor every nonnegative integer n . Note that a\\n0\\n= 1, a\\n1\\n= 2, and a\\n2\\n= 4.\\nBecause 2 a\\n1\\n− a\\n0\\n= 2 · 2 − 1 = 3  = a\\n2\\n, we see that { a\\nn\\n} , where a\\nn\\n= 2\\nn\\n, is not a solution of\\nthe recurrence relation.\\nSuppose that a\\nn\\n= 5 for every nonnegative integer n . Then for n ≥ 2, we see that a\\nn\\n=\\n2 a\\nn − 1\\n− a\\nn − 2\\n= 2 · 5 − 5 = 5 = a\\nn\\n. Therefore, { a\\nn\\n} , where a\\nn\\n= 5, is a solution of the recur-\\nrence relation.\\n▲\\nMany methods have been developed for solving recurrence relations. Here, we will introduce\\na straightforward method known as iteration via several examples. In Chapter 8 we will study\\nrecurrence relations in depth. In that chapter we will show how recurrence relations can be used\\nto solve counting problems and we will introduce several powerful methods that can be used to\\nsolve many different recurrence relations.\\nEXAMPLE10 Solve the recurrence relation and initial condition in Example 5.\\nSolution: We can successively apply the recurrence relation in Example 5, starting with the\\ninitial condition a\\n1\\n= 2, and working upward until we reach a\\nn\\nto deduce a closed formula for\\nthe sequence. We see that\\na\\n2\\n= 2 + 3\\na\\n3\\n= ( 2 + 3 ) + 3 = 2 + 3 · 2\\na\\n4\\n= ( 2 + 2 · 3 ) + 3 = 2 + 3 · 3\\n.\\n.\\n.\\na\\nn\\n= a\\nn − 1\\n+ 3 = ( 2 + 3 · (n − 2 )) + 3 = 2 + 3 (n − 1 ).\\nWe can also successively apply the recurrence relation in Example 5, starting with the\\nterm a\\nn\\nand working downward until we reach the initial condition a\\n1\\n= 2 to deduce this same\\nformula. The steps are\\na\\nn\\n= a\\nn − 1\\n+ 3\\n= (a\\nn − 2\\n+ 3 ) + 3 = a\\nn − 2\\n+ 3 · 2\\n= (a\\nn − 3\\n+ 3 ) + 3 · 2 = a\\nn − 3\\n+ 3 · 3\\n.\\n.\\n.\\n= a\\n2\\n+ 3 (n − 2 ) = (a\\n1\\n+ 3 ) + 3 (n − 2 ) = 2 + 3 (n − 1 ).')"
            ]
          },
          "execution_count": 25,
          "metadata": {},
          "output_type": "execute_result"
        }
      ],
      "source": [
        "docs2[178]"
      ]
    },
    {
      "cell_type": "markdown",
      "metadata": {
        "id": "9q1bcySAy5Jg"
      },
      "source": [
        "## **Calculas & Analytical Geometry**"
      ]
    },
    {
      "cell_type": "code",
      "execution_count": 163,
      "metadata": {
        "id": "SoUDyAYGy9vP"
      },
      "outputs": [],
      "source": [
        "loader3 = PyPDFLoader(\"/content/George B. Thomas Jr., Maurice D. Weir, Joel R. Hass - Thomas' Calculus-Pearson (2014).pdf\")\n",
        "docs3 = loader3.load()"
      ]
    },
    {
      "cell_type": "code",
      "execution_count": 166,
      "metadata": {
        "colab": {
          "base_uri": "https://localhost:8080/"
        },
        "id": "VVLAJrUE0Wha",
        "outputId": "0669fed9-57fd-4113-967f-69c57cc51bab"
      },
      "outputs": [
        {
          "data": {
            "text/plain": [
              "1191"
            ]
          },
          "execution_count": 166,
          "metadata": {},
          "output_type": "execute_result"
        }
      ],
      "source": [
        "len(docs3)"
      ]
    },
    {
      "cell_type": "code",
      "execution_count": 167,
      "metadata": {
        "colab": {
          "base_uri": "https://localhost:8080/"
        },
        "id": "KpjyUXpG0Yms",
        "outputId": "54027aa9-a970-4c67-dfa9-a9cc99e86a58"
      },
      "outputs": [
        {
          "data": {
            "text/plain": [
              "Document(metadata={'producer': 'Foxit PDF SDK DLL 3.1 - Foxit Software', 'creator': 'Adobe InDesign CS5 (7.0)', 'creationdate': '2015-11-19T23:42:40+05:30', 'moddate': '2016-08-20T17:50:16+02:00', 'author': 'George B. Thomas', 'title': 'Thomas’ Calculus', 'spdf': '1127', 'enhanced': 'By PDF Enhancer 3.5.6412/Unix', 'source': \"/content/George B. Thomas Jr., Maurice D. Weir, Joel R. Hass - Thomas' Calculus-Pearson (2014).pdf\", 'total_pages': 1191, 'page': 374, 'page_label': '360'}, page_content='THEOREm 2— pappus’s Theorem for Surface a reas If an arc of a smooth \\nplane curve is revolved once about a line in the plane that does not cut through \\nthe arc’s interior, then the area of the surface generated by the arc equals the \\nlength L of the arc times the distance traveled by the arc’s centroid during the \\nrevolution. If \\nr is the distance from the axis of revolution to the centroid, then\\n S = 2prL. (11)\\nThe proof we give assumes that we can model the axis of revolution as the x-axis and the \\narc as the graph of a continuously differentiable function of x.\\nProof  We draw the axis of revolution as the x-axis with the arc extending from x = a \\nto x = b in the first quadrant (Figure 6.59). The area of the surface generated by the arc is\\n S =\\nL\\nx =b\\nx =a\\n2py ds = 2p\\nL\\nx =b\\nx =a\\ny ds. (12)\\nThe y-coordinate of the arc’s centroid is\\ny = L\\nx =b\\nx =a\\ny/uni223C.alt ds\\nL\\nx =b\\nx =a\\n ds\\n= L\\nx =b\\nx =a\\ny ds\\nL .  \\nL = 1 ds is the arc’s \\nlength and y/uni223C.alt= y.\\nHence\\nL\\nx =b\\nx =a\\ny ds = yL.\\nSubstituting yL for the last integral in Equation (12) gives S = 2pyL. With r equal to y, \\nwe have S = 2prL. \\nExamplE 8  Use Pappus’s area theorem to find the surface area of the torus in Example 6.\\nSolution From Figure 6.57, the surface of the torus is generated by revolving a circle of \\nradius a about the z-axis, and b Ú a is the distance from the centroid to the axis of revolu-\\ntion. The arc length of the smooth curve generating this surface of revolution is the cir -\\ncumference of the circle, so L = 2pa. Substituting these values into Equation (11), we \\nfind the surface area of the torus to be\\n S\\n= 2p(b)(2pa) = 4p2ba. \\n0\\nx\\ny\\nds\\ny\\na\\nb\\n~\\nArc\\nFigUre 6.59 Figure for proving  \\nPappus’s Theorem for surface area. The \\narc length differential ds is given by  \\nEquation (6) in Section 6.3.\\nThin Plates with Constant Density\\nIn Exercises 1–12, find the center of mass of a thin plate of constant \\ndensity \\nd covering the given region.\\n 1. The region bounded by the parabola y = x2 and the line y = 4\\n 2. The region bounded by the parabola y = 25 - x2 and the x-axis\\n 3. The region bounded by the parabola y = x - x2 and the line \\ny = -x\\n 4. The region enclosed by the parabolas y = x2 - 3 and y = -2x2\\n 5. The region bounded by the y-axis and the curve x = y - y3, \\n 0 … y … 1\\n 6. The region bounded by the parabola x = y2 - y and the line y = x\\n 7. The region bounded by the x-axis and the curve y = cos x, \\n-p>2 … x … p>2\\n 8. The region between the curve y = sec2 x, -p>4 … x … p>4 \\nand the x-axis\\n 9. The region bounded by the parabolas y = 2x2 - 4x and \\ny = 2x - x2.\\n 10. a. The region cut from the first quadrant by the circle x2 + y2 = 9\\n b. The region bounded by the x-axis and the semicircle \\ny = 29 - x2\\n  Compare your answer in part (b) with the answer in part (a).\\nexercises 6.6\\n360 Chapter 6: Applications of Definite Integrals\\nM06_THOM8960_CH06_pp313-365.indd   360 10/23/13   4:32 PM')"
            ]
          },
          "execution_count": 167,
          "metadata": {},
          "output_type": "execute_result"
        }
      ],
      "source": [
        "docs3[374]"
      ]
    },
    {
      "cell_type": "markdown",
      "metadata": {
        "id": "zHomduOTjJhA"
      },
      "source": [
        "# **Step 1b → Subject-Aware Text Splitting**\n"
      ]
    },
    {
      "cell_type": "markdown",
      "metadata": {
        "id": "EU4eQ-WrjNYA"
      },
      "source": [
        "## **Linear Algebra**"
      ]
    },
    {
      "cell_type": "code",
      "execution_count": 26,
      "metadata": {
        "id": "c2qE-KyJjQUE"
      },
      "outputs": [],
      "source": [
        "PINECONE_LIN = PineconeVectorStore(\n",
        "    index_name=index_name,\n",
        "    embedding=embeddings,\n",
        "    namespace=\"linear_algebra\"\n",
        ")"
      ]
    },
    {
      "cell_type": "code",
      "execution_count": 27,
      "metadata": {
        "id": "UTg1KsPwjWh5"
      },
      "outputs": [],
      "source": [
        "splitter1 = RecursiveCharacterTextSplitter(\n",
        "    chunk_size=1000,\n",
        "    chunk_overlap=200,\n",
        ")\n",
        "chunks1 = splitter1.split_documents(docs1)"
      ]
    },
    {
      "cell_type": "code",
      "execution_count": 28,
      "metadata": {
        "colab": {
          "base_uri": "https://localhost:8080/"
        },
        "id": "lzQ4eC23jYg9",
        "outputId": "03f076aa-60d4-4457-b1e8-d568deb434ba"
      },
      "outputs": [
        {
          "data": {
            "text/plain": [
              "1968"
            ]
          },
          "execution_count": 28,
          "metadata": {},
          "output_type": "execute_result"
        }
      ],
      "source": [
        "len(chunks1)"
      ]
    },
    {
      "cell_type": "code",
      "execution_count": 29,
      "metadata": {
        "colab": {
          "base_uri": "https://localhost:8080/"
        },
        "id": "1OHdBJ6ojayT",
        "outputId": "7de93e64-810d-4999-8ffb-b0ca4f7dc6d6"
      },
      "outputs": [
        {
          "data": {
            "text/plain": [
              "Document(metadata={'producer': 'xdvipdfmx (0.7.9)', 'creator': 'HELIOS pdfcat', 'creationdate': '2015-01-21T14:42:45+05:30', 'codemantra, llc': 'http://www.codemantra.com', 'moddate': \"D:20240310035050Z00'00\", 'author': '', 'universal pdf': 'The process that creates this PDF constitutes a trade secret of codeMantra, LLC and is protected by the copyright laws of the United States', 'title': '0321982630.pdf', 'source': '/content/Linear_Algebra.pdf', 'total_pages': 579, 'page': 75, 'page_label': '59'}, page_content='The proof of the next theorem is similar to the solution of Example 3. Details are given\\nat the end of this section.\\nT H E O R E M 7Characterization of Linearly Dependent Sets\\nAn indexed set S D fv1; : : : ; vpg of two or more vectors is linearly dependent if\\nand only if at least one of the vectors inS is a linear combination of the others. In\\nfact, ifS is linearly dependent and v1 ¤ 0, then somevj (with j > 1 ) is a linear\\ncombination of the preceding vectors, v1; : : : ; vj \\x001.\\nWarning: Theorem 7 does not say that every vector in a linearly dependent set is a\\nlinear combination of the preceding vectors. A vector in a linearly dependent set may\\nfail to be a linear combination of the other vectors. See Practice Problem 1(c).\\nEXAMPLE 4 Let u D\\n2\\n4\\n3\\n1\\n0\\n3\\n5 and v D\\n2\\n4\\n1\\n6\\n0\\n3\\n5. Describe the set spanned byu and v,\\nand explain why a vectorw is in Spanfu; vg if and only iffu; v; wg is linearly dependent.\\nSOLUTION The vectors u and v are linearly independent because neither vector is')"
            ]
          },
          "execution_count": 29,
          "metadata": {},
          "output_type": "execute_result"
        }
      ],
      "source": [
        "chunks1[238]"
      ]
    },
    {
      "cell_type": "code",
      "execution_count": null,
      "metadata": {
        "id": "-MPGZPFHjo39"
      },
      "outputs": [],
      "source": [
        "vector_store1 = PINECONE_LIN.add_documents(chunks1,namespace=\"linear_algebra\")"
      ]
    },
    {
      "cell_type": "markdown",
      "metadata": {
        "id": "aGaVql7Rjc1V"
      },
      "source": [
        "## **Discrete Structures**"
      ]
    },
    {
      "cell_type": "code",
      "execution_count": 30,
      "metadata": {
        "id": "JNFf_fDhjUMl"
      },
      "outputs": [],
      "source": [
        "PINECONE_DIS = PineconeVectorStore(\n",
        "    index_name=index_name,\n",
        "    embedding=embeddings,\n",
        "    namespace=\"discrete_structures\"\n",
        ")"
      ]
    },
    {
      "cell_type": "code",
      "execution_count": 31,
      "metadata": {
        "id": "TO-x58QGj4u1"
      },
      "outputs": [],
      "source": [
        "splitter2 = RecursiveCharacterTextSplitter(\n",
        "    chunk_size=1000,\n",
        "    chunk_overlap=200,\n",
        ")\n",
        "chunks2 = splitter2.split_documents(docs2)"
      ]
    },
    {
      "cell_type": "code",
      "execution_count": 32,
      "metadata": {
        "colab": {
          "base_uri": "https://localhost:8080/"
        },
        "id": "CXF4aIZuj-JV",
        "outputId": "597d6abf-48b7-4188-eb03-5be213abf376"
      },
      "outputs": [
        {
          "data": {
            "text/plain": [
              "4869"
            ]
          },
          "execution_count": 32,
          "metadata": {},
          "output_type": "execute_result"
        }
      ],
      "source": [
        "len(chunks2)"
      ]
    },
    {
      "cell_type": "code",
      "execution_count": 34,
      "metadata": {
        "colab": {
          "base_uri": "https://localhost:8080/"
        },
        "id": "QWz_gqiwkBA9",
        "outputId": "f4a04f1b-732b-43e8-e515-c8ee7656c2d5"
      },
      "outputs": [
        {
          "data": {
            "text/plain": [
              "Document(metadata={'producer': 'PDFTron PDFNet, V7.10742', 'creator': 'PyPDF', 'creationdate': '2013-08-12T04:58:59+00:00', 'moddate': '2020-04-24T16:00:45+00:00', 'subject': 'TeX output 2011.05.13:1021', 'author': 'Christina Thiele (Carleton CA) 3070 2000 May 31 13:44:37', 'title': 'C:\\\\rosen4\\\\FRONT-7T.dvi', 'source': '/content/Discrete mathematics and its applications-BY Kenneth H. Rosen -McGraw-Hill (2013).pdf', 'total_pages': 1070, 'page': 74, 'page_label': '75'}, page_content='of the call did not put on a special list was billed.\\n42. Express each of these system speciﬁcations using predi-\\ncates, quantiﬁers, and logical connectives.\\na) Every user has access to an electronic mailbox.\\nb) The system mailbox can be accessed by everyone in\\nthe group if the ﬁle system is locked.\\nc) The ﬁrewall is in a diagnostic state only if the proxy\\nserver is in a diagnostic state.\\nd) At least one router is functioning normally if the\\nthroughput is between 100 kbps and 500 kbps and\\nthe proxy server is not in diagnostic mode.')"
            ]
          },
          "execution_count": 34,
          "metadata": {},
          "output_type": "execute_result"
        }
      ],
      "source": [
        "chunks2[338]"
      ]
    },
    {
      "cell_type": "code",
      "execution_count": null,
      "metadata": {
        "id": "-VBdFZ8tkJKE"
      },
      "outputs": [],
      "source": [
        "vector_store2 = PINECONE_DIS.add_documents(chunks2,namespace=\"discrete_structures\")"
      ]
    },
    {
      "cell_type": "markdown",
      "metadata": {
        "id": "vz7S-U1k0eYm"
      },
      "source": [
        "## **Calculas & Analytical Geometry**"
      ]
    },
    {
      "cell_type": "code",
      "execution_count": 182,
      "metadata": {
        "id": "FYEhliWb0zvD"
      },
      "outputs": [],
      "source": [
        "PINECONE_CAL = PineconeVectorStore(\n",
        "    index_name=index_name,\n",
        "    embedding=embeddings,\n",
        "    namespace=\"calculas_&_analytical_geometry\"\n",
        ")"
      ]
    },
    {
      "cell_type": "code",
      "execution_count": 183,
      "metadata": {
        "id": "IQUuOO1801SR"
      },
      "outputs": [],
      "source": [
        "splitter3 = RecursiveCharacterTextSplitter(\n",
        "    chunk_size=1000,\n",
        "    chunk_overlap=200,\n",
        ")\n",
        "chunks3 = splitter3.split_documents(docs3)"
      ]
    },
    {
      "cell_type": "code",
      "execution_count": 184,
      "metadata": {
        "colab": {
          "base_uri": "https://localhost:8080/"
        },
        "id": "Brrp40VB1t-5",
        "outputId": "58bf7403-8998-4cad-d560-b6d31e795d5c"
      },
      "outputs": [
        {
          "data": {
            "text/plain": [
              "4400"
            ]
          },
          "execution_count": 184,
          "metadata": {},
          "output_type": "execute_result"
        }
      ],
      "source": [
        "len(chunks3)"
      ]
    },
    {
      "cell_type": "code",
      "execution_count": 185,
      "metadata": {
        "colab": {
          "base_uri": "https://localhost:8080/"
        },
        "id": "fNbvt2qt1vJz",
        "outputId": "9477940d-b462-4d17-bbae-3b8105450f91"
      },
      "outputs": [
        {
          "data": {
            "text/plain": [
              "Document(metadata={'producer': 'Foxit PDF SDK DLL 3.1 - Foxit Software', 'creator': 'Adobe InDesign CS5 (7.0)', 'creationdate': '2015-11-19T23:42:40+05:30', 'moddate': '2016-08-20T17:50:16+02:00', 'author': 'George B. Thomas', 'title': 'Thomas’ Calculus', 'spdf': '1127', 'enhanced': 'By PDF Enhancer 3.5.6412/Unix', 'source': \"/content/George B. Thomas Jr., Maurice D. Weir, Joel R. Hass - Thomas' Calculus-Pearson (2014).pdf\", 'total_pages': 1191, 'page': 40, 'page_label': '26'}, page_content='sin2 u … u2  and  (1 - cos u)2 … u2.\\nBy taking square roots, this is equivalent to saying that\\n0 sin u0 … 0 u0   and  0 1 - cos u0 … 0 u0 ,\\nso\\n- 0 u0 … sin u … 0 u0   and  - 0 u0 … 1 - cos u … 0 u0 .\\nThese inequalities will be useful in the next chapter.\\nTransformations of Trigonometric Graphs\\nThe rules for shifting, stretching, compressing, and reflecting the graph of a function sum-\\nmarized in the following diagram apply to the trigonometric functions we have discussed \\nin this section.\\nu\\n1\\nP\\nA(1, 0)\\ncos u 1 /uni2212 cos u\\nsin u\\nOQ\\nu\\nx\\ny\\nFiGure 1.47 From the \\ngeometry of this figure, drawn \\nfor u\\n7 0, we get the inequality \\nsin2 u + (1 - cos u)2 … u2.\\n26 Chapter 1: Functions\\nM01_THOM8960_CH01_pp001-040.indd   26 10/31/13   12:06 PM')"
            ]
          },
          "execution_count": 185,
          "metadata": {},
          "output_type": "execute_result"
        }
      ],
      "source": [
        "chunks3[128]"
      ]
    },
    {
      "cell_type": "code",
      "execution_count": 186,
      "metadata": {
        "id": "m1mV5IdA3f3C"
      },
      "outputs": [],
      "source": [
        "vector_store3 = PINECONE_CAL.add_documents(chunks3,namespace=\"calculas_&_analytical_geometry\")"
      ]
    },
    {
      "cell_type": "markdown",
      "metadata": {
        "id": "rJWFi__HkMdp"
      },
      "source": [
        "# **Step 2 → Retrieval**"
      ]
    },
    {
      "cell_type": "markdown",
      "metadata": {
        "id": "ac-F2QB2kMza"
      },
      "source": [
        "## **Linear_Algebra**"
      ]
    },
    {
      "cell_type": "code",
      "execution_count": 101,
      "metadata": {
        "id": "-qrIUJKFkPFY"
      },
      "outputs": [],
      "source": [
        "similarity_retriever_lin = PINECONE_LIN.as_retriever(search_type=\"similarity\",search_kwargs={\"k\":4})"
      ]
    },
    {
      "cell_type": "code",
      "execution_count": 138,
      "metadata": {
        "id": "WT8WGyaPpvr5"
      },
      "outputs": [],
      "source": [
        "multiquery_retriever_lin = MultiQueryRetriever.from_llm(\n",
        "    retriever=PINECONE_LIN.as_retriever(search_type=\"mmr\",search_kwargs={\"k\":1,\"lambda_mul\":0.8}),\n",
        "    llm=ChatGoogleGenerativeAI(model=\"gemini-1.5-flash\"),\n",
        ")"
      ]
    },
    {
      "cell_type": "code",
      "execution_count": 139,
      "metadata": {
        "colab": {
          "base_uri": "https://localhost:8080/"
        },
        "id": "YvuaSJb-kW4i",
        "outputId": "e4f6a2a1-9fa0-4309-c915-d1b392d3b0eb"
      },
      "outputs": [
        {
          "data": {
            "text/plain": [
              "MultiQueryRetriever(retriever=VectorStoreRetriever(tags=['PineconeVectorStore', 'HuggingFaceEmbeddings'], vectorstore=<langchain_pinecone.vectorstores.PineconeVectorStore object at 0x78bf43b2f920>, search_type='mmr', search_kwargs={'k': 1, 'lambda_mul': 0.8}), llm_chain=PromptTemplate(input_variables=['question'], input_types={}, partial_variables={}, template='You are an AI language model assistant. Your task is\\n    to generate 3 different versions of the given user\\n    question to retrieve relevant documents from a vector  database.\\n    By generating multiple perspectives on the user question,\\n    your goal is to help the user overcome some of the limitations\\n    of distance-based similarity search. Provide these alternative\\n    questions separated by newlines. Original question: {question}')\n",
              "| ChatGoogleGenerativeAI(model='models/gemini-1.5-flash', google_api_key=SecretStr('**********'), client=<google.ai.generativelanguage_v1beta.services.generative_service.client.GenerativeServiceClient object at 0x78bf3a561670>, default_metadata=(), model_kwargs={})\n",
              "| LineListOutputParser())"
            ]
          },
          "execution_count": 139,
          "metadata": {},
          "output_type": "execute_result"
        }
      ],
      "source": [
        "multiquery_retriever_lin"
      ]
    },
    {
      "cell_type": "code",
      "execution_count": 140,
      "metadata": {
        "id": "B6vbxr44kXQN"
      },
      "outputs": [],
      "source": [
        "retrieved_docs = multiquery_retriever_lin.invoke(\"What is linear algebra\")"
      ]
    },
    {
      "cell_type": "code",
      "execution_count": 141,
      "metadata": {
        "colab": {
          "base_uri": "https://localhost:8080/"
        },
        "id": "5a871e7a",
        "outputId": "1ad0aeb0-9426-4dcd-9c9d-e85599197fa0"
      },
      "outputs": [
        {
          "data": {
            "text/plain": [
              "[Document(metadata={'author': '', 'codemantra, llc': 'http://www.codemantra.com', 'creationdate': '2015-01-21T14:42:45+05:30', 'creator': 'HELIOS pdfcat', 'moddate': \"D:20240310035050Z00'00\", 'page': 9.0, 'page_label': 'ix', 'producer': 'xdvipdfmx (0.7.9)', 'source': '/content/Linear_Algebra.pdf', 'title': '0321982630.pdf', 'total_pages': 579.0, 'universal pdf': 'The process that creates this PDF constitutes a trade secret of codeMantra, LLC and is protected by the copyright laws of the United States'}, page_content='visualized through the geometric intuition developed in Chapter 1. A major achievement\\nof this text is that the level of difﬁculty is fairly even throughout the course.\\nA Modern View of Matrix Multiplication\\nGood notation is crucial, and the text reﬂects the way scientists and engineers actually\\nuse linear algebra in practice. The deﬁnitions and proofs focus on the columns of a ma-\\ntrix rather than on the matrix entries. A central theme is to view a matrix–vector product\\nAx as a linear combination of the columns ofA. This modern approach simpliﬁes many\\narguments, and it ties vector space ideas into the study of linear systems.\\nLinear Transformations\\nLinear transformations form a “thread” that is woven into the fabric of the text. Their\\nuse enhances the geometric ﬂavor of the text. In Chapter 1, for instance, linear transfor-\\nmations provide a dynamic and graphical view of matrix–vector multiplication.\\nEigenvalues and Dynamical Systems'),\n",
              " Document(metadata={'author': '', 'codemantra, llc': 'http://www.codemantra.com', 'creationdate': '2015-01-21T14:42:45+05:30', 'creator': 'HELIOS pdfcat', 'moddate': \"D:20240310035050Z00'00\", 'page': 15.0, 'page_label': 'xv', 'producer': 'xdvipdfmx (0.7.9)', 'source': '/content/Linear_Algebra.pdf', 'title': '0321982630.pdf', 'total_pages': 579.0, 'universal pdf': 'The process that creates this PDF constitutes a trade secret of codeMantra, LLC and is protected by the copyright laws of the United States'}, page_content='ﬁve pages of the Preface to learn more about the structure of this text. This will give\\nyou a framework for understanding how the course may proceed.\\nIn a practical sense, linear algebra is a language. You must learn this language the\\nsame way you would a foreign language—with daily work. Material presented in one\\nsection is not easily understood unless you have thoroughly studied the text and worked\\nthe exercises for the preceding sections. Keeping up with the course will save you lots\\nof time and distress!\\nNumerical Notes\\nWe hope you read the Numerical Notes in the text, even if you are not using a computer\\nor graphing calculator with the text. In real life, most applications of linear algebra\\ninvolve numerical computations that are subject to some numerical error, even though\\nthat error may be extremely small. The Numerical Notes will warn you of potential\\ndifﬁculties in using linear algebra later in your career, and if you study the notes now,'),\n",
              " Document(metadata={'author': '', 'codemantra, llc': 'http://www.codemantra.com', 'creationdate': '2015-01-21T14:42:45+05:30', 'creator': 'HELIOS pdfcat', 'moddate': \"D:20240310035050Z00'00\", 'page': 17.0, 'page_label': '1', 'producer': 'xdvipdfmx (0.7.9)', 'source': '/content/Linear_Algebra.pdf', 'title': '0321982630.pdf', 'total_pages': 579.0, 'universal pdf': 'The process that creates this PDF constitutes a trade secret of codeMantra, LLC and is protected by the copyright laws of the United States'}, page_content='in many other ﬁelds have employed computers to analyze\\nmathematical models. Because of the massive amounts of\\ndata involved, the models are usually linear; that is, they\\nare described by systems of linear equations.\\nThe importance of linear algebra for applications has\\nrisen in direct proportion to the increase in computing\\npower, with each new generation of hardware and\\nsoftware triggering a demand for even greater capabilities.\\nComputer science is thus intricately linked with linear\\nalgebra through the explosive growth of parallel processing\\nand large-scale computations.\\nScientists and engineers now work on problems far\\nmore complex than even dreamed possible a few decades\\nago. Today, linear algebra has more potential value for\\nstudents in many scientiﬁc and business ﬁelds than any\\nother undergraduate mathematics subject! The material in\\nthis text provides the foundation for further work in many\\ninteresting areas. Here are a few possibilities; others will\\nbe described later.')]"
            ]
          },
          "execution_count": 141,
          "metadata": {},
          "output_type": "execute_result"
        }
      ],
      "source": [
        "retrieved_docs"
      ]
    },
    {
      "cell_type": "markdown",
      "metadata": {
        "id": "dvH8Enw1kZFE"
      },
      "source": [
        "## **Discrete_Structures**"
      ]
    },
    {
      "cell_type": "code",
      "execution_count": 142,
      "metadata": {
        "id": "PMJDTJGFka7Q"
      },
      "outputs": [],
      "source": [
        "multiquery_retriever_dis = MultiQueryRetriever.from_llm(\n",
        "    retriever=PINECONE_DIS.as_retriever(search_type=\"mmr\",search_kwargs={\"k\":1,\"lambda_mul\":0.8}),\n",
        "    llm=ChatGoogleGenerativeAI(model=\"gemini-1.5-flash\"),\n",
        ")"
      ]
    },
    {
      "cell_type": "code",
      "execution_count": 143,
      "metadata": {
        "colab": {
          "base_uri": "https://localhost:8080/"
        },
        "id": "usU5_5I0kc1r",
        "outputId": "9c08ec6d-dde5-4f02-a51b-80adc3bccb33"
      },
      "outputs": [
        {
          "data": {
            "text/plain": [
              "MultiQueryRetriever(retriever=VectorStoreRetriever(tags=['PineconeVectorStore', 'HuggingFaceEmbeddings'], vectorstore=<langchain_pinecone.vectorstores.PineconeVectorStore object at 0x78bf435208c0>, search_type='mmr', search_kwargs={'k': 1, 'lambda_mul': 0.8}), llm_chain=PromptTemplate(input_variables=['question'], input_types={}, partial_variables={}, template='You are an AI language model assistant. Your task is\\n    to generate 3 different versions of the given user\\n    question to retrieve relevant documents from a vector  database.\\n    By generating multiple perspectives on the user question,\\n    your goal is to help the user overcome some of the limitations\\n    of distance-based similarity search. Provide these alternative\\n    questions separated by newlines. Original question: {question}')\n",
              "| ChatGoogleGenerativeAI(model='models/gemini-1.5-flash', google_api_key=SecretStr('**********'), client=<google.ai.generativelanguage_v1beta.services.generative_service.client.GenerativeServiceClient object at 0x78bf3a52bf20>, default_metadata=(), model_kwargs={})\n",
              "| LineListOutputParser())"
            ]
          },
          "execution_count": 143,
          "metadata": {},
          "output_type": "execute_result"
        }
      ],
      "source": [
        "multiquery_retriever_dis"
      ]
    },
    {
      "cell_type": "code",
      "execution_count": 144,
      "metadata": {
        "colab": {
          "base_uri": "https://localhost:8080/"
        },
        "id": "zLw_NxVvkfCG",
        "outputId": "dc2d6ff8-45ed-487e-dca9-b27f06dac475"
      },
      "outputs": [
        {
          "data": {
            "text/plain": [
              "[Document(metadata={'author': '', 'codemantra, llc': 'http://www.codemantra.com', 'creationdate': '2015-01-21T14:42:45+05:30', 'creator': 'HELIOS pdfcat', 'moddate': \"D:20240310035050Z00'00\", 'page': 262.0, 'page_label': '246', 'producer': 'xdvipdfmx (0.7.9)', 'source': '/content/Linear_Algebra.pdf', 'title': '0321982630.pdf', 'total_pages': 579.0, 'universal pdf': 'The process that creates this PDF constitutes a trade secret of codeMantra, LLC and is protected by the copyright laws of the United States'}, page_content='that are best explained using linear algebra.\\nDiscrete-Time Signals\\nThe vector space S of discrete-time signals was introduced in Section 4.1. A signal in\\nS is a function deﬁned only on the integers and is visualized as a sequence of numbers,\\nsay, fykg. Figure 1 shows three typical signals whose general terms are .:7/k, 1k, and\\n.\\x001/k, respectively.\\nyk = .7k\\n– 2 – 1012 – 2 – 1012 – 202\\nyk = 1k yk = (– 1)k\\nFIGURE 1 Three signals in S.\\nSECOND REVISED PAGES'),\n",
              " Document(metadata={'author': '', 'codemantra, llc': 'http://www.codemantra.com', 'creationdate': '2015-01-21T14:42:45+05:30', 'creator': 'HELIOS pdfcat', 'moddate': \"D:20240310035050Z00'00\", 'page': 12.0, 'page_label': 'xii', 'producer': 'xdvipdfmx (0.7.9)', 'source': '/content/Linear_Algebra.pdf', 'title': '0321982630.pdf', 'total_pages': 579.0, 'universal pdf': 'The process that creates this PDF constitutes a trade secret of codeMantra, LLC and is protected by the copyright laws of the United States'}, page_content='xii Preface\\nthrough experimentation, then verify that their observations are correct by examining\\nthe relevant theorems and their proofs. The resources in the interactive version of the\\ntext give students the opportunity to interact with mathematical objects and ideas much\\nas we do with our own research.\\nThis web site at www.pearsonhighered.com/lay contains all of the support material\\nreferenced below. These materials are also available within MyMathLab.\\nReview Material\\nReview sheets and practice exams (with solutions) cover the main topics in the text.\\nThey come directly from courses we have taught in the past years. Each review sheet\\nidentiﬁes key deﬁnitions, theorems, and skills from a speciﬁed portion of the text.\\nApplications by Chapters\\nThe web site contains seven Case Studies, which expand topics introduced at the begin-\\nning of each chapter, adding real-world data and opportunities for further exploration. In'),\n",
              " Document(metadata={'author': '', 'codemantra, llc': 'http://www.codemantra.com', 'creationdate': '2015-01-21T14:42:45+05:30', 'creator': 'HELIOS pdfcat', 'moddate': \"D:20240310035050Z00'00\", 'page': 262.0, 'page_label': '246', 'producer': 'xdvipdfmx (0.7.9)', 'source': '/content/Linear_Algebra.pdf', 'title': '0321982630.pdf', 'total_pages': 579.0, 'universal pdf': 'The process that creates this PDF constitutes a trade secret of codeMantra, LLC and is protected by the copyright laws of the United States'}, page_content='1. Since the columns of P are G-coordinate vectors, a vector of the form P x must be\\na G-coordinate vector. ThusP satisﬁes equation (ii).\\n2. The coordinate vectors found in Example 1 show that\\nPC B D\\n\\x02 \\x8c b1 \\x8dC \\x8c b2 \\x8dC\\n\\x03\\nD\\n\\x14 4 \\x006\\n1 1\\n\\x15\\nHence\\nPB C D . PC B/\\x001 D 1\\n10\\n\\x14 1 6\\n\\x001 4\\n\\x15\\nD\\n\\x14 :1 :6\\n\\x00:1 :4\\n\\x15\\n4.8 APPLICATIONS TO DIFFERENCE EQUATIONS\\nNow that powerful computers are widely available, more and more scientiﬁc and\\nengineering problems are being treated in a way that uses discrete, or digital, data rather\\nthan continuous data. Difference equations are often the appropriate tool to analyze\\nsuch data. Even when a differential equation is used to model a continuous process, a\\nnumerical solution is often produced from a related difference equation.\\nThis section highlights some fundamental properties of linear difference equations\\nthat are best explained using linear algebra.\\nDiscrete-Time Signals\\nThe vector space S of discrete-time signals was introduced in Section 4.1. A signal in')]"
            ]
          },
          "execution_count": 144,
          "metadata": {},
          "output_type": "execute_result"
        }
      ],
      "source": [
        "multiquery_retriever_dis.invoke(\"What is discrete structures\")"
      ]
    },
    {
      "cell_type": "markdown",
      "metadata": {
        "id": "1gyAAKi-11Av"
      },
      "source": [
        "## **Calculas & Analytical Geometry**"
      ]
    },
    {
      "cell_type": "code",
      "execution_count": 202,
      "metadata": {
        "id": "vo--Ye_U12D8"
      },
      "outputs": [],
      "source": [
        "multiquery_retriever_cal = MultiQueryRetriever.from_llm(\n",
        "    retriever=PINECONE_CAL.as_retriever(search_type=\"mmr\",search_kwargs={\"k\":3,\"lambda_mul\":0.5}),\n",
        "    llm=ChatGoogleGenerativeAI(model=\"gemini-1.5-flash\"),\n",
        ")"
      ]
    },
    {
      "cell_type": "code",
      "execution_count": 194,
      "metadata": {
        "colab": {
          "base_uri": "https://localhost:8080/"
        },
        "id": "jHVsD5nP17qe",
        "outputId": "c4d125d6-fa28-42b5-d3c6-2defd3bed86f"
      },
      "outputs": [
        {
          "data": {
            "text/plain": [
              "MultiQueryRetriever(retriever=VectorStoreRetriever(tags=['PineconeVectorStore', 'HuggingFaceEmbeddings'], vectorstore=<langchain_pinecone.vectorstores.PineconeVectorStore object at 0x78bf374e3a70>, search_type='mmr', search_kwargs={'k': 1, 'lambda_mul': 0.8}), llm_chain=PromptTemplate(input_variables=['question'], input_types={}, partial_variables={}, template='You are an AI language model assistant. Your task is\\n    to generate 3 different versions of the given user\\n    question to retrieve relevant documents from a vector  database.\\n    By generating multiple perspectives on the user question,\\n    your goal is to help the user overcome some of the limitations\\n    of distance-based similarity search. Provide these alternative\\n    questions separated by newlines. Original question: {question}')\n",
              "| ChatGoogleGenerativeAI(model='models/gemini-1.5-flash', google_api_key=SecretStr('**********'), client=<google.ai.generativelanguage_v1beta.services.generative_service.client.GenerativeServiceClient object at 0x78bf380ea180>, default_metadata=(), model_kwargs={})\n",
              "| LineListOutputParser())"
            ]
          },
          "execution_count": 194,
          "metadata": {},
          "output_type": "execute_result"
        }
      ],
      "source": [
        "multiquery_retriever_cal"
      ]
    },
    {
      "cell_type": "code",
      "execution_count": 195,
      "metadata": {
        "colab": {
          "base_uri": "https://localhost:8080/"
        },
        "id": "jsz_kGch2Ach",
        "outputId": "ccf950b6-6089-4333-eaee-e1289edfb8c6"
      },
      "outputs": [
        {
          "data": {
            "text/plain": [
              "[Document(metadata={'author': 'George B. Thomas', 'creationdate': '2015-11-19T23:42:40+05:30', 'creator': 'Adobe InDesign CS5 (7.0)', 'enhanced': 'By PDF Enhancer 3.5.6412/Unix', 'moddate': '2016-08-20T17:50:16+02:00', 'page': 483.0, 'page_label': '469', 'producer': 'Foxit PDF SDK DLL 3.1 - Foxit Software', 'source': \"/content/George B. Thomas Jr., Maurice D. Weir, Joel R. Hass - Thomas' Calculus-Pearson (2014).pdf\", 'spdf': '1127', 'title': 'Thomas’ Calculus', 'total_pages': 1191.0}, page_content='8.5\\xa0\\xa0Integration of Rational Functions by Partial Fractions 469\\ngeneral Description of the Method\\nSuccess in writing a rational function ƒ(x)>g(x) as a sum of partial fractions depends on \\ntwo things:\\n●\\t The degree of ƒ(x) must be less than the degree of g(x). That is, the fraction must be \\nproper. If it isn’t, divide ƒ(x) by g(x) and work with the remainder term. Example 3 of \\nthis section illustrates such a case.\\n●\\t We must know the factors of g(x). In theory, any polynomial with real coefficients can \\nbe written as a product of real linear factors and real quadratic factors. In practice, the \\nfactors may be hard to find.\\nHere is how we find the partial fractions of a proper fraction \\nƒ(x)>g(x) when the factors of \\ng are known. A quadratic polynomial (or factor) is irreducible if it cannot be written as \\nthe product of two linear factors with real coefficients. That is, the polynomial has no real \\nroots.\\nMethod of Partial Fractions when \\nƒ(x) ,g(x) is Proper')]"
            ]
          },
          "execution_count": 195,
          "metadata": {},
          "output_type": "execute_result"
        }
      ],
      "source": [
        "multiquery_retriever_cal.invoke(\"Method of Partial Fractions when ƒ(x),g(x) is Proper\")"
      ]
    },
    {
      "cell_type": "markdown",
      "metadata": {
        "id": "eVWaJJSikgo4"
      },
      "source": [
        "# **Step 3 → Tool Definitions**"
      ]
    },
    {
      "cell_type": "code",
      "execution_count": 116,
      "metadata": {
        "id": "YSlRcMdikjPw"
      },
      "outputs": [],
      "source": [
        "from agents import function_tool\n",
        "from langchain_core.runnables import RunnableParallel, RunnablePassthrough, RunnableLambda\n",
        "from langchain_core.output_parsers import StrOutputParser"
      ]
    },
    {
      "cell_type": "code",
      "execution_count": 117,
      "metadata": {
        "id": "5f510gYHklLf"
      },
      "outputs": [],
      "source": [
        "def format_docs(retrieved_docs):\n",
        "    print(f\"[Debug] Retrieved documents: {retrieved_docs}\") # Added debug print\n",
        "    context_text = \"\\n\\n\".join(doc.page_content for doc in retrieved_docs)\n",
        "    return context_text\n",
        "llm = GoogleGenerativeAI(model=\"models/gemini-1.5-flash\")"
      ]
    },
    {
      "cell_type": "markdown",
      "metadata": {
        "id": "z1MZunr9kmme"
      },
      "source": [
        "## **Linear Algebra**"
      ]
    },
    {
      "cell_type": "code",
      "execution_count": 118,
      "metadata": {
        "id": "20tYp50Ikogg"
      },
      "outputs": [],
      "source": [
        "@function_tool\n",
        "def answer_from_linear_algebra(query:str)->str:\n",
        "  \"\"\"\n",
        "  Answer questions about linear algebra using structured RAG chain\n",
        "  \"\"\"\n",
        "  print(f\"[Debug] answer_from_linear_algebra function call with query {query}\")\n",
        "  parallel_chain = RunnableParallel({\n",
        "    'context': multiquery_retriever_lin | RunnableLambda(format_docs),\n",
        "    'question': RunnablePassthrough()\n",
        "  }\n",
        "  )\n",
        "\n",
        "  prompt = PromptTemplate.from_template(\n",
        "        \"\"\"You are a linear algebra expert. Answer the question using only the provided context.\n",
        "\n",
        "        Context: {context}\n",
        "        Question: {question}\n",
        "\n",
        "        Answer:\"\"\"\n",
        "    )\n",
        "\n",
        "  parser = StrOutputParser()\n",
        "\n",
        "  main_chain = parallel_chain | prompt | llm | parser\n",
        "  result = main_chain.invoke(query)\n",
        "  print(f\"[Debug] RAG function call with response ***{result}***\")\n",
        "  return result"
      ]
    },
    {
      "cell_type": "markdown",
      "metadata": {
        "id": "8HWzcrczkqRn"
      },
      "source": [
        "## **Discrete Structures**"
      ]
    },
    {
      "cell_type": "code",
      "execution_count": 119,
      "metadata": {
        "id": "UosI0t8kkr6D"
      },
      "outputs": [],
      "source": [
        "@function_tool\n",
        "def answer_from_discrete_structures(query:str)->str:\n",
        "  \"\"\"\n",
        "  Answer questions about discrete structures using structured RAG chain\n",
        "  \"\"\"\n",
        "  print(f\"[Debug] answer_from_discrete_structures function call with query {query}\")\n",
        "  parallel_chain = RunnableParallel({\n",
        "    'context': multiquery_retriever_dis | RunnableLambda(format_docs),\n",
        "    'question': RunnablePassthrough()\n",
        "  }\n",
        "  )\n",
        "\n",
        "  prompt = PromptTemplate.from_template(\n",
        "        \"\"\"You are a discrete structures expert. Answer the question using only the provided context.\n",
        "\n",
        "        Context: {context}\n",
        "        Question: {question}\n",
        "\n",
        "        Answer:\"\"\"\n",
        "    )\n",
        "\n",
        "  parser = StrOutputParser()\n",
        "\n",
        "  main_chain = parallel_chain | prompt | llm | parser\n",
        "  result = main_chain.invoke(query)\n",
        "  print(f\"[Debug] RAG function call with response ***{result}***\")\n",
        "  return result"
      ]
    },
    {
      "cell_type": "markdown",
      "metadata": {
        "id": "9ZZzyn9b6I7v"
      },
      "source": [
        "## **Calculas & Analytical Geometry**"
      ]
    },
    {
      "cell_type": "code",
      "execution_count": 203,
      "metadata": {
        "id": "Omb7FI5F6PHn"
      },
      "outputs": [],
      "source": [
        "@function_tool\n",
        "def answer_from_calana(query:str)->str:\n",
        "  \"\"\"\n",
        "  Answer questions about calculas and analytical geometry structures using structured RAG chain\n",
        "  \"\"\"\n",
        "  print(f\"[Debug] answer_from_calana function call with query {query}\")\n",
        "  parallel_chain = RunnableParallel({\n",
        "    'context': multiquery_retriever_cal | RunnableLambda(format_docs),\n",
        "    'question': RunnablePassthrough()\n",
        "  }\n",
        "  )\n",
        "\n",
        "  prompt = PromptTemplate.from_template(\n",
        "        \"\"\"You are a discrete structures expert. Answer the question using only the provided context.\n",
        "\n",
        "        Context: {context}\n",
        "        Question: {question}\n",
        "\n",
        "        Answer:\"\"\"\n",
        "    )\n",
        "\n",
        "  parser = StrOutputParser()\n",
        "\n",
        "  main_chain = parallel_chain | prompt | llm | parser\n",
        "  result = main_chain.invoke(query)\n",
        "  print(f\"[Debug] RAG function call with response ***{result}***\")\n",
        "  return result"
      ]
    },
    {
      "cell_type": "markdown",
      "metadata": {
        "id": "DI6q-l9r7zxQ"
      },
      "source": [
        "# **Agentic Rag Final Form**"
      ]
    },
    {
      "cell_type": "code",
      "execution_count": 162,
      "metadata": {
        "colab": {
          "base_uri": "https://localhost:8080/"
        },
        "id": "c6tEFjAvkxqT",
        "outputId": "3595a5d3-d5c3-4cc7-f2b4-43c8f8511d35"
      },
      "outputs": [
        {
          "name": "stdout",
          "output_type": "stream",
          "text": [
            "[Debug] answer_from_linear_algebra function call with query What is the definition of Diagonalization in linear algebra?\n",
            "[Debug] Retrieved documents: [Document(metadata={'author': '', 'codemantra, llc': 'http://www.codemantra.com', 'creationdate': '2015-01-21T14:42:45+05:30', 'creator': 'HELIOS pdfcat', 'moddate': \"D:20240310035050Z00'00\", 'page': 110.0, 'page_label': '94', 'producer': 'xdvipdfmx (0.7.9)', 'source': '/content/Linear_Algebra.pdf', 'title': '0321982630.pdf', 'total_pages': 579.0, 'universal pdf': 'The process that creates this PDF constitutes a trade secret of codeMantra, LLC and is protected by the copyright laws of the United States'}, page_content='modern uses of linear algebra. Sections 2.6 and 2.7 describe two interesting applications\\nof matrix algebra, to economics and to computer graphics.\\n2.1 MATRIX OPERATIONS\\nIf A is an m \\x02 n matrix—that is, a matrix withm rows and n columns—then the scalar\\nentry in the ith row and j th column of A is denoted by aij and is called the .i; j /-entry\\nof A. See Figure 1. For instance, the.3; 2/-entry is the number a32 in the third row,\\nsecond column. Each column ofA is a list of m real numbers, which identiﬁes a vector\\nin Rm. Often, these columns are denoted bya1; : : : ; an, and the matrixA is written as\\nA D\\n\\x02a1 a2 \\x01\\x01\\x01 an\\n\\x03\\nObserve that the number aij is the ith entry (from the top) of the j th column vector aj .\\nThe diagonal entries in an m \\x02 n matrix A D \\x8c aij \\x8d are a11; a22; a33; : : : ; and they\\nform the main diagonal of A. A diagonal matrix is a square n \\x02 n matrix whose\\nnondiagonal entries are zero. An example is the n \\x02 n identity matrix, In. Anm \\x02 n'), Document(metadata={'author': '', 'codemantra, llc': 'http://www.codemantra.com', 'creationdate': '2015-01-21T14:42:45+05:30', 'creator': 'HELIOS pdfcat', 'moddate': \"D:20240310035050Z00'00\", 'page': 300.0, 'page_label': '284', 'producer': 'xdvipdfmx (0.7.9)', 'source': '/content/Linear_Algebra.pdf', 'title': '0321982630.pdf', 'total_pages': 579.0, 'universal pdf': 'The process that creates this PDF constitutes a trade secret of codeMantra, LLC and is protected by the copyright laws of the United States'}, page_content='The next theorem gives a characterization of diagonalizable matrices and tells how to\\nconstruct a suitable factorization.\\nT H E O R E M 5The Diagonalization Theorem\\nAn n \\x02 n matrix A is diagonalizable if and only if A has n linearly independent\\neigenvectors.\\nIn fact, A D PDP\\x001, withD a diagonal matrix, if and only if the columns of\\nP are n linearly independent eigenvectors of A. In this case, the diagonal entries\\nof D are eigenvalues of A that correspond, respectively, to the eigenvectors inP .\\nIn other words, A is diagonalizable if and only if there are enough eigenvectors to\\nform a basis of Rn. We call such a basis aneigenvector basis of Rn.\\nPROOF First, observe that ifP is any n \\x02 n matrix with columns v1; : : : ; vn, and ifD\\nis any diagonal matrix with diagonal entries \\x151; : : : ; \\x15n, then\\nAP D A\\x8c v1 v2 \\x01\\x01\\x01 vn \\x8d D \\x8c Av1 Av2 \\x01\\x01\\x01 Avn \\x8d (1)\\nwhile\\nPD D P\\n2\\n6664\\n\\x151 0 \\x01\\x01\\x01 0\\n0 \\x15 2 \\x01\\x01\\x01 0\\n::: ::: :::\\n0 0 \\x01\\x01\\x01 \\x15n\\n3\\n7775D \\x8c \\x151v1 \\x152v2 \\x01\\x01\\x01 \\x15nvn \\x8d (2)\\nSECOND REVISED PAGES'), Document(metadata={'author': '', 'codemantra, llc': 'http://www.codemantra.com', 'creationdate': '2015-01-21T14:42:45+05:30', 'creator': 'HELIOS pdfcat', 'moddate': \"D:20240310035050Z00'00\", 'page': 344.0, 'page_label': '328', 'producer': 'xdvipdfmx (0.7.9)', 'source': '/content/Linear_Algebra.pdf', 'title': '0321982630.pdf', 'total_pages': 579.0, 'universal pdf': 'The process that creates this PDF constitutes a trade secret of codeMantra, LLC and is protected by the copyright laws of the United States'}, page_content='328 CHAPTER 5 Eigenvalues and Eigenvectors\\nCHAPTER 5 SUPPLEMENTARY EXERCISES\\nThroughout these supplementary exercises, A and B represent\\nsquare matrices of appropriate sizes.\\n1. Mark each statement as True or False. Justify each answer.\\na. If A is invertible and 1 is an eigenvalue for A, then 1 is\\nalso an eigenvalue of A\\x001.\\nb. If A is row equivalent to the identity matrix I, thenA is\\ndiagonalizable.\\nc. If A contains a row or column of zeros, then 0 is an\\neigenvalue of A.\\nd. Each eigenvalue of A is also an eigenvalue of A2.\\ne. Each eigenvector of A is also an eigenvector of A2.\\nf. Each eigenvector of an invertible matrix A is also an\\neigenvector of A\\x001.\\ng. Eigenvalues must be nonzero scalars.\\nh. Eigenvectors must be nonzero vectors.\\ni. Two eigenvectors corresponding to the same eigenvalue\\nare always linearly dependent.\\nj. Similar matrices always have exactly the same eigen-\\nvalues.\\nk. Similar matrices always have exactly the same eigen-\\nvectors.')]\n",
            "[Debug] RAG function call with response ***An n x n matrix A is diagonalizable if and only if A has n linearly independent eigenvectors.  In this case, A = PDP⁻¹, where D is a diagonal matrix and the columns of P are n linearly independent eigenvectors of A.  The diagonal entries of D are the eigenvalues of A corresponding to the eigenvectors in P.  In other words, A is diagonalizable if and only if there are enough eigenvectors to form a basis of Rⁿ.***\n",
            "Agent's answer: Diagonalization of a matrix A means finding an invertible matrix P and a diagonal matrix D such that A = PDP⁻¹.  This is only possible if A has n linearly independent eigenvectors, where n is the dimension of A.  The columns of P are the eigenvectors of A, and the diagonal entries of D are the corresponding eigenvalues.  In essence, diagonalization transforms a matrix into a simpler, diagonal form that reveals its eigenvalues and eigenvectors.\n",
            "\n"
          ]
        }
      ],
      "source": [
        "import asyncio\n",
        "qa_agent = Agent(\n",
        "    name=\"QA Agent\",\n",
        "    instructions=\"\"\"\n",
        "  If your first tool call does not return enough context:\n",
        "1. Reformulate the query into different variations (e.g., synonyms, break into sub-questions).\n",
        "2. Retry calling the tool with these variations.\n",
        "3. Only stop retrying when:\n",
        "   - You have enough content to give a complete answer, OR\n",
        "   - All query reformulations have been exhausted.\n",
        "\n",
        "Never respond to the student without making at least 2 attempts at retrieval.\n",
        "    \"\"\",\n",
        "    tools=[answer_from_linear_algebra,answer_from_discrete_structures,answer_from_calana ],\n",
        "    # Use OpenAIChatCompletionsModel with the pre-configured external_client\n",
        "    model=model,\n",
        ")\n",
        "\n",
        "async def main():\n",
        "    agent_question = \"From linear algebra, Tell me about the definition Diognalization.\"\n",
        "\n",
        "    # Run the agent\n",
        "    result = await Runner.run(qa_agent, agent_question)\n",
        "\n",
        "    # Extract and print the final answer\n",
        "    # print(\"Agent result:\", result)\n",
        "    print(\"Agent's answer:\", result.final_output)\n",
        "\n",
        "if __name__ == \"__main__\":\n",
        "    asyncio.run(main())"
      ]
    },
    {
      "cell_type": "code",
      "execution_count": 204,
      "metadata": {
        "colab": {
          "base_uri": "https://localhost:8080/"
        },
        "id": "QmJRYHYC6rbu",
        "outputId": "98ebb76d-e10d-4707-9999-130ef083214b"
      },
      "outputs": [
        {
          "name": "stdout",
          "output_type": "stream",
          "text": [
            "[Debug] answer_from_calana function call with query What is Method of Partial Fractions when ƒ(x),g(x) is Proper?\n",
            "[Debug] Retrieved documents: [Document(metadata={'author': 'George B. Thomas', 'creationdate': '2015-11-19T23:42:40+05:30', 'creator': 'Adobe InDesign CS5 (7.0)', 'enhanced': 'By PDF Enhancer 3.5.6412/Unix', 'moddate': '2016-08-20T17:50:16+02:00', 'page': 483.0, 'page_label': '469', 'producer': 'Foxit PDF SDK DLL 3.1 - Foxit Software', 'source': \"/content/George B. Thomas Jr., Maurice D. Weir, Joel R. Hass - Thomas' Calculus-Pearson (2014).pdf\", 'spdf': '1127', 'title': 'Thomas’ Calculus', 'total_pages': 1191.0}, page_content='8.5\\xa0\\xa0Integration of Rational Functions by Partial Fractions 469\\ngeneral Description of the Method\\nSuccess in writing a rational function ƒ(x)>g(x) as a sum of partial fractions depends on \\ntwo things:\\n●\\t The degree of ƒ(x) must be less than the degree of g(x). That is, the fraction must be \\nproper. If it isn’t, divide ƒ(x) by g(x) and work with the remainder term. Example 3 of \\nthis section illustrates such a case.\\n●\\t We must know the factors of g(x). In theory, any polynomial with real coefficients can \\nbe written as a product of real linear factors and real quadratic factors. In practice, the \\nfactors may be hard to find.\\nHere is how we find the partial fractions of a proper fraction \\nƒ(x)>g(x) when the factors of \\ng are known. A quadratic polynomial (or factor) is irreducible if it cannot be written as \\nthe product of two linear factors with real coefficients. That is, the polynomial has no real \\nroots.\\nMethod of Partial Fractions when \\nƒ(x) ,g(x) is Proper'), Document(metadata={'author': 'George B. Thomas', 'creationdate': '2015-11-19T23:42:40+05:30', 'creator': 'Adobe InDesign CS5 (7.0)', 'enhanced': 'By PDF Enhancer 3.5.6412/Unix', 'moddate': '2016-08-20T17:50:16+02:00', 'page': 1072.0, 'page_label': 'AP-26', 'producer': 'Foxit PDF SDK DLL 3.1 - Foxit Software', 'source': \"/content/George B. Thomas Jr., Maurice D. Weir, Joel R. Hass - Thomas' Calculus-Pearson (2014).pdf\", 'spdf': '1127', 'title': 'Thomas’ Calculus', 'total_pages': 1191.0}, page_content='find n and sometimes they cannot. Using their imagination, they may be inspired to invent \\nstill more numbers and introduce fractions, which are just ordered pairs m\\n> n of integers m \\nand n. The number zero has special properties that may bother them for a while, but they \\nultimately discover that it is handy to have all ratios of integers m> n, excluding only those \\nhaving zero in the denominator. This system, called the set of rational numbers, is now \\nrich enough for them to perform the rational operations of arithmetic:\\nZ01_THOM4077_App_ppAP01-AP40.indd   26 8/6/13   9:09 AM'), Document(metadata={'author': 'George B. Thomas', 'creationdate': '2015-11-19T23:42:40+05:30', 'creator': 'Adobe InDesign CS5 (7.0)', 'enhanced': 'By PDF Enhancer 3.5.6412/Unix', 'moddate': '2016-08-20T17:50:16+02:00', 'page': 66.0, 'page_label': '52', 'producer': 'Foxit PDF SDK DLL 3.1 - Foxit Software', 'source': \"/content/George B. Thomas Jr., Maurice D. Weir, Joel R. Hass - Thomas' Calculus-Pearson (2014).pdf\", 'spdf': '1127', 'title': 'Thomas’ Calculus', 'total_pages': 1191.0}, page_content='point c. If the denominator is zero, canceling common factors in the numerator and \\ndenominator may reduce the fraction to one whose denominator is no longer zero at c. If \\nthis happens, we can find the limit by substitution in the simplified fraction.\\nIdentifying Common Factors\\nIt can be shown that if \\nQ(x) is a poly-\\nnomial and Q(c) = 0, then (x - c) is \\na factor of Q(x). Thus, if the numerator \\nand denominator of a rational function \\nof x are both zero at \\nx = c, they have \\n(x - c) as a common factor.\\n52 Chapter 2: Limits and Continuity\\nM02_THOM8960_CH02_pp041-104.indd   52 10/31/13   3:33 PM'), Document(metadata={'author': 'George B. Thomas', 'creationdate': '2015-11-19T23:42:40+05:30', 'creator': 'Adobe InDesign CS5 (7.0)', 'enhanced': 'By PDF Enhancer 3.5.6412/Unix', 'moddate': '2016-08-20T17:50:16+02:00', 'page': 251.0, 'page_label': '237', 'producer': 'Foxit PDF SDK DLL 3.1 - Foxit Software', 'source': \"/content/George B. Thomas Jr., Maurice D. Weir, Joel R. Hass - Thomas' Calculus-Pearson (2014).pdf\", 'spdf': '1127', 'title': 'Thomas’ Calculus', 'total_pages': 1191.0}, page_content='we can evaluate the integral as\\n    antiderivative$++%++&\\nL\\n(x2 - 2x + 5) dx = x3\\n3 - x2 + 5x + C.\"\\narbitrary constant\\n 4.7 \\xa0\\xa0Antiderivatives  237\\nM04_THOM8960_CH04_pp185-248.indd   237 10/23/13   3:50 PM'), Document(metadata={'author': 'George B. Thomas', 'creationdate': '2015-11-19T23:42:40+05:30', 'creator': 'Adobe InDesign CS5 (7.0)', 'enhanced': 'By PDF Enhancer 3.5.6412/Unix', 'moddate': '2016-08-20T17:50:16+02:00', 'page': 482.0, 'page_label': '468', 'producer': 'Foxit PDF SDK DLL 3.1 - Foxit Software', 'source': \"/content/George B. Thomas Jr., Maurice D. Weir, Joel R. Hass - Thomas' Calculus-Pearson (2014).pdf\", 'spdf': '1127', 'title': 'Thomas’ Calculus', 'total_pages': 1191.0}, page_content='30 ft rope\\ny /uni003D f(x) path of skier\\nboat\\n8.5  integration of rational Functions by Partial Fractions\\nThis section shows how to express a rational function (a quotient of polynomials) as a sum \\nof simpler fractions, called partial fractions, which are easily integrated. For instance, the \\nrational function \\n(5x - 3)>(x2 - 2x - 3) can be rewritten as\\n5x - 3\\nx2 - 2x - 3 = 2\\nx + 1 + 3\\nx - 3.\\nYou can verify this equation algebraically by placing the fractions on the right side over a \\ncommon denominator \\n(x + 1)(x - 3). The skill acquired in writing rational functions as \\nsuch a sum is useful in other settings as well (for instance, when using certain transform \\nmethods to solve differential equations). To integrate the rational function \\n(5x - 3)>(x2 - 2x - 3) on the left side of our previous expression, we simply sum the \\nintegrals of the fractions on the right side:\\n \\nL\\n5x - 3\\n(x + 1)(x - 3) dx =\\nL\\n2\\nx + 1 dx +\\nL\\n3\\nx - 3 dx\\n = 2 ln 0 x + 1 0 + 3 ln 0 x - 3 0 + C.'), Document(metadata={'author': 'George B. Thomas', 'creationdate': '2015-11-19T23:42:40+05:30', 'creator': 'Adobe InDesign CS5 (7.0)', 'enhanced': 'By PDF Enhancer 3.5.6412/Unix', 'moddate': '2016-08-20T17:50:16+02:00', 'page': 105.0, 'page_label': '91', 'producer': 'Foxit PDF SDK DLL 3.1 - Foxit Software', 'source': \"/content/George B. Thomas Jr., Maurice D. Weir, Joel R. Hass - Thomas' Calculus-Pearson (2014).pdf\", 'spdf': '1127', 'title': 'Thomas’ Calculus', 'total_pages': 1191.0}, page_content='Oblique Asymptotes\\nIf the degree of the numerator of a rational function is 1 greater than the degree of the \\ndenominator, the graph has an oblique or slant line asymptote. We find an equation for \\nthe asymptote by dividing numerator by denominator to express \\nƒ as a linear function plus \\na remainder that goes to zero as x S {q.\\nExamplE 9  Find the oblique asymptote of the graph of\\nƒ(x) = x2 - 3\\n2x - 4\\nin Figure 2.57.\\nSolution\\n We are interested in the behavior as x S {q. We divide (2x - 4) into \\n(x2 - 3):\\nx\\n2 + 1   \\n2x - 4/uni0029.altx2 - 3   \\nx2 - 2x  \\n2x - 3\\n2x - 4\\n1\\nThis tells us that\\nƒ(x) = x2 - 3\\n2x - 4 = ¢ x\\n2 + 1≤ + ¢ 1\\n2x - 4≤ .\\n        ()* (1)1*\\n linear g(x) remainder\\nAs x S {q, the remainder, whose magnitude gives the vertical distance between the \\ngraphs of ƒ and g, goes to zero, making the slanted line\\ng(x) = x\\n2 + 1\\nan asymptote of the graph of ƒ (Figure 2.57). The line y = g(x) is an asymptote both to the')]\n",
            "[Debug] RAG function call with response ***The provided text describes the method of partial fractions for proper fractions ƒ(x)/g(x)  as follows:  The degree of ƒ(x) must be less than the degree of g(x).  The factors of g(x) must be known.  A quadratic polynomial is irreducible if it cannot be written as the product of two linear factors with real coefficients (meaning it has no real roots).***\n",
            "Agent's answer: The method of partial fractions, when dealing with a proper rational function ƒ(x)/g(x),  requires that the degree of the numerator ƒ(x) be strictly less than the degree of the denominator g(x).  The denominator g(x) needs to be factored completely.  If g(x) contains an irreducible quadratic factor (a quadratic that cannot be factored into linear terms with real coefficients), the corresponding partial fraction will have a linear numerator over the quadratic factor.\n",
            "\n"
          ]
        }
      ],
      "source": [
        "import asyncio\n",
        "qa_agent = Agent(\n",
        "    name=\"QA Agent\",\n",
        "    instructions=\"\"\"\n",
        "  If your first tool call does not return enough context:\n",
        "1. Reformulate the query into different variations (e.g., synonyms, break into sub-questions).\n",
        "2. Retry calling the tool with these variations.\n",
        "3. Only stop retrying when:\n",
        "   - You have enough content to give a complete answer, OR\n",
        "   - All query reformulations have been exhausted.\n",
        "\n",
        "Never respond to the student without making at least 2 attempts at retrieval.\n",
        "    \"\"\",\n",
        "    tools=[answer_from_linear_algebra,answer_from_discrete_structures,answer_from_calana ],\n",
        "    # Use OpenAIChatCompletionsModel with the pre-configured external_client\n",
        "    model=model,\n",
        ")\n",
        "\n",
        "async def main():\n",
        "    agent_question = \"From calana, what is Method of Partial Fractions when ƒ(x),g(x) is Proper\"\n",
        "\n",
        "    # Run the agent\n",
        "    result = await Runner.run(qa_agent, agent_question)\n",
        "\n",
        "    # Extract and print the final answer\n",
        "    # print(\"Agent result:\", result)\n",
        "    print(\"Agent's answer:\", result.final_output)\n",
        "\n",
        "if __name__ == \"__main__\":\n",
        "    asyncio.run(main())"
      ]
    },
    {
      "cell_type": "code",
      "execution_count": null,
      "metadata": {
        "id": "XwBOflBvlmld"
      },
      "outputs": [],
      "source": []
    }
  ],
  "metadata": {
    "colab": {
      "provenance": []
    },
    "kernelspec": {
      "display_name": ".venv",
      "language": "python",
      "name": "python3"
    },
    "language_info": {
      "name": "python",
      "version": "3.12.10"
    }
  },
  "nbformat": 4,
  "nbformat_minor": 0
}
